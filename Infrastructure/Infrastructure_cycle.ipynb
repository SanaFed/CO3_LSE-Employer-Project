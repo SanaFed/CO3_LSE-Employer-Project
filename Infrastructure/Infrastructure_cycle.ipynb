{
 "cells": [
  {
   "cell_type": "code",
   "execution_count": null,
   "id": "12672f63",
   "metadata": {},
   "outputs": [],
   "source": [
    "# Import all the necessary packages.\n",
    "import pandas as pd\n",
    "import numpy as np\n",
    "import matplotlib.pyplot as plt\n",
    "import seaborn as sns\n",
    "\n",
    "# Optional - Ignore warnings.\n",
    "import warnings\n",
    "warnings.filterwarnings('ignore')"
   ]
  },
  {
   "cell_type": "markdown",
   "id": "0c010a15",
   "metadata": {},
   "source": [
    "In this part we use .csv files generated using R script to get infrastructure from TFL database.\n",
    "We analyse the following infrastructure:\n",
    "- parking capacity\n",
    "- cycle lanes length:\n",
    "    -  segregated fully and partially\n",
    "    - cycle lanes and tracks along waterways and in the parks\n",
    "- traffic calming measures (speed humps, road narrowing etc.)\n",
    "- Advanced Stop Lines (ASL) length (junction safety)\n",
    "- signal lights for cyclists (junction safety)\n",
    "- crossings for cyclists (junction safety)"
   ]
  },
  {
   "cell_type": "markdown",
   "id": "b0fb3be1",
   "metadata": {},
   "source": [
    "# CYCLE PARKING"
   ]
  },
  {
   "cell_type": "code",
   "execution_count": null,
   "id": "f00f57a1",
   "metadata": {},
   "outputs": [],
   "source": [
    "# Read the provided CSV file: cycle_parking.csv.\n",
    "cycle_parking = pd.read_csv('cycle_parking.csv') \n",
    "\n",
    "# View the DataFrame, types and shape of the data.\n",
    "print(cycle_parking.shape)\n",
    "print(cycle_parking.dtypes)\n",
    "cycle_parking.head()"
   ]
  },
  {
   "cell_type": "code",
   "execution_count": null,
   "id": "b506c635",
   "metadata": {},
   "outputs": [],
   "source": [
    "# Determine whether there are missing values.\n",
    "cycle_parking.isnull().sum()"
   ]
  },
  {
   "cell_type": "code",
   "execution_count": null,
   "id": "3d3012bc",
   "metadata": {},
   "outputs": [],
   "source": [
    "# Determine the metadata of the data set.\n",
    "cycle_parking.info()"
   ]
  },
  {
   "cell_type": "code",
   "execution_count": null,
   "id": "2dcbbfd4",
   "metadata": {},
   "outputs": [],
   "source": [
    "# Convert 'SVDATE' column to datetime dtype.\n",
    "cycle_parking['SVDATE'] = pd.to_datetime(cycle_parking['SVDATE'])\n",
    "# Check the types.\n",
    "cycle_parking.info()"
   ]
  },
  {
   "cell_type": "code",
   "execution_count": null,
   "id": "8e1d2079",
   "metadata": {},
   "outputs": [],
   "source": [
    "# Determine the descriptive statistics of the data set.\n",
    "cycle_parking.describe()"
   ]
  },
  {
   "cell_type": "code",
   "execution_count": null,
   "id": "0ad9487c",
   "metadata": {},
   "outputs": [],
   "source": [
    "# Import and sense-check the boroughs.csv data set as boroughs.\n",
    "boroughs = pd.read_csv('boroughs.csv') \n",
    "\n",
    "# View the DataFrame, shape and type of data.\n",
    "print(boroughs.shape)\n",
    "print(boroughs.dtypes)\n",
    "boroughs.head()"
   ]
  },
  {
   "cell_type": "code",
   "execution_count": null,
   "id": "1e2b78f1",
   "metadata": {},
   "outputs": [],
   "source": [
    "# Merge to add information about Inner/Outer area of London with the cycle_parking.\n",
    "cycle_parking = pd.merge(cycle_parking, boroughs, how='left', on = 'BOROUGH')\n",
    "\n",
    "# View the result.\n",
    "cycle_parking.head()"
   ]
  },
  {
   "cell_type": "code",
   "execution_count": null,
   "id": "a3eda8a7",
   "metadata": {},
   "outputs": [],
   "source": [
    "# Histogram to see the distribution of data.\n",
    "sns.histplot(data = cycle_parking, x = 'SVDATE', color = 'blue', bins = 30, kde = True)"
   ]
  },
  {
   "cell_type": "markdown",
   "id": "e7a9a60d",
   "metadata": {},
   "source": [
    "note: most of the information about cycle lanes was updated in 2017. Most probably 2017 includes all cycle lanes built earlier and it is the first survey done by TFL."
   ]
  },
  {
   "cell_type": "code",
   "execution_count": null,
   "id": "10205406",
   "metadata": {},
   "outputs": [],
   "source": [
    "# Determine boroughs WITH LARGEST cycle parking capacity in Inner and Outer London.\n",
    "df_parking = cycle_parking.groupby(['Area', 'BOROUGH']) \\\n",
    "                                    ['PRK_CARR', 'PRK_COVER', 'PRK_LOCKER',\n",
    "                                    'PRK_SHEFF', 'PRK_MSTAND', 'PRK_PSTAND',\n",
    "                                    'PRK_HOOP', 'PRK_POST', 'PRK_BUTERF',\n",
    "                                    'PRK_WHEEL', 'PRK_HANGAR', 'PRK_TIER',\n",
    "                                    'PRK_OTHER', 'PRK_PROVIS', 'PRK_CPT'].sum() \\\n",
    "                            .reset_index() \\\n",
    "                            .sort_values(by= ['Area', 'PRK_CPT'])\n",
    "df_parking.head()"
   ]
  },
  {
   "cell_type": "code",
   "execution_count": null,
   "id": "892855af",
   "metadata": {},
   "outputs": [],
   "source": [
    "# Overview summary statistics.\n",
    "df_parking.describe()"
   ]
  },
  {
   "cell_type": "markdown",
   "id": "df46b4be",
   "metadata": {},
   "source": [
    "- There are 33 boroughs in the dataframe.\n",
    "- In average there are 2049 parking sites for 4422 cycles in every borough.\n",
    "- Maximum number of parking sites is 5332.\n",
    "- Sheffield stand is the most frequent kind of cycle parking in London's borough (mean of 531).\n",
    "- Post stand has less than 1 mean value and the rarest in London (0.76)"
   ]
  },
  {
   "cell_type": "code",
   "execution_count": null,
   "id": "91bee172",
   "metadata": {},
   "outputs": [],
   "source": [
    "# Export .csv with information on cycle parking by borough.\n",
    "df_parking.to_csv('df_parking.csv')"
   ]
  },
  {
   "cell_type": "code",
   "execution_count": null,
   "id": "f85a8a26",
   "metadata": {},
   "outputs": [],
   "source": [
    "# Visualize the distribution of cycle capacity between boroues in Inner and Outer London.\n",
    "\n",
    "# Set figure size.\n",
    "sns.set(rc={'figure.figsize':(15, 12)})\n",
    "\n",
    "# Set the plot style as darkgrid.\n",
    "sns.set_style('darkgrid')\n",
    "\n",
    "# Create a barplot showing the parking capacity for each borough.\n",
    "b=sns.barplot(y='BOROUGH', x='PRK_CPT', data=df_parking, color = 'royalblue')\n",
    "\n",
    "# Annotate the axes, labels and ticks.\n",
    "plt.yticks(fontsize=25)\n",
    "plt.xticks(fontsize=30)\n",
    "b.set_ylabel('Borough', fontsize=35, color = 'white')\n",
    "b.set_xlabel('Parking Capacity', fontsize=35)\n",
    "b.set_title('Cycle Parkings Capacity by Borough', fontsize=40)\n",
    "i=0"
   ]
  },
  {
   "cell_type": "markdown",
   "id": "c20304dc",
   "metadata": {},
   "source": [
    "# CYCLE LANES"
   ]
  },
  {
   "cell_type": "code",
   "execution_count": null,
   "id": "b8bc01f2",
   "metadata": {},
   "outputs": [],
   "source": [
    "# Read the provided CSV file: cycle_lane.csv.\n",
    "cycle_lane = pd.read_csv('cycle_lane.csv')\n",
    "\n",
    "# View the DataFrame, types and shape of the data.\n",
    "print(cycle_lane.shape)\n",
    "print(cycle_lane.dtypes)\n",
    "cycle_lane.head()"
   ]
  },
  {
   "cell_type": "code",
   "execution_count": null,
   "id": "97f7a285",
   "metadata": {},
   "outputs": [],
   "source": [
    "# Determine whether there are missing values.\n",
    "cycle_lane.isnull().sum()"
   ]
  },
  {
   "cell_type": "code",
   "execution_count": null,
   "id": "4ba1f218",
   "metadata": {},
   "outputs": [],
   "source": [
    "# Determine the metadata of the data set.\n",
    "cycle_lane.info()"
   ]
  },
  {
   "cell_type": "code",
   "execution_count": null,
   "id": "910f2fce",
   "metadata": {},
   "outputs": [],
   "source": [
    "# Convert 'SVDATE' column to datetime dtype.\n",
    "cycle_lane['SVDATE'] = pd.to_datetime(cycle_lane['SVDATE'])\n",
    "# Check the types.\n",
    "cycle_lane.info()"
   ]
  },
  {
   "cell_type": "code",
   "execution_count": null,
   "id": "d59c0df1",
   "metadata": {},
   "outputs": [],
   "source": [
    "# Merge to add information about Inner/Outer area of London to the df.\n",
    "cycle_lane = pd.merge(cycle_lane, boroughs, how='left', on = 'BOROUGH')\n",
    "cycle_lane.head()"
   ]
  },
  {
   "cell_type": "code",
   "execution_count": null,
   "id": "58ba154e",
   "metadata": {},
   "outputs": [],
   "source": [
    "# Add length in km to the dataframe.\n",
    "cycle_lane['length_km'] = cycle_lane['length_m']/1000\n",
    "cycle_lane.head()"
   ]
  },
  {
   "cell_type": "code",
   "execution_count": null,
   "id": "e90c1f6b",
   "metadata": {},
   "outputs": [],
   "source": [
    "# Determine the descriptive statistics of the data set.\n",
    "cycle_lane.describe()"
   ]
  },
  {
   "cell_type": "markdown",
   "id": "4104d66f",
   "metadata": {},
   "source": [
    "- 24690 cycles lanes defined in the dataframe.\n",
    "- Average length of 115.82 meters.\n",
    "- Maximum length of cycle lane is 19.78km."
   ]
  },
  {
   "cell_type": "code",
   "execution_count": null,
   "id": "54d9d186",
   "metadata": {},
   "outputs": [],
   "source": [
    "# Histogram to see the distribution.\n",
    "sns.histplot(data = cycle_lane, x = 'SVDATE', color = 'blue', bins = 30, kde = True)"
   ]
  },
  {
   "cell_type": "markdown",
   "id": "b987343f",
   "metadata": {},
   "source": [
    "most of information created between May 2017 and May 2018."
   ]
  },
  {
   "cell_type": "code",
   "execution_count": null,
   "id": "5530d3fb",
   "metadata": {
    "scrolled": true
   },
   "outputs": [],
   "source": [
    "# Determine boroughs with the longest cycle lanes available in Inner and Outer London.\n",
    "df_cl = cycle_lane.groupby(['Area', 'BOROUGH']) \\\n",
    "                            ['CLT_CARR', 'CLT_SEGREG', 'CLT_STEPP',\n",
    "                            'CLT_PARSEG', 'CLT_SHARED', 'CLT_MANDAT',\n",
    "                            'CLT_ADVIS', 'CLT_PRIORI', 'CLT_CONTRA',\n",
    "                            'CLT_BIDIRE', 'CLT_CBYPAS', 'CLT_BBYPAS',\n",
    "                            'CLT_BBYPAS', 'CLT_PARKR', 'CLT_WATERR',\n",
    "                            'CLT_PTIME', 'length_km'].sum() \\\n",
    "                    .reset_index().sort_values(by=['Area', 'length_km'])\n",
    "df_cl.head()"
   ]
  },
  {
   "cell_type": "code",
   "execution_count": null,
   "id": "9a20ce79",
   "metadata": {},
   "outputs": [],
   "source": [
    "# Overview summary statistics.\n",
    "df_cl.describe()"
   ]
  },
  {
   "cell_type": "code",
   "execution_count": null,
   "id": "ca42cf48",
   "metadata": {},
   "outputs": [],
   "source": [
    "# Export .csv with cycle lanes length by borough information.\n",
    "df_cl.to_csv('df_cl.csv')"
   ]
  },
  {
   "cell_type": "code",
   "execution_count": null,
   "id": "535dcf78",
   "metadata": {},
   "outputs": [],
   "source": [
    "# Visualize the distribution of cycle lanes length between boroughs in Inner and Outer London.\n",
    "\n",
    "# Set figure size.\n",
    "sns.set(rc={'figure.figsize':(15, 12)})\n",
    "# Set the plot style as darkgrid.\n",
    "sns.set_style('darkgrid')\n",
    "\n",
    "# Create a barplot with total cycle lanes length by boroughs in Inner and Outer London.\n",
    "b=sns.barplot(y='BOROUGH', x='length_km', data=df_cl, color = 'royalblue')\n",
    "\n",
    "# Annotate the axes, labels and ticks.\n",
    "plt.yticks(fontsize=25)\n",
    "plt.xticks(fontsize=30)\n",
    "b.set_ylabel('Borough', fontsize=35, color = 'white')\n",
    "b.set_xlabel('Cycle Lanes (km)', fontsize=35)\n",
    "b.set_title('Cycle Lanes Length by Borough', fontsize=40)\n",
    "i=0"
   ]
  },
  {
   "cell_type": "markdown",
   "id": "26a2c686",
   "metadata": {},
   "source": [
    "# Investigate Full and Partially Segregated Cycle Lanes."
   ]
  },
  {
   "cell_type": "code",
   "execution_count": null,
   "id": "323a004c",
   "metadata": {},
   "outputs": [],
   "source": [
    "# Create a df only for fully or patially segregated cycle lanes.\n",
    "segregate = cycle_lane[(cycle_lane['CLT_SEGREG'] != 0) | (cycle_lane['CLT_PARSEG'] != 0)]\n",
    "segregate.head()"
   ]
  },
  {
   "cell_type": "code",
   "execution_count": null,
   "id": "2d95d9c5",
   "metadata": {},
   "outputs": [],
   "source": [
    "# Determine boroughs with the longest segregated or partially segregated cycle lanes available in Inner and Outer London.\n",
    "df_seg = segregate.groupby(['Area', 'BOROUGH']) \\\n",
    "                            ['CLT_CARR', 'CLT_SEGREG', 'CLT_STEPP',\n",
    "                            'CLT_PARSEG', 'CLT_SHARED', 'CLT_MANDAT',\n",
    "                            'CLT_ADVIS', 'CLT_PRIORI', 'CLT_CONTRA',\n",
    "                            'CLT_BIDIRE', 'CLT_CBYPAS', 'CLT_BBYPAS',\n",
    "                            'CLT_BBYPAS', 'CLT_PARKR', 'CLT_WATERR',\n",
    "                            'CLT_PTIME', 'length_km'].sum() \\\n",
    "                    .reset_index().sort_values(by=['Area', 'length_km'])\n",
    "df_seg.head()"
   ]
  },
  {
   "cell_type": "code",
   "execution_count": null,
   "id": "ad6a2dea",
   "metadata": {},
   "outputs": [],
   "source": [
    "# Rename the column for the length of segregated cycle lanes.\n",
    "df_seg.rename(columns={'length_km' : 'seg_length_km'}, inplace=True)\n",
    "df_seg.head()"
   ]
  },
  {
   "cell_type": "code",
   "execution_count": null,
   "id": "3b234d4e",
   "metadata": {},
   "outputs": [],
   "source": [
    "# Create a barplot for segregated lanes in Inner and Outer London.\n",
    "b=sns.barplot(y='BOROUGH', x='seg_length_km', data=df_seg)\n",
    "\n",
    "# Annotate the axes, labels and ticks.\n",
    "b.set_xlabel('Length (km)', fontsize=15)\n",
    "b.set_ylabel('Borough', fontsize=15)\n",
    "b.set_title('Fully and Partially Segregated Lanes Length', fontsize=18)\n",
    "sns.set_style('ticks',{'axes.grid' : True})\n",
    "i=0"
   ]
  },
  {
   "cell_type": "code",
   "execution_count": null,
   "id": "60401cf8",
   "metadata": {},
   "outputs": [],
   "source": [
    "# Merge to add information about segregated lanes Inner/Outer area of London to the df.\n",
    "df_cl_seg = pd.merge(df_cl, df_seg[['BOROUGH', 'seg_length_km']], on = 'BOROUGH')\n",
    "df_cl_seg.head()"
   ]
  },
  {
   "cell_type": "code",
   "execution_count": null,
   "id": "fca809eb",
   "metadata": {},
   "outputs": [],
   "source": [
    "# Create a column with %-ge of segregated lanes out of total by borough.\n",
    "df_cl_seg['Segregated %'] = df_cl_seg['seg_length_km']/df_cl_seg['length_km']*100\n",
    "df_cl_seg = df_cl_seg.sort_values(by = ['Area', 'Segregated %'])\n",
    "df_cl_seg.head()"
   ]
  },
  {
   "cell_type": "code",
   "execution_count": null,
   "id": "d04c91cd",
   "metadata": {},
   "outputs": [],
   "source": [
    "# General statistics.\n",
    "df_cl_seg.describe()"
   ]
  },
  {
   "cell_type": "markdown",
   "id": "31b2a035",
   "metadata": {},
   "source": [
    "- On average only about 11.87% of all cycle lanes in London are fully or partially segregated.\n",
    "- It is about 10km of segregated cycle lanes by borough. Maximum is 30km.\n",
    "- Maximum is 26.42% of segregated lanes in one borough.\n",
    "- About 415 of them are located on cariageways (CLT_CARR)."
   ]
  },
  {
   "cell_type": "code",
   "execution_count": null,
   "id": "54706399",
   "metadata": {},
   "outputs": [],
   "source": [
    "# Visualize share of segregated and partially segregated cycle lanes by borough among Inner and Outer London.\n",
    "\n",
    "# Set figure size.\n",
    "sns.set(rc={'figure.figsize':(15, 12)})\n",
    "# Set the plot style as darkgrid.\n",
    "sns.set_style('darkgrid')\n",
    "\n",
    "# Create a barplot to see the %-ge of segregated lanes out of total by borough.\n",
    "b=sns.barplot(y='BOROUGH', x='Segregated %', data=df_cl_seg, color = 'royalblue')\n",
    "\n",
    "# Annotate the axes, labels and ticks.\n",
    "plt.yticks(fontsize=25)\n",
    "plt.xticks(fontsize=30)\n",
    "b.set_ylabel('Borough', fontsize=35, color = 'white')\n",
    "b.set_xlabel('Percetage', fontsize=35)\n",
    "b.set_title('Percentage of Fully or Partially Segregated Cycle Lanes by Borough', fontsize=40)\n",
    "i=0"
   ]
  },
  {
   "cell_type": "markdown",
   "id": "5b6bbac8",
   "metadata": {},
   "source": [
    "# Investigate Cycle Lanes in the Parks or Along Waterways."
   ]
  },
  {
   "cell_type": "code",
   "execution_count": null,
   "id": "baec49f0",
   "metadata": {},
   "outputs": [],
   "source": [
    "# Create a df only for cycle lanes in parks and along the riversides.\n",
    "parks = cycle_lane[(cycle_lane['CLT_PARKR'] != 0) & (cycle_lane['CLT_CARR'] == 0) | (cycle_lane['CLT_WATERR'] != 0)]\n",
    "parks.head()"
   ]
  },
  {
   "cell_type": "code",
   "execution_count": null,
   "id": "3f62b557",
   "metadata": {},
   "outputs": [],
   "source": [
    "# Determine boroughs with the longest cycle lanes in the parks or along watersides in London.\n",
    "df_parks = parks.groupby(['Area', 'BOROUGH']) \\\n",
    "                        ['CLT_CARR', 'CLT_SEGREG', 'CLT_STEPP',\n",
    "                        'CLT_PARSEG', 'CLT_SHARED', 'CLT_MANDAT',\n",
    "                        'CLT_ADVIS', 'CLT_PRIORI', 'CLT_CONTRA',\n",
    "                        'CLT_BIDIRE', 'CLT_CBYPAS', 'CLT_BBYPAS',\n",
    "                        'CLT_BBYPAS', 'CLT_PARKR', 'CLT_WATERR',\n",
    "                        'CLT_PTIME', 'length_km'].sum() \\\n",
    "                    .reset_index().sort_values(by=['Area', 'length_km'])\n",
    "df_parks.head()"
   ]
  },
  {
   "cell_type": "code",
   "execution_count": null,
   "id": "ee27aeba",
   "metadata": {},
   "outputs": [],
   "source": [
    "# Rename the column for the length of cycle lanes in the parks or watersides.\n",
    "df_parks.rename(columns={'length_km' : 'park_length_km'}, inplace=True)\n",
    "df_parks.head()"
   ]
  },
  {
   "cell_type": "code",
   "execution_count": null,
   "id": "be8c2a28",
   "metadata": {},
   "outputs": [],
   "source": [
    "# Create a barplot for park and waterside lanes in Inner and Outer London.\n",
    "b=sns.barplot(y='BOROUGH', x='park_length_km', data=df_parks)\n",
    "\n",
    "# Annotate the axes, labels and ticks.\n",
    "b.set_xlabel('Cycle Lanes Length (km)', fontsize=15)\n",
    "b.set_ylabel('Borough', fontsize=15)\n",
    "b.set_title('Parks and Waterside Cycle Lanes Length', fontsize=18)\n",
    "sns.set_style('ticks',{'axes.grid' : True})\n",
    "i=0"
   ]
  },
  {
   "cell_type": "code",
   "execution_count": null,
   "id": "40d7bbd5",
   "metadata": {},
   "outputs": [],
   "source": [
    "# Merge to add information about parks and waterside lanes Inner/Outer area of London to the df.\n",
    "df_cl_parks = pd.merge(df_cl, df_parks[['BOROUGH', 'park_length_km']], on = 'BOROUGH')\n",
    "df_cl_parks.head()"
   ]
  },
  {
   "cell_type": "code",
   "execution_count": null,
   "id": "913a9ef2",
   "metadata": {},
   "outputs": [],
   "source": [
    "# Create a column with %-ge of parks and waterside lanes out of total by borough.\n",
    "df_cl_parks['Parks %'] = df_cl_parks['park_length_km']/df_cl_parks['length_km']*100\n",
    "df_cl_parks = df_cl_parks.sort_values(by = ['Area', 'Parks %'])\n",
    "df_cl_parks.head()"
   ]
  },
  {
   "cell_type": "code",
   "execution_count": null,
   "id": "2fe08b48",
   "metadata": {},
   "outputs": [],
   "source": [
    "# Check the summary statistics.\n",
    "df_cl_parks.describe()"
   ]
  },
  {
   "cell_type": "markdown",
   "id": "a54c6474",
   "metadata": {},
   "source": [
    "- 32 boroughs (i.e. one has none cycle ways in park or along waterway)\n",
    "- Average 47.87% of cycle lanes are located in the parks or along the waterways.\n",
    "- Average length of such lanes is 44.10km.\n",
    "- In one of the borough 71.18% of cycle lanes are located in the parks or along the waterways."
   ]
  },
  {
   "cell_type": "code",
   "execution_count": null,
   "id": "0dcdccd5",
   "metadata": {},
   "outputs": [],
   "source": [
    "# Visualize %-ge of cycle lanes in the parks or along the waterways by borough in Inner and Outer London.\n",
    "\n",
    "# Set figure size.\n",
    "sns.set(rc={'figure.figsize':(15, 12)})\n",
    "# Set the plot style as darkgrid.\n",
    "sns.set_style('darkgrid')\n",
    "\n",
    "# Create a barplot to see the %-ge of parks or waterside lanes out of total by borough.\n",
    "b=sns.barplot(y='BOROUGH', x='Parks %', data=df_cl_parks, color = 'royalblue')\n",
    "\n",
    "# Annotate the axes, labels and ticks.\n",
    "plt.yticks(fontsize=25)\n",
    "plt.xticks(fontsize=30)\n",
    "b.set_ylabel('Borough', fontsize=35, color = 'white')\n",
    "b.set_xlabel('Percetage', fontsize=35)\n",
    "b.set_title('Percentage of Park or Waterside Cycle Lanes by Borough', fontsize=40)\n",
    "i=0"
   ]
  },
  {
   "cell_type": "code",
   "execution_count": null,
   "id": "23991676",
   "metadata": {},
   "outputs": [],
   "source": [
    "# Create a separate view only for the boroughs in Outer London.\n",
    "df_cl_parks_out = df_cl_parks[(df_cl_parks['Area'] == 'Outer')]\n",
    "df_cl_parks_out.head()"
   ]
  },
  {
   "cell_type": "code",
   "execution_count": null,
   "id": "66de92ce",
   "metadata": {},
   "outputs": [],
   "source": [
    "# Visualize %-ge of the cycle lanes in the parks or waterways in Outer London only.\n",
    "\n",
    "# Set figure size.\n",
    "sns.set(rc={'figure.figsize':(15, 12)})\n",
    "# Set the plot style as darkgrid.\n",
    "sns.set_style('darkgrid')\n",
    "\n",
    "# Create a barplot to see the %-ge of parks or waterside lanes out of total by borough in Outer London only.\n",
    "b=sns.barplot(y='BOROUGH', x='Parks %', data=df_cl_parks_out, color = 'royalblue')\n",
    "\n",
    "# Annotate the axes, labels and ticks.\n",
    "plt.yticks(fontsize=25)\n",
    "plt.xticks(fontsize=30)\n",
    "b.set_ylabel('Borough', fontsize=35, color = 'white')\n",
    "b.set_xlabel('Percetage', fontsize=35)\n",
    "b.set_title('Percentage of Park or Waterside Cycle Lanes by Borough', fontsize=40)\n",
    "i=0"
   ]
  },
  {
   "cell_type": "markdown",
   "id": "7341911f",
   "metadata": {},
   "source": [
    "# Traffic Calming "
   ]
  },
  {
   "cell_type": "code",
   "execution_count": null,
   "id": "778d69c0",
   "metadata": {},
   "outputs": [],
   "source": [
    "# Read the provided CSV file: cycle_calm.csv.\n",
    "cycle_calm = pd.read_csv('cycle_calm.csv')\n",
    "\n",
    "# View the DataFrame, types and shape of the data.\n",
    "print(cycle_calm.shape)\n",
    "print(cycle_calm.dtypes)\n",
    "cycle_calm.head()"
   ]
  },
  {
   "cell_type": "code",
   "execution_count": null,
   "id": "1afbf19d",
   "metadata": {},
   "outputs": [],
   "source": [
    "# Determine whether there are missing values.\n",
    "cycle_calm.isnull().sum()"
   ]
  },
  {
   "cell_type": "code",
   "execution_count": null,
   "id": "7280788a",
   "metadata": {},
   "outputs": [],
   "source": [
    "# Determine the metadata of the data set.\n",
    "cycle_calm.info()"
   ]
  },
  {
   "cell_type": "code",
   "execution_count": null,
   "id": "1fe84907",
   "metadata": {},
   "outputs": [],
   "source": [
    "# Convert 'SVDATE' column to datetime dtype.\n",
    "cycle_calm['SVDATE'] = pd.to_datetime(cycle_calm['SVDATE'])\n",
    "# Check the types.\n",
    "cycle_calm.info()"
   ]
  },
  {
   "cell_type": "code",
   "execution_count": null,
   "id": "509c3ed1",
   "metadata": {},
   "outputs": [],
   "source": [
    "# Merge to add information about Inner/Outer area of London to the df.\n",
    "cycle_calm = pd.merge(cycle_calm, boroughs, how='left', on = 'BOROUGH')\n",
    "cycle_calm.head()"
   ]
  },
  {
   "cell_type": "code",
   "execution_count": null,
   "id": "255d4d92",
   "metadata": {},
   "outputs": [],
   "source": [
    "# Histogram to see the distribution.\n",
    "sns.histplot(data = cycle_calm, x = 'SVDATE', color = 'blue', bins = 30, kde = True)"
   ]
  },
  {
   "cell_type": "markdown",
   "id": "74fa372a",
   "metadata": {},
   "source": [
    "most of data included between July 2017 and March 2018"
   ]
  },
  {
   "cell_type": "code",
   "execution_count": null,
   "id": "8652dc8f",
   "metadata": {},
   "outputs": [],
   "source": [
    "# Create additional column summing up all types of calming traffic measures.\n",
    "cycle_calm['TOTAL_TRF'] = cycle_calm[['TRF_RAISED', 'TRF_ENTRY', 'TRF_CUSHI',\n",
    "                                    'TRF_HUMP', 'TRF_SINUSO', 'TRF_BARIER',\n",
    "                                    'TRF_NAROW', 'TRF_CALM']].sum(axis=1)\n",
    "cycle_calm.head()     "
   ]
  },
  {
   "cell_type": "code",
   "execution_count": null,
   "id": "555da2c4",
   "metadata": {},
   "outputs": [],
   "source": [
    "# Determine boroughs with the largest number of speed calming measures in Inner and Outer London.\n",
    "df_calm = cycle_calm.groupby(['Area', 'BOROUGH']) \\\n",
    "                            ['TRF_RAISED', 'TRF_ENTRY', 'TRF_CUSHI',\n",
    "                            'TRF_HUMP', 'TRF_SINUSO', 'TRF_BARIER',\n",
    "                            'TRF_NAROW', 'TRF_CALM', 'TOTAL_TRF'].sum() \\\n",
    "                    .reset_index().sort_values(by=['Area', 'TOTAL_TRF'])\n",
    "df_calm.head()"
   ]
  },
  {
   "cell_type": "code",
   "execution_count": null,
   "id": "8c33180c",
   "metadata": {},
   "outputs": [],
   "source": [
    "# Overview the summary statistics.\n",
    "df_calm.describe()"
   ]
  },
  {
   "cell_type": "markdown",
   "id": "acb87ee5",
   "metadata": {},
   "source": [
    "- On average there are 1978 calming measuers per borough in London.\n",
    "- Speed humps are the most frequent, average of 1008 per borough.\n",
    "- Narrowings of the road to reduce speed is the rarest - 20 per borough.\n",
    "- Maximum number of total calming measures is 4264 in one borough."
   ]
  },
  {
   "cell_type": "code",
   "execution_count": null,
   "id": "06013100",
   "metadata": {},
   "outputs": [],
   "source": [
    "# Export .csv with information about calming measures by borough and by area.\n",
    "df_calm.to_csv('df_calm.csv')"
   ]
  },
  {
   "cell_type": "code",
   "execution_count": null,
   "id": "3d176443",
   "metadata": {},
   "outputs": [],
   "source": [
    "# Visualize the distribution of traffic calming measures between boroughs in Inner and Outer London.\n",
    "\n",
    "# Set figure size.\n",
    "sns.set(rc={'figure.figsize':(15, 12)})\n",
    "# Set the plot style as darkgrid.\n",
    "sns.set_style('darkgrid')\n",
    "\n",
    "# Create a barplot to see all calming mesures by boroughs of inner and Outer London.\n",
    "c=sns.barplot(y='BOROUGH', x='TOTAL_TRF', data=df_calm, color='royalblue')\n",
    "\n",
    "# Annotate the axes, labels and ticks.\n",
    "plt.yticks(fontsize=25)\n",
    "plt.xticks(fontsize=30)\n",
    "c.set_ylabel('Borough', fontsize=35, color = 'white')\n",
    "c.set_xlabel('Number of Traffic Calming Measures', fontsize=35)\n",
    "c.set_title('Road Calming Measures by Borough', fontsize=40)\n",
    "i=0"
   ]
  },
  {
   "cell_type": "markdown",
   "id": "f5e30975",
   "metadata": {},
   "source": [
    "# Advanced Stop Lines (ASL)."
   ]
  },
  {
   "cell_type": "code",
   "execution_count": null,
   "id": "1ea685c4",
   "metadata": {},
   "outputs": [],
   "source": [
    "# Read the provided CSV file: cycle_asl.csv.\n",
    "cycle_asl = pd.read_csv('cycle_asl.csv')\n",
    "\n",
    "# View the DataFrame, types and shape of the data.\n",
    "print(cycle_asl.shape)\n",
    "print(cycle_asl.dtypes)\n",
    "cycle_asl.head()"
   ]
  },
  {
   "cell_type": "code",
   "execution_count": null,
   "id": "64adc9aa",
   "metadata": {},
   "outputs": [],
   "source": [
    "# Determine whether there are missing values.\n",
    "cycle_asl.isnull().sum()"
   ]
  },
  {
   "cell_type": "code",
   "execution_count": null,
   "id": "df8d87b2",
   "metadata": {},
   "outputs": [],
   "source": [
    "# Determine the metadata of the data set.\n",
    "cycle_calm.info()"
   ]
  },
  {
   "cell_type": "code",
   "execution_count": null,
   "id": "8407cc8c",
   "metadata": {},
   "outputs": [],
   "source": [
    "# Convert 'SVDATE' column to datetime dtype.\n",
    "cycle_asl['SVDATE'] = pd.to_datetime(cycle_asl['SVDATE'])\n",
    "# Check the types.\n",
    "cycle_asl.info()"
   ]
  },
  {
   "cell_type": "code",
   "execution_count": null,
   "id": "d7838eb5",
   "metadata": {},
   "outputs": [],
   "source": [
    "# Merge to add information about Inner/Outer area of London to the df.\n",
    "cycle_asl = pd.merge(cycle_asl, boroughs, how='left', on = 'BOROUGH')\n",
    "cycle_asl.head()"
   ]
  },
  {
   "cell_type": "code",
   "execution_count": null,
   "id": "51457842",
   "metadata": {},
   "outputs": [],
   "source": [
    "# Histogram to see the distribution.\n",
    "sns.histplot(data = cycle_asl, x = 'SVDATE', color = 'blue', bins = 30, kde = True)"
   ]
  },
  {
   "cell_type": "code",
   "execution_count": null,
   "id": "df2a70e1",
   "metadata": {},
   "outputs": [],
   "source": [
    "# Overview the statistics.\n",
    "cycle_asl.describe()"
   ]
  },
  {
   "cell_type": "code",
   "execution_count": null,
   "id": "0bd9e57a",
   "metadata": {},
   "outputs": [],
   "source": [
    "# Determine boroughs with the longest of ASL in Inner and Outer London. \n",
    "df_asl = cycle_asl.groupby(['Area', 'BOROUGH']) \\\n",
    "                            ['ASL_FDR', 'ASL_FDRLFT', 'ASL_FDCENT',\n",
    "                            'ASL_FDRIGH', 'ASL_SHARED', 'asl_length_m'].sum() \\\n",
    "                        .reset_index().sort_values(by=['Area', 'asl_length_m'])\n",
    "df_asl.head()"
   ]
  },
  {
   "cell_type": "code",
   "execution_count": null,
   "id": "fb5b497a",
   "metadata": {},
   "outputs": [],
   "source": [
    "# Overview summary statistics.\n",
    "df_asl.describe()"
   ]
  },
  {
   "cell_type": "markdown",
   "id": "6df103b7",
   "metadata": {},
   "source": [
    "- Mean length of all ASLs per borough is 524.93 meters.\n",
    "- Sum of longest ASLs is 1.6km in a borough.\n",
    "- Most of ASL is Feeder lane left (54) - closest to the footlane and maximum of 145.\n",
    "- The rarest is shared ASL (0.2 per botough)."
   ]
  },
  {
   "cell_type": "code",
   "execution_count": null,
   "id": "52fdce0b",
   "metadata": {},
   "outputs": [],
   "source": [
    "# Export.csv file with ASL per borough and area details.\n",
    "df_asl.to_csv('df_asl.csv')"
   ]
  },
  {
   "cell_type": "code",
   "execution_count": null,
   "id": "9030416f",
   "metadata": {},
   "outputs": [],
   "source": [
    "# Visualize the distribution of ASLs lengths between boroughs in Inner and Outer London.\n",
    "\n",
    "# Set figure size.\n",
    "sns.set(rc={'figure.figsize':(15, 12)})\n",
    "# Set the plot style as darkgrid.\n",
    "sns.set_style('darkgrid')\n",
    "\n",
    "# Create a barplot.\n",
    "c=sns.barplot(y='BOROUGH', x='asl_length_m', data=df_asl, color = 'royalblue')\n",
    "\n",
    "# Annotate the axes, labels and ticks.\n",
    "plt.yticks(fontsize=25)\n",
    "plt.xticks(fontsize=30)\n",
    "c.set_ylabel('Borough', fontsize=35, color = 'white')\n",
    "c.set_xlabel('ASL Length (m)', fontsize=35)\n",
    "c.set_title('Advanced Stop Lanes by Borough', fontsize=40)\n",
    "i=0"
   ]
  },
  {
   "cell_type": "markdown",
   "id": "944678f6",
   "metadata": {},
   "source": [
    "# Signals For Cycles."
   ]
  },
  {
   "cell_type": "code",
   "execution_count": null,
   "id": "10a05806",
   "metadata": {},
   "outputs": [],
   "source": [
    "# Read the provided CSV file: cycle_signal.csv.\n",
    "cycle_signal = pd.read_csv('cycle_signal.csv')\n",
    "\n",
    "# View the DataFrame, types and shape of the data.\n",
    "print(cycle_signal.shape)\n",
    "print(cycle_signal.dtypes)\n",
    "cycle_signal.head()"
   ]
  },
  {
   "cell_type": "code",
   "execution_count": null,
   "id": "42ddb2df",
   "metadata": {},
   "outputs": [],
   "source": [
    "# Determine whether there are missing values.\n",
    "cycle_signal.isnull().sum()"
   ]
  },
  {
   "cell_type": "code",
   "execution_count": null,
   "id": "9cd749d3",
   "metadata": {},
   "outputs": [],
   "source": [
    "# Determine the metadata of the data set.\n",
    "cycle_signal.info()"
   ]
  },
  {
   "cell_type": "code",
   "execution_count": null,
   "id": "62bd9a0c",
   "metadata": {},
   "outputs": [],
   "source": [
    "# Convert 'SVDATE' column to datetime dtype.\n",
    "cycle_signal['SVDATE'] = pd.to_datetime(cycle_signal['SVDATE'])\n",
    "# Check the types.\n",
    "cycle_signal.info()"
   ]
  },
  {
   "cell_type": "code",
   "execution_count": null,
   "id": "2879ff9a",
   "metadata": {},
   "outputs": [],
   "source": [
    "# Histogram to see the distribution.\n",
    "sns.histplot(data = cycle_signal, x = 'SVDATE', color = 'blue', kde = True)"
   ]
  },
  {
   "cell_type": "code",
   "execution_count": null,
   "id": "9410130e",
   "metadata": {},
   "outputs": [],
   "source": [
    "# Merge to add information about Inner/Outer area of London to the df.\n",
    "cycle_signal = pd.merge(cycle_signal, boroughs, how='left', on = 'BOROUGH')\n",
    "cycle_signal.head()"
   ]
  },
  {
   "cell_type": "code",
   "execution_count": null,
   "id": "51fafdcd",
   "metadata": {},
   "outputs": [],
   "source": [
    "# Determine boroughs with the largest number of signals in London.\n",
    "df_signal = cycle_signal.groupby(['Area', 'BOROUGH']) \\\n",
    "                                ['SIG_HEAD', 'SIG_SEPARA', 'SIG_EARLY',\n",
    "                                'SIG_TWOSTG', 'SIG_GATE'].sum() \\\n",
    "                        .reset_index().sort_values(by=['Area', 'SIG_HEAD'])\n",
    "df_signal.head()"
   ]
  },
  {
   "cell_type": "code",
   "execution_count": null,
   "id": "58111e84",
   "metadata": {},
   "outputs": [],
   "source": [
    "# Overview summary statistics.\n",
    "df_signal.describe()"
   ]
  },
  {
   "cell_type": "markdown",
   "id": "0fb56774",
   "metadata": {},
   "source": [
    "- 23 boroughs only.\n",
    "- The most common is the signal with cycle sign on it (19 per borough).\n",
    "- Maximum the borough has 11 signals.\n",
    "- The rearest is two stages turn signal (1.2 per borough mean)."
   ]
  },
  {
   "cell_type": "code",
   "execution_count": null,
   "id": "825b1712",
   "metadata": {},
   "outputs": [],
   "source": [
    "# Export.csv file with signal lights per borough and area details.\n",
    "df_signal.to_csv('df_signal.csv')"
   ]
  },
  {
   "cell_type": "code",
   "execution_count": null,
   "id": "9ea3ec24",
   "metadata": {},
   "outputs": [],
   "source": [
    "# Visualize the distribution of signal lights for cyclists between boroughs in Inner and Outer London.\n",
    "\n",
    "# Set figure size.\n",
    "sns.set(rc={'figure.figsize':(15, 12)})\n",
    "# Set the plot style as darkgrid.\n",
    "sns.set_style('darkgrid')\n",
    "\n",
    "# Create a barplot.\n",
    "c=sns.barplot(y='BOROUGH', x='SIG_HEAD', data=df_signal, color='royalblue')\n",
    "\n",
    "# Annotate the axes, labels and ticks.\n",
    "plt.yticks(fontsize=25)\n",
    "plt.xticks(fontsize=30)\n",
    "c.set_ylabel('Borough', fontsize=35, color = 'white')\n",
    "c.set_xlabel('Number of Signal Lights with Cycle Sign', fontsize=35)\n",
    "c.set_title('Signal Lights with Cycle Sign by Borough', fontsize=40)\n",
    "i=0"
   ]
  },
  {
   "cell_type": "markdown",
   "id": "1fb2812a",
   "metadata": {},
   "source": [
    "# Crossings For Cycles."
   ]
  },
  {
   "cell_type": "code",
   "execution_count": null,
   "id": "ab71dcd5",
   "metadata": {},
   "outputs": [],
   "source": [
    "# Read the provided CSV file: cycle_cross.csv.\n",
    "cycle_cross = pd.read_csv('cycle_cross.csv')\n",
    "\n",
    "# View the DataFrame, types and shape of the data.\n",
    "print(cycle_cross.shape)\n",
    "print(cycle_cross.dtypes)\n",
    "cycle_cross.head()"
   ]
  },
  {
   "cell_type": "code",
   "execution_count": null,
   "id": "c0e2ee01",
   "metadata": {},
   "outputs": [],
   "source": [
    "# Check for missing values.\n",
    "cycle_cross.isnull().sum()"
   ]
  },
  {
   "cell_type": "code",
   "execution_count": null,
   "id": "29eb9046",
   "metadata": {},
   "outputs": [],
   "source": [
    "# Determine the metadata of the data set.\n",
    "cycle_cross.info()"
   ]
  },
  {
   "cell_type": "code",
   "execution_count": null,
   "id": "61d642fd",
   "metadata": {},
   "outputs": [],
   "source": [
    "# Convert 'SVDATE' column to datetime dtype.\n",
    "cycle_cross['SVDATE'] = pd.to_datetime(cycle_cross['SVDATE'])\n",
    "# Check the types.\n",
    "cycle_cross.info()"
   ]
  },
  {
   "cell_type": "code",
   "execution_count": null,
   "id": "714857b5",
   "metadata": {},
   "outputs": [],
   "source": [
    "# Merge to add information about Inner/Outer area of London to the df.\n",
    "cycle_cross = pd.merge(cycle_cross, boroughs, how='left', on = 'BOROUGH')\n",
    "cycle_cross.head()"
   ]
  },
  {
   "cell_type": "code",
   "execution_count": null,
   "id": "b716cdf7",
   "metadata": {},
   "outputs": [],
   "source": [
    "# Histogram to see the distribution.\n",
    "sns.histplot(data = cycle_cross, x = 'SVDATE', color = 'blue', kde = True)"
   ]
  },
  {
   "cell_type": "code",
   "execution_count": null,
   "id": "3a788f8b",
   "metadata": {},
   "outputs": [],
   "source": [
    "# Create a column to calculate total number of crossings for cyclists.\n",
    "cycle_cross['TOTAL_CRS'] = cycle_cross[['CRS_SIGNAL', 'CRS_SEGREG', 'CRS_CYGAP','CRS_PEDEST', 'CRS_LEVEL']].sum(axis=1)\n",
    "cycle_cross.head()"
   ]
  },
  {
   "cell_type": "code",
   "execution_count": null,
   "id": "decb9c38",
   "metadata": {},
   "outputs": [],
   "source": [
    "# Determine boroughs with the largest number of cyclists crossings by borough in Inner and Outer London.\n",
    "df_cross = cycle_cross.groupby(['Area', 'BOROUGH']) \\\n",
    "                                ['CRS_SIGNAL', 'CRS_SEGREG', 'CRS_CYGAP',\n",
    "                                'CRS_PEDEST', 'CRS_LEVEL', 'TOTAL_CRS'].sum() \\\n",
    "                        .reset_index().sort_values(by=['Area', 'TOTAL_CRS'])\n",
    "df_cross.head()"
   ]
  },
  {
   "cell_type": "code",
   "execution_count": null,
   "id": "0c5a5c2f",
   "metadata": {},
   "outputs": [],
   "source": [
    "# Overview summary statistics.\n",
    "df_cross.describe()"
   ]
  },
  {
   "cell_type": "markdown",
   "id": "98db5ec1",
   "metadata": {},
   "source": [
    "- Average number of crossings is 53 per borough.\n",
    "- There are 118 crossigns in one of the boroughs.\n",
    "- The most frequent is the signal controled crossing: 38 mean per borough.\n",
    "- The rarest is the level crossing (0.6) crossing the railways."
   ]
  },
  {
   "cell_type": "code",
   "execution_count": null,
   "id": "69c211c9",
   "metadata": {},
   "outputs": [],
   "source": [
    "# Export to .csv file with information about crossings per borough and area.\n",
    "df_cross.to_csv('df_cross.csv')"
   ]
  },
  {
   "cell_type": "code",
   "execution_count": null,
   "id": "ab591b37",
   "metadata": {},
   "outputs": [],
   "source": [
    "# Visualize the distribution of crossings for cyclists between boroughs in Inner and Outer London.\n",
    "\n",
    "# Set figure size.\n",
    "sns.set(rc={'figure.figsize':(15, 12)})\n",
    "# Set the plot style as darkgrid.\n",
    "sns.set_style('darkgrid')\n",
    "\n",
    "# Create a barplot for cyclist crossings by boroughs in Inner and Outer London.\n",
    "c=sns.barplot(y='BOROUGH', x='TOTAL_CRS', data=df_cross, color='royalblue')\n",
    "\n",
    "# Annotate the axes, labels and ticks.\n",
    "plt.yticks(fontsize=25)\n",
    "plt.xticks(fontsize=30)\n",
    "c.set_ylabel('Borough', fontsize=35, color = 'white')\n",
    "c.set_xlabel('Number of Cycle Crossings', fontsize=35)\n",
    "c.set_title('Cycle Crossings by Borough', fontsize=40)\n",
    "i=0"
   ]
  }
 ],
 "metadata": {
  "kernelspec": {
   "display_name": "Python 3 (ipykernel)",
   "language": "python",
   "name": "python3"
  },
  "language_info": {
   "codemirror_mode": {
    "name": "ipython",
    "version": 3
   },
   "file_extension": ".py",
   "mimetype": "text/x-python",
   "name": "python",
   "nbconvert_exporter": "python",
   "pygments_lexer": "ipython3",
   "version": "3.9.12"
  }
 },
 "nbformat": 4,
 "nbformat_minor": 5
}
