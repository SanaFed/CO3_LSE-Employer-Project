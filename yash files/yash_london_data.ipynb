{
 "cells": [
  {
   "cell_type": "code",
   "execution_count": 12,
   "id": "c89d436a",
   "metadata": {},
   "outputs": [
    {
     "ename": "FileNotFoundError",
     "evalue": "[Errno 2] No such file or directory: 'Central London.csv'",
     "output_type": "error",
     "traceback": [
      "\u001b[0;31m---------------------------------------------------------------------------\u001b[0m",
      "\u001b[0;31mFileNotFoundError\u001b[0m                         Traceback (most recent call last)",
      "\u001b[0;32m/var/folders/vf/ymq2hz2x7lnb9nnlr6_ycvfc0000gn/T/ipykernel_88826/2630315705.py\u001b[0m in \u001b[0;36m<module>\u001b[0;34m\u001b[0m\n\u001b[1;32m      4\u001b[0m \u001b[0;34m\u001b[0m\u001b[0m\n\u001b[1;32m      5\u001b[0m \u001b[0;31m# Read the provided CSV file/data set.\u001b[0m\u001b[0;34m\u001b[0m\u001b[0;34m\u001b[0m\u001b[0m\n\u001b[0;32m----> 6\u001b[0;31m \u001b[0mlondon_central\u001b[0m \u001b[0;34m=\u001b[0m \u001b[0mpd\u001b[0m\u001b[0;34m.\u001b[0m\u001b[0mread_csv\u001b[0m\u001b[0;34m(\u001b[0m\u001b[0;34m'Central London.csv'\u001b[0m\u001b[0;34m)\u001b[0m\u001b[0;34m\u001b[0m\u001b[0;34m\u001b[0m\u001b[0m\n\u001b[0m\u001b[1;32m      7\u001b[0m \u001b[0;34m\u001b[0m\u001b[0m\n\u001b[1;32m      8\u001b[0m \u001b[0;31m# Print the output.\u001b[0m\u001b[0;34m\u001b[0m\u001b[0;34m\u001b[0m\u001b[0m\n",
      "\u001b[0;32m~/opt/anaconda3/lib/python3.9/site-packages/pandas/util/_decorators.py\u001b[0m in \u001b[0;36mwrapper\u001b[0;34m(*args, **kwargs)\u001b[0m\n\u001b[1;32m    309\u001b[0m                     \u001b[0mstacklevel\u001b[0m\u001b[0;34m=\u001b[0m\u001b[0mstacklevel\u001b[0m\u001b[0;34m,\u001b[0m\u001b[0;34m\u001b[0m\u001b[0;34m\u001b[0m\u001b[0m\n\u001b[1;32m    310\u001b[0m                 )\n\u001b[0;32m--> 311\u001b[0;31m             \u001b[0;32mreturn\u001b[0m \u001b[0mfunc\u001b[0m\u001b[0;34m(\u001b[0m\u001b[0;34m*\u001b[0m\u001b[0margs\u001b[0m\u001b[0;34m,\u001b[0m \u001b[0;34m**\u001b[0m\u001b[0mkwargs\u001b[0m\u001b[0;34m)\u001b[0m\u001b[0;34m\u001b[0m\u001b[0;34m\u001b[0m\u001b[0m\n\u001b[0m\u001b[1;32m    312\u001b[0m \u001b[0;34m\u001b[0m\u001b[0m\n\u001b[1;32m    313\u001b[0m         \u001b[0;32mreturn\u001b[0m \u001b[0mwrapper\u001b[0m\u001b[0;34m\u001b[0m\u001b[0;34m\u001b[0m\u001b[0m\n",
      "\u001b[0;32m~/opt/anaconda3/lib/python3.9/site-packages/pandas/io/parsers/readers.py\u001b[0m in \u001b[0;36mread_csv\u001b[0;34m(filepath_or_buffer, sep, delimiter, header, names, index_col, usecols, squeeze, prefix, mangle_dupe_cols, dtype, engine, converters, true_values, false_values, skipinitialspace, skiprows, skipfooter, nrows, na_values, keep_default_na, na_filter, verbose, skip_blank_lines, parse_dates, infer_datetime_format, keep_date_col, date_parser, dayfirst, cache_dates, iterator, chunksize, compression, thousands, decimal, lineterminator, quotechar, quoting, doublequote, escapechar, comment, encoding, encoding_errors, dialect, error_bad_lines, warn_bad_lines, on_bad_lines, delim_whitespace, low_memory, memory_map, float_precision, storage_options)\u001b[0m\n\u001b[1;32m    584\u001b[0m     \u001b[0mkwds\u001b[0m\u001b[0;34m.\u001b[0m\u001b[0mupdate\u001b[0m\u001b[0;34m(\u001b[0m\u001b[0mkwds_defaults\u001b[0m\u001b[0;34m)\u001b[0m\u001b[0;34m\u001b[0m\u001b[0;34m\u001b[0m\u001b[0m\n\u001b[1;32m    585\u001b[0m \u001b[0;34m\u001b[0m\u001b[0m\n\u001b[0;32m--> 586\u001b[0;31m     \u001b[0;32mreturn\u001b[0m \u001b[0m_read\u001b[0m\u001b[0;34m(\u001b[0m\u001b[0mfilepath_or_buffer\u001b[0m\u001b[0;34m,\u001b[0m \u001b[0mkwds\u001b[0m\u001b[0;34m)\u001b[0m\u001b[0;34m\u001b[0m\u001b[0;34m\u001b[0m\u001b[0m\n\u001b[0m\u001b[1;32m    587\u001b[0m \u001b[0;34m\u001b[0m\u001b[0m\n\u001b[1;32m    588\u001b[0m \u001b[0;34m\u001b[0m\u001b[0m\n",
      "\u001b[0;32m~/opt/anaconda3/lib/python3.9/site-packages/pandas/io/parsers/readers.py\u001b[0m in \u001b[0;36m_read\u001b[0;34m(filepath_or_buffer, kwds)\u001b[0m\n\u001b[1;32m    480\u001b[0m \u001b[0;34m\u001b[0m\u001b[0m\n\u001b[1;32m    481\u001b[0m     \u001b[0;31m# Create the parser.\u001b[0m\u001b[0;34m\u001b[0m\u001b[0;34m\u001b[0m\u001b[0m\n\u001b[0;32m--> 482\u001b[0;31m     \u001b[0mparser\u001b[0m \u001b[0;34m=\u001b[0m \u001b[0mTextFileReader\u001b[0m\u001b[0;34m(\u001b[0m\u001b[0mfilepath_or_buffer\u001b[0m\u001b[0;34m,\u001b[0m \u001b[0;34m**\u001b[0m\u001b[0mkwds\u001b[0m\u001b[0;34m)\u001b[0m\u001b[0;34m\u001b[0m\u001b[0;34m\u001b[0m\u001b[0m\n\u001b[0m\u001b[1;32m    483\u001b[0m \u001b[0;34m\u001b[0m\u001b[0m\n\u001b[1;32m    484\u001b[0m     \u001b[0;32mif\u001b[0m \u001b[0mchunksize\u001b[0m \u001b[0;32mor\u001b[0m \u001b[0miterator\u001b[0m\u001b[0;34m:\u001b[0m\u001b[0;34m\u001b[0m\u001b[0;34m\u001b[0m\u001b[0m\n",
      "\u001b[0;32m~/opt/anaconda3/lib/python3.9/site-packages/pandas/io/parsers/readers.py\u001b[0m in \u001b[0;36m__init__\u001b[0;34m(self, f, engine, **kwds)\u001b[0m\n\u001b[1;32m    809\u001b[0m             \u001b[0mself\u001b[0m\u001b[0;34m.\u001b[0m\u001b[0moptions\u001b[0m\u001b[0;34m[\u001b[0m\u001b[0;34m\"has_index_names\"\u001b[0m\u001b[0;34m]\u001b[0m \u001b[0;34m=\u001b[0m \u001b[0mkwds\u001b[0m\u001b[0;34m[\u001b[0m\u001b[0;34m\"has_index_names\"\u001b[0m\u001b[0;34m]\u001b[0m\u001b[0;34m\u001b[0m\u001b[0;34m\u001b[0m\u001b[0m\n\u001b[1;32m    810\u001b[0m \u001b[0;34m\u001b[0m\u001b[0m\n\u001b[0;32m--> 811\u001b[0;31m         \u001b[0mself\u001b[0m\u001b[0;34m.\u001b[0m\u001b[0m_engine\u001b[0m \u001b[0;34m=\u001b[0m \u001b[0mself\u001b[0m\u001b[0;34m.\u001b[0m\u001b[0m_make_engine\u001b[0m\u001b[0;34m(\u001b[0m\u001b[0mself\u001b[0m\u001b[0;34m.\u001b[0m\u001b[0mengine\u001b[0m\u001b[0;34m)\u001b[0m\u001b[0;34m\u001b[0m\u001b[0;34m\u001b[0m\u001b[0m\n\u001b[0m\u001b[1;32m    812\u001b[0m \u001b[0;34m\u001b[0m\u001b[0m\n\u001b[1;32m    813\u001b[0m     \u001b[0;32mdef\u001b[0m \u001b[0mclose\u001b[0m\u001b[0;34m(\u001b[0m\u001b[0mself\u001b[0m\u001b[0;34m)\u001b[0m\u001b[0;34m:\u001b[0m\u001b[0;34m\u001b[0m\u001b[0;34m\u001b[0m\u001b[0m\n",
      "\u001b[0;32m~/opt/anaconda3/lib/python3.9/site-packages/pandas/io/parsers/readers.py\u001b[0m in \u001b[0;36m_make_engine\u001b[0;34m(self, engine)\u001b[0m\n\u001b[1;32m   1038\u001b[0m             )\n\u001b[1;32m   1039\u001b[0m         \u001b[0;31m# error: Too many arguments for \"ParserBase\"\u001b[0m\u001b[0;34m\u001b[0m\u001b[0;34m\u001b[0m\u001b[0m\n\u001b[0;32m-> 1040\u001b[0;31m         \u001b[0;32mreturn\u001b[0m \u001b[0mmapping\u001b[0m\u001b[0;34m[\u001b[0m\u001b[0mengine\u001b[0m\u001b[0;34m]\u001b[0m\u001b[0;34m(\u001b[0m\u001b[0mself\u001b[0m\u001b[0;34m.\u001b[0m\u001b[0mf\u001b[0m\u001b[0;34m,\u001b[0m \u001b[0;34m**\u001b[0m\u001b[0mself\u001b[0m\u001b[0;34m.\u001b[0m\u001b[0moptions\u001b[0m\u001b[0;34m)\u001b[0m  \u001b[0;31m# type: ignore[call-arg]\u001b[0m\u001b[0;34m\u001b[0m\u001b[0;34m\u001b[0m\u001b[0m\n\u001b[0m\u001b[1;32m   1041\u001b[0m \u001b[0;34m\u001b[0m\u001b[0m\n\u001b[1;32m   1042\u001b[0m     \u001b[0;32mdef\u001b[0m \u001b[0m_failover_to_python\u001b[0m\u001b[0;34m(\u001b[0m\u001b[0mself\u001b[0m\u001b[0;34m)\u001b[0m\u001b[0;34m:\u001b[0m\u001b[0;34m\u001b[0m\u001b[0;34m\u001b[0m\u001b[0m\n",
      "\u001b[0;32m~/opt/anaconda3/lib/python3.9/site-packages/pandas/io/parsers/c_parser_wrapper.py\u001b[0m in \u001b[0;36m__init__\u001b[0;34m(self, src, **kwds)\u001b[0m\n\u001b[1;32m     49\u001b[0m \u001b[0;34m\u001b[0m\u001b[0m\n\u001b[1;32m     50\u001b[0m         \u001b[0;31m# open handles\u001b[0m\u001b[0;34m\u001b[0m\u001b[0;34m\u001b[0m\u001b[0m\n\u001b[0;32m---> 51\u001b[0;31m         \u001b[0mself\u001b[0m\u001b[0;34m.\u001b[0m\u001b[0m_open_handles\u001b[0m\u001b[0;34m(\u001b[0m\u001b[0msrc\u001b[0m\u001b[0;34m,\u001b[0m \u001b[0mkwds\u001b[0m\u001b[0;34m)\u001b[0m\u001b[0;34m\u001b[0m\u001b[0;34m\u001b[0m\u001b[0m\n\u001b[0m\u001b[1;32m     52\u001b[0m         \u001b[0;32massert\u001b[0m \u001b[0mself\u001b[0m\u001b[0;34m.\u001b[0m\u001b[0mhandles\u001b[0m \u001b[0;32mis\u001b[0m \u001b[0;32mnot\u001b[0m \u001b[0;32mNone\u001b[0m\u001b[0;34m\u001b[0m\u001b[0;34m\u001b[0m\u001b[0m\n\u001b[1;32m     53\u001b[0m \u001b[0;34m\u001b[0m\u001b[0m\n",
      "\u001b[0;32m~/opt/anaconda3/lib/python3.9/site-packages/pandas/io/parsers/base_parser.py\u001b[0m in \u001b[0;36m_open_handles\u001b[0;34m(self, src, kwds)\u001b[0m\n\u001b[1;32m    220\u001b[0m         \u001b[0mLet\u001b[0m \u001b[0mthe\u001b[0m \u001b[0mreaders\u001b[0m \u001b[0mopen\u001b[0m \u001b[0mIOHandles\u001b[0m \u001b[0mafter\u001b[0m \u001b[0mthey\u001b[0m \u001b[0mare\u001b[0m \u001b[0mdone\u001b[0m \u001b[0;32mwith\u001b[0m \u001b[0mtheir\u001b[0m \u001b[0mpotential\u001b[0m \u001b[0mraises\u001b[0m\u001b[0;34m.\u001b[0m\u001b[0;34m\u001b[0m\u001b[0;34m\u001b[0m\u001b[0m\n\u001b[1;32m    221\u001b[0m         \"\"\"\n\u001b[0;32m--> 222\u001b[0;31m         self.handles = get_handle(\n\u001b[0m\u001b[1;32m    223\u001b[0m             \u001b[0msrc\u001b[0m\u001b[0;34m,\u001b[0m\u001b[0;34m\u001b[0m\u001b[0;34m\u001b[0m\u001b[0m\n\u001b[1;32m    224\u001b[0m             \u001b[0;34m\"r\"\u001b[0m\u001b[0;34m,\u001b[0m\u001b[0;34m\u001b[0m\u001b[0;34m\u001b[0m\u001b[0m\n",
      "\u001b[0;32m~/opt/anaconda3/lib/python3.9/site-packages/pandas/io/common.py\u001b[0m in \u001b[0;36mget_handle\u001b[0;34m(path_or_buf, mode, encoding, compression, memory_map, is_text, errors, storage_options)\u001b[0m\n\u001b[1;32m    700\u001b[0m         \u001b[0;32mif\u001b[0m \u001b[0mioargs\u001b[0m\u001b[0;34m.\u001b[0m\u001b[0mencoding\u001b[0m \u001b[0;32mand\u001b[0m \u001b[0;34m\"b\"\u001b[0m \u001b[0;32mnot\u001b[0m \u001b[0;32min\u001b[0m \u001b[0mioargs\u001b[0m\u001b[0;34m.\u001b[0m\u001b[0mmode\u001b[0m\u001b[0;34m:\u001b[0m\u001b[0;34m\u001b[0m\u001b[0;34m\u001b[0m\u001b[0m\n\u001b[1;32m    701\u001b[0m             \u001b[0;31m# Encoding\u001b[0m\u001b[0;34m\u001b[0m\u001b[0;34m\u001b[0m\u001b[0m\n\u001b[0;32m--> 702\u001b[0;31m             handle = open(\n\u001b[0m\u001b[1;32m    703\u001b[0m                 \u001b[0mhandle\u001b[0m\u001b[0;34m,\u001b[0m\u001b[0;34m\u001b[0m\u001b[0;34m\u001b[0m\u001b[0m\n\u001b[1;32m    704\u001b[0m                 \u001b[0mioargs\u001b[0m\u001b[0;34m.\u001b[0m\u001b[0mmode\u001b[0m\u001b[0;34m,\u001b[0m\u001b[0;34m\u001b[0m\u001b[0;34m\u001b[0m\u001b[0m\n",
      "\u001b[0;31mFileNotFoundError\u001b[0m: [Errno 2] No such file or directory: 'Central London.csv'"
     ]
    }
   ],
   "source": [
    "# Import all the necessary packages.\n",
    "import pandas as pd\n",
    "import numpy as np\n",
    "\n",
    "# Read the provided CSV file/data set.\n",
    "london_central = pd.read_csv('Central London.csv') \n",
    "\n",
    "# Print the output.\n",
    "print(london_central.info())\n",
    "london_central.head()"
   ]
  },
  {
   "cell_type": "code",
   "execution_count": null,
   "id": "b2739745",
   "metadata": {},
   "outputs": [],
   "source": []
  },
  {
   "cell_type": "code",
   "execution_count": null,
   "id": "56a3524d",
   "metadata": {},
   "outputs": [],
   "source": [
    "# Descriptive statistics.\n",
    "london_central.describe()"
   ]
  },
  {
   "cell_type": "code",
   "execution_count": null,
   "id": "47f23390",
   "metadata": {},
   "outputs": [],
   "source": [
    "# Import Pandas, Seaborn, and Matplotlib.\n",
    "import pandas as pd\n",
    "import seaborn as sns\n",
    "import matplotlib.pyplot as plt"
   ]
  },
  {
   "cell_type": "code",
   "execution_count": null,
   "id": "281d6a56",
   "metadata": {},
   "outputs": [],
   "source": [
    "# Create a pairplot with Seaborn.\n",
    "x = L_centr_fnl_0[['Number of private cycles', 'Number of cycle hire bikes']]\n",
    "\n",
    "sns.pairplot(L_centr_fnl_0,\n",
    "             vars=x,\n",
    "             hue='Period',\n",
    "             diag_kind='kde')"
   ]
  },
  {
   "cell_type": "code",
   "execution_count": null,
   "id": "4538d819",
   "metadata": {},
   "outputs": [],
   "source": [
    "# Read the provided CSV file/data set.\n",
    "london_outer = pd.read_csv('Outer London.csv') \n",
    "\n",
    "# Print the output.\n",
    "print(london_outer.info())\n",
    "london_outer.head()"
   ]
  },
  {
   "cell_type": "code",
   "execution_count": null,
   "id": "b02c121a",
   "metadata": {},
   "outputs": [],
   "source": [
    "# Descriptive statistics.\n",
    "london_outer.describe()\n"
   ]
  },
  {
   "cell_type": "code",
   "execution_count": null,
   "id": "53bf1a09",
   "metadata": {},
   "outputs": [],
   "source": [
    "# Read the provided CSV file/data set.\n",
    "london_inner = pd.read_csv('Inner London.csv') \n",
    "\n",
    "# Print the output.\n",
    "print(london_inner.info())\n",
    "london_inner.head()"
   ]
  },
  {
   "cell_type": "code",
   "execution_count": null,
   "id": "b84c931f",
   "metadata": {},
   "outputs": [],
   "source": [
    "london_inner.describe()"
   ]
  },
  {
   "cell_type": "code",
   "execution_count": null,
   "id": "9a7f7f3c",
   "metadata": {},
   "outputs": [],
   "source": [
    "# Read the provided XLSX file/data set.\n",
    "london_sites = pd.read_excel('Biking sites.xlsx') \n",
    "\n",
    "# Print the output.\n",
    "print(london_sites.info())\n",
    "london_sites.head()"
   ]
  },
  {
   "cell_type": "code",
   "execution_count": null,
   "id": "135bfd0e",
   "metadata": {},
   "outputs": [],
   "source": [
    "london_sites.describe()"
   ]
  },
  {
   "cell_type": "code",
   "execution_count": null,
   "id": "45ec727e",
   "metadata": {},
   "outputs": [],
   "source": [
    "# Explore the data.\n",
    "london_central.info()"
   ]
  },
  {
   "cell_type": "code",
   "execution_count": null,
   "id": "ce788399",
   "metadata": {},
   "outputs": [],
   "source": [
    "# Drop last three columns as contain no values.\n",
    "L_centr_fnl = london_central.drop(columns=['Unnamed: 14', 'Unnamed: 15', 'Unnamed: 16']).reset_index(drop=True)\n",
    "\n",
    "# View DataFrame.\n",
    "print(L_centr_fnl.shape)\n",
    "L_centr_fnl.head()"
   ]
  },
  {
   "cell_type": "code",
   "execution_count": null,
   "id": "9c146bde",
   "metadata": {
    "scrolled": true
   },
   "outputs": [],
   "source": [
    "# Drop the rows where all elements are missing.\n",
    "L_centr_fnl_0 = L_centr_fnl.dropna(how='all')\n",
    "\n",
    "# View DataFrame.\n",
    "print(L_centr_fnl_0.shape)\n",
    "L_centr_fnl_0.head()"
   ]
  },
  {
   "cell_type": "code",
   "execution_count": null,
   "id": "a6c08866",
   "metadata": {
    "scrolled": false
   },
   "outputs": [],
   "source": [
    "# Check missing values.\n",
    "L_centr_fnl_0.isnull().sum()\n"
   ]
  },
  {
   "cell_type": "markdown",
   "id": "4e8cb0f4",
   "metadata": {},
   "source": [
    "# Cleaning Weather Column\n"
   ]
  },
  {
   "cell_type": "markdown",
   "id": "ac46c143",
   "metadata": {},
   "source": [
    "##### The original London Central data was edited in Excel. Looking at the below code can see there is 283 different classifications for weather. Looking into the Excel file can see that there are a lot of Weather classifications some which are the same just spelt differently and some which are spelt incorrectly. This needs cleaning to categorise the data better and improve processes.\n",
    "\n"
   ]
  },
  {
   "cell_type": "code",
   "execution_count": null,
   "id": "64a57aee",
   "metadata": {},
   "outputs": [],
   "source": [
    "# Check for unique values.\n",
    "L_centr_fnl_0['Weather'].nunique()"
   ]
  },
  {
   "cell_type": "code",
   "execution_count": null,
   "id": "b3a173be",
   "metadata": {
    "scrolled": true
   },
   "outputs": [],
   "source": [
    "# Change relevant values to Cloudy\n",
    "L_centr_fnl_0['Weather'] = L_centr_fnl_0['Weather'].replace(['Cloudy And Warm', 'Overcast', \n",
    "                                                             'Overcast And Dull', 'Partly Cloudy'], 'Cloudy')\n"
   ]
  },
  {
   "cell_type": "code",
   "execution_count": null,
   "id": "5a8596c7",
   "metadata": {
    "scrolled": true
   },
   "outputs": [],
   "source": [
    "# Check that values have been changed\n",
    "L_centr_fnl_0[L_centr_fnl_0['Weather'] == 'Cloudy And Warm']\n"
   ]
  },
  {
   "cell_type": "code",
   "execution_count": null,
   "id": "e4a7f2b1",
   "metadata": {},
   "outputs": [],
   "source": [
    "# Change relevant values to Cold\n",
    "L_centr_fnl_0['Weather'] = L_centr_fnl_0['Weather'].replace(['Cold Dry', 'Coldish', 'Dry & Cold', 'Fine Cold', \n",
    "                                                             'Fine V Cold', 'Now Starts To Get Chilly', \n",
    "                                                             'Very Cold/dry'], 'Cold')"
   ]
  },
  {
   "cell_type": "code",
   "execution_count": null,
   "id": "7a6e086a",
   "metadata": {
    "scrolled": true
   },
   "outputs": [],
   "source": [
    "# Change relevant values to Damp\n",
    "L_centr_fnl_0['Weather'] = L_centr_fnl_0['Weather'].replace(['Almost Dry'], 'Damp')"
   ]
  },
  {
   "cell_type": "code",
   "execution_count": null,
   "id": "d2837b9b",
   "metadata": {},
   "outputs": [],
   "source": [
    "# Change relevant values to Dark\n",
    "L_centr_fnl_0['Weather'] = L_centr_fnl_0['Weather'].replace(['Dark Sunny', 'Dry Dark'],\n",
    "                                                             'Dark')\n"
   ]
  },
  {
   "cell_type": "code",
   "execution_count": null,
   "id": "c7bc8b87",
   "metadata": {
    "scrolled": true
   },
   "outputs": [],
   "source": [
    "# Change relevant values to Dry\n",
    "L_centr_fnl_0['Weather'] = L_centr_fnl_0['Weather'].replace(['2 Snowflakes Otherwise Dry', 'A Bit Chilly At First', \n",
    "                                                             'Cloudy/dry', 'Cold/dry', 'Dark Dry', 'Ddry', 'Drty', \n",
    "                                                             'Dry & Mild', 'Dry 3/4 Dry', 'Dry And Fine', \n",
    "                                                             'Dry And Overcast', 'Dry But Rain Threatening', 'Dry Fri',\n",
    "                                                             'Dry Mon', 'Dry Thu', 'Dry Wed', 'Dry Y', 'Dry/cloudy', \n",
    "                                                             'Dry/cold', 'Dry/good', 'Dry/sunny/cold', 'Drying Up', \n",
    "                                                             'Dryish', 'Dull', 'Dy', 'Fair', 'Fine', \n",
    "                                                             'Fine + Dry Chilly At First', 'Fine And Dry', 'Good/dry', \n",
    "                                                             'Kdry', 'Mild', 'Rain Looking Likely', 'Rain Stopped', \n",
    "                                                             'Rain Stopped-dry', 'dry'], 'Dry')"
   ]
  },
  {
   "cell_type": "code",
   "execution_count": null,
   "id": "15ddcb49",
   "metadata": {
    "scrolled": true
   },
   "outputs": [],
   "source": [
    "# Change relevant values Dry & Rain\n",
    "L_centr_fnl_0['Weather'] = L_centr_fnl_0['Weather'].replace(['Cold & Dry Early Rain Later',\n",
    "                                                              'Dry - Rain'], 'Dry & Rain')\n"
   ]
  },
  {
   "cell_type": "code",
   "execution_count": null,
   "id": "332fa568",
   "metadata": {},
   "outputs": [],
   "source": [
    "# Change relevant values to Dry & Wet\n",
    "L_centr_fnl_0['Weather'] = L_centr_fnl_0['Weather'].replace(['Dry - Wet', 'Dry + Wet', 'Dry A.m Wet P.m', \n",
    "                                                             'Dry But Wet Road', 'Dry But Wet Roads', \n",
    "                                                             'Dry Road Still Wet', 'Dry Road Wet With Leaves',\n",
    "                                                             'Dry Wet Road', 'Dry-wet', 'Dry/wet Road Surface',\n",
    "                                                             'Wet - Dry', 'Wet + Dry', 'Wet First Then Dry',\n",
    "                                                             'Wet-dry', 'Wet/ Dry', 'Wet/dry', 'Wetr First Then Dry',\n",
    "                                                             'Dry/wet'], 'Dry & Wet')\n"
   ]
  },
  {
   "cell_type": "code",
   "execution_count": null,
   "id": "0212cf80",
   "metadata": {},
   "outputs": [],
   "source": [
    "# Change relevant value to Frost / Fog\n",
    "L_centr_fnl_0['Weather'] = L_centr_fnl_0['Weather'].replace(['Dry (frost & Fog)', 'Foggy',\n",
    "                                                              'Foogy/v Cold', 'Foggy/v Cold'], 'Frost / Fog')"
   ]
  },
  {
   "cell_type": "code",
   "execution_count": null,
   "id": "625e930e",
   "metadata": {},
   "outputs": [],
   "source": [
    "# Change relevant value to Hail / Sleet\n",
    "L_centr_fnl_0['Weather'] = L_centr_fnl_0['Weather'].replace(['Cloudy/hail', 'Hail',\n",
    "                                                              'Hail Shower', 'Sleet', \n",
    "                                                               'Wet Light Hailstone'], 'Hail / Sleet')"
   ]
  },
  {
   "cell_type": "code",
   "execution_count": null,
   "id": "8c65767e",
   "metadata": {
    "scrolled": true
   },
   "outputs": [],
   "source": [
    "# Change relevant values to Heavy Rain\n",
    "L_centr_fnl_0['Weather'] = L_centr_fnl_0['Weather'].replace(['Deluge', 'Down Pour',\n",
    "                                                              'H Rain', 'Rain-heavy', \n",
    "                                                              'Very Heavy Rain'], 'Heavy Rain')\n"
   ]
  },
  {
   "cell_type": "code",
   "execution_count": null,
   "id": "247597f3",
   "metadata": {
    "scrolled": true
   },
   "outputs": [],
   "source": [
    "# Change relevant values to Hot\n",
    "L_centr_fnl_0['Weather'] = L_centr_fnl_0['Weather'].replace(['Dry/hot', 'Hot + Humid',\n",
    "                                                              'Hot And Humid', 'Hot And Sunny',\n",
    "                                                              'Hot/dry', 'Very Hot Dry'], 'Hot')"
   ]
  },
  {
   "cell_type": "code",
   "execution_count": null,
   "id": "105d8cb3",
   "metadata": {
    "scrolled": true
   },
   "outputs": [],
   "source": [
    "# Change relevant values to Light Rain\n",
    "L_centr_fnl_0['Weather'] = L_centr_fnl_0['Weather'].replace(['(drizzle)', 'A Few Drops Of Rain',\n",
    "                                                             'A Few Rain Showers', 'Cloudy/drizzle',\n",
    "                                                             'Cold/showery', 'Damp & Drizzly', 'Drizzle',\n",
    "                                                             'Drizzle Damp', 'Drizzle/rain', 'Drizzle/showers',\n",
    "                                                             'Drizzle/wet', 'Drizzling', 'Drizzly', 'Drizzly Rain',\n",
    "                                                             'Dry (+brief Speels Of Drizzle', 'Dry/drizzle', \n",
    "                                                             'Dry/drizzly', 'Fine Drizzle', 'Intermitent Light Rain',\n",
    "                                                             'Intermitent Light Showers', 'Light Drizzle',\n",
    "                                                             'Light Shower', 'Light Showers',\n",
    "                                                             'Light Showers Inc Some Hail', 'Light Shrs', 'Lt Rain',\n",
    "                                                             'Shower', 'Shower/wet', 'Showers', 'Showers Mix',\n",
    "                                                             'Showery', 'Slight Drizzle', 'Slight Drizzle Till End',\n",
    "                                                             'Some Showers', 'Spitting', 'V Cold Showers',\n",
    "                                                             'V Light Drizzle', 'V Light Rain', 'V Light Showers',\n",
    "                                                             'V Light Shrs', 'V Lt Rain', 'V. Light Rain',\n",
    "                                                             'V.light Drizzle', 'V.wet', 'Very Light Drizzle',\n",
    "                                                            'Wet Drizzle', 'Wet/drizzle', 'Wet/light Showers'], \n",
    "                                                            'Light Rain')"
   ]
  },
  {
   "cell_type": "code",
   "execution_count": null,
   "id": "2877dc47",
   "metadata": {
    "scrolled": true
   },
   "outputs": [],
   "source": [
    "# Change relevant values to Mist\n",
    "L_centr_fnl_0['Weather'] = L_centr_fnl_0['Weather'].replace(['Damp/misty', 'Damp/misty/wet'],\n",
    "                                                             'Mist')\n",
    "# Change relevant values to Rain"
   ]
  },
  {
   "cell_type": "code",
   "execution_count": null,
   "id": "0ddb7d57",
   "metadata": {
    "scrolled": true
   },
   "outputs": [],
   "source": [
    "# Change relevant values to Snow\n",
    "L_centr_fnl_0['Weather'] = L_centr_fnl_0['Weather'].replace(['Heavy Snow', 'Occasional Lt Snow Shrs',\n",
    "                                                              'Snowing', 'Wet/ Snowing'], 'Snow')"
   ]
  },
  {
   "cell_type": "code",
   "execution_count": null,
   "id": "1b07ec4a",
   "metadata": {
    "scrolled": true
   },
   "outputs": [],
   "source": [
    "# Change relevant values to Sun & Rain\n",
    "L_centr_fnl_0['Weather'] = L_centr_fnl_0['Weather'].replace(['Cold Sunny Rain', 'Sun/rain', 'Sunny/rainy'], \n",
    "                                                            'Sun & Rain')"
   ]
  },
  {
   "cell_type": "code",
   "execution_count": null,
   "id": "3a67e813",
   "metadata": {
    "scrolled": true
   },
   "outputs": [],
   "source": [
    "# Change relevant values to Sun & Wet\n",
    "L_centr_fnl_0['Weather'] = L_centr_fnl_0['Weather'].replace(['Wet/sunny'], 'Sun & Wet')"
   ]
  },
  {
   "cell_type": "code",
   "execution_count": null,
   "id": "2b27d2db",
   "metadata": {
    "scrolled": true
   },
   "outputs": [],
   "source": [
    "# Change relevant values to Unknown\n",
    "L_centr_fnl_0['Weather'] = L_centr_fnl_0['Weather'].replace(['D', 'Wed', 'X'], 'Unknown')"
   ]
  },
  {
   "cell_type": "code",
   "execution_count": null,
   "id": "e770dae7",
   "metadata": {
    "scrolled": true
   },
   "outputs": [],
   "source": [
    "# Change relevant values to Warm\n",
    "L_centr_fnl_0['Weather'] = L_centr_fnl_0['Weather'].replace(['Cold At First Then Warm/sunny',\n",
    "                                                              'Dry And Warm', 'Warm + Dry',\n",
    "                                                              'Warm And Humid', 'Warm And Overcast'],\n",
    "                                                             'Warm')\n"
   ]
  },
  {
   "cell_type": "code",
   "execution_count": null,
   "id": "1c0d4f2e",
   "metadata": {
    "scrolled": true
   },
   "outputs": [],
   "source": [
    "# Change relevant values to Warm & Wind \n",
    "L_centr_fnl_0['Weather'] = L_centr_fnl_0['Weather'].replace(['Warm With A Slight Wind',\n",
    "                                                              'Warm And Windy', 'Warm And Windy'], 'Warm & Wind')"
   ]
  },
  {
   "cell_type": "code",
   "execution_count": null,
   "id": "5c077988",
   "metadata": {},
   "outputs": [],
   "source": [
    "# Change relevant values to Wet\n",
    "L_centr_fnl_0['Weather'] = L_centr_fnl_0['Weather'].replace(['Dry & Wet', 'Getting Wet', 'No Rain Wet Roads',\n",
    "                                                             'Really Wet', 'Road Wet', 'S. Wet', 'Slightly Wet',\n",
    "                                                             'V Wet', 'V. Wet', 'Very Wet', 'Wert', 'Wet ',\n",
    "                                                             'Wet (spitting)', 'Wet (windy)', 'Wet Again', \n",
    "                                                             'Wet Damp', 'Wet Intermittently', 'Wet Road', 'Wet T',\n",
    "                                                             'Wet/cloudy', 'Wet/damp', 'Wetish', 'Wetr', 'Wetter',\n",
    "                                                             'Winds Rather Chilly'], 'Wet')"
   ]
  },
  {
   "cell_type": "code",
   "execution_count": null,
   "id": "4473d860",
   "metadata": {},
   "outputs": [],
   "source": [
    "# Change relevant values to Wet & Wind\n",
    "L_centr_fnl_0['Weather'] = L_centr_fnl_0['Weather'].replace(['Wet And Very Windy',\n",
    "                                                              'Wet And Windy',\n",
    "                                                              'Wet & Windy',\n",
    "                                                              'Wet + Windy'], 'Wet & Wind')"
   ]
  },
  {
   "cell_type": "code",
   "execution_count": null,
   "id": "e7cc1b4e",
   "metadata": {},
   "outputs": [],
   "source": [
    "# Change relevant values to Wind\n",
    "L_centr_fnl_0['Weather'] = L_centr_fnl_0['Weather'].replace(['Blustery', 'Cloudy/windy', 'Cold Wind', \n",
    "                                                             'Cold Windy Dry', 'Dry (windy)', 'Dry & Very Windy',\n",
    "                                                             'Dry And Very Windy', 'Dry And Windy', 'Dry Windy',\n",
    "                                                             'Dry/gusty', 'Dry/very Windy', 'Dry/windy',\n",
    "                                                             'Dry/windy/strong Wind', 'Fine (windy)', 'Fine Windy',\n",
    "                                                             'High Winds & Spits Of Rain', \n",
    "                                                             'Very Windy & Cold',\n",
    "                                                             'Warm & Sunny But Windy & Cold', 'Windy', 'Windy Dry',\n",
    "                                                             'Windy Showery', 'Windy/cloudy', 'Windy/drizzle',\n",
    "                                                             'Windy/dry', 'Cold Then Dry And Windy', 'Dry & Windy',\n",
    "                                                             'Dry But A Bit Windy'], 'Wind')"
   ]
  },
  {
   "cell_type": "code",
   "execution_count": null,
   "id": "cbebc161",
   "metadata": {},
   "outputs": [],
   "source": [
    "# Change relevant values to Wind & Rain\n",
    "L_centr_fnl_0['Weather'] = L_centr_fnl_0['Weather'].replace(['Windy/ Rain',\n",
    "                                                              'Periods Of Rain Quite Windy'], 'Wind & Rain')\n"
   ]
  },
  {
   "cell_type": "code",
   "execution_count": null,
   "id": "8e1dbb33",
   "metadata": {},
   "outputs": [],
   "source": [
    "# Check unique values.\n",
    "print(L_centr_fnl_0['Weather'].nunique())\n",
    "L_centr_fnl_0['Weather'].value_counts()\n"
   ]
  },
  {
   "cell_type": "code",
   "execution_count": null,
   "id": "5d7383e6",
   "metadata": {},
   "outputs": [],
   "source": [
    "L_centr_fnl_0"
   ]
  },
  {
   "cell_type": "markdown",
   "id": "cd42fe3f",
   "metadata": {},
   "source": [
    "## Missing values in Weather column"
   ]
  },
  {
   "cell_type": "code",
   "execution_count": 13,
   "id": "59f6c4ae",
   "metadata": {},
   "outputs": [
    {
     "ename": "NameError",
     "evalue": "name 'L_centr_fnl_0' is not defined",
     "output_type": "error",
     "traceback": [
      "\u001b[0;31m---------------------------------------------------------------------------\u001b[0m",
      "\u001b[0;31mNameError\u001b[0m                                 Traceback (most recent call last)",
      "\u001b[0;32m/var/folders/vf/ymq2hz2x7lnb9nnlr6_ycvfc0000gn/T/ipykernel_88826/2417900489.py\u001b[0m in \u001b[0;36m<module>\u001b[0;34m\u001b[0m\n\u001b[1;32m      1\u001b[0m \u001b[0;31m# Subset of the data of only null values\u001b[0m\u001b[0;34m\u001b[0m\u001b[0;34m\u001b[0m\u001b[0m\n\u001b[0;32m----> 2\u001b[0;31m \u001b[0mnull_data\u001b[0m \u001b[0;34m=\u001b[0m \u001b[0mL_centr_fnl_0\u001b[0m\u001b[0;34m[\u001b[0m\u001b[0mL_centr_fnl_0\u001b[0m\u001b[0;34m.\u001b[0m\u001b[0misna\u001b[0m\u001b[0;34m(\u001b[0m\u001b[0;34m)\u001b[0m\u001b[0;34m.\u001b[0m\u001b[0many\u001b[0m\u001b[0;34m(\u001b[0m\u001b[0maxis\u001b[0m\u001b[0;34m=\u001b[0m\u001b[0;36m1\u001b[0m\u001b[0;34m)\u001b[0m\u001b[0;34m]\u001b[0m\u001b[0;34m\u001b[0m\u001b[0;34m\u001b[0m\u001b[0m\n\u001b[0m\u001b[1;32m      3\u001b[0m \u001b[0;34m\u001b[0m\u001b[0m\n\u001b[1;32m      4\u001b[0m \u001b[0;31m# Subset of null data frame to look weather null values\u001b[0m\u001b[0;34m\u001b[0m\u001b[0;34m\u001b[0m\u001b[0m\n\u001b[1;32m      5\u001b[0m \u001b[0;31m# Wanted to see if there was a sensible way to replace the null based on loc or quarter\u001b[0m\u001b[0;34m\u001b[0m\u001b[0;34m\u001b[0m\u001b[0m\n",
      "\u001b[0;31mNameError\u001b[0m: name 'L_centr_fnl_0' is not defined"
     ]
    }
   ],
   "source": [
    "# Subset of the data of only null values\n",
    "null_data = L_centr_fnl_0[L_centr_fnl_0.isna().any(axis=1)]\n",
    "\n",
    "# Subset of null data frame to look weather null values \n",
    "# Wanted to see if there was a sensible way to replace the null based on loc or quarter\n",
    "weather_null = null_data[['Location', 'Survey wave (calendar quarter)', 'Weather']]\n",
    "weather_null"
   ]
  },
  {
   "cell_type": "code",
   "execution_count": null,
   "id": "ec33d794",
   "metadata": {},
   "outputs": [],
   "source": [
    "# All the entries with null weather data \n",
    "w_null = weather_null[weather_null['Weather'].isna()]\n",
    "\n",
    "# Check which locations have the most NaN values \n",
    "print(w_null['Location'].value_counts())"
   ]
  },
  {
   "cell_type": "code",
   "execution_count": null,
   "id": "f0b5bc88",
   "metadata": {},
   "outputs": [],
   "source": [
    "# Exported to new csv file \n",
    "w_null.to_csv('w_null.csv')"
   ]
  },
  {
   "cell_type": "markdown",
   "id": "00ad5439",
   "metadata": {},
   "source": [
    "Exported the whole dataframe as a Csv to take a deeper look in Excel - see if there were any obvious trends / analysis to be identified.\n",
    "\n",
    "Can see which locations have the null values but also can see which time frames they have been recorded in - might be sensible to assume that if it was summer then it would be dry and if it was winter it would be wet / cold\n",
    "\n",
    "After looking at the Csv in Excel it is difficult to definitely say what the weather was at that time as locations have different weather conditions recorded for the same period. Therefore, NaN values will be replaced with Unknown to maintain record and show where data recording could be improved."
   ]
  },
  {
   "cell_type": "code",
   "execution_count": null,
   "id": "6a8842d6",
   "metadata": {},
   "outputs": [],
   "source": [
    "# Replace NaN values with Unknown.\n",
    "L_centr_fnl_0['Weather'] = L_centr_fnl_0['Weather'].fillna('Unknown')\n"
   ]
  },
  {
   "cell_type": "code",
   "execution_count": null,
   "id": "2073ccf2",
   "metadata": {
    "scrolled": true
   },
   "outputs": [],
   "source": [
    "# Check missing values.\n",
    "L_centr_fnl_0.isnull().sum()"
   ]
  },
  {
   "cell_type": "code",
   "execution_count": null,
   "id": "d455dbf0",
   "metadata": {
    "scrolled": true
   },
   "outputs": [],
   "source": [
    "L_centr_fnl_0"
   ]
  },
  {
   "cell_type": "markdown",
   "id": "cc050f7e",
   "metadata": {},
   "source": [
    "## Cleaning Date and Time related Columns"
   ]
  },
  {
   "cell_type": "code",
   "execution_count": null,
   "id": "9ba3a0b4",
   "metadata": {},
   "outputs": [],
   "source": [
    "# Split 'Survey wave (calendar quarter)' column into three new columns.\n",
    "L_centr_fnl_0['Survey_wave_year'] = L_centr_fnl_0['Survey wave (calendar quarter)'].str.split(' ', expand = True)[0]\n",
    "L_centr_fnl_0['Survey_wave_quater'] = L_centr_fnl_0['Survey wave (calendar quarter)'].str.split(' ', expand = True)[1]\n",
    "L_centr_fnl_0['Survey_wave_months'] = L_centr_fnl_0['Survey wave (calendar quarter)'].str.split(' ', expand = True)[2]\n",
    "\n",
    "# View DataFrame.\n",
    "L_centr_fnl_0.head()"
   ]
  },
  {
   "cell_type": "code",
   "execution_count": null,
   "id": "1eb70d94",
   "metadata": {},
   "outputs": [],
   "source": [
    "# Remove brackets in 'Survey_wave_months' column.\n",
    "L_centr_fnl_0['Survey_wave_months'] = L_centr_fnl_0['Survey_wave_months'].str.replace('(','')\n",
    "L_centr_fnl_0['Survey_wave_months'] = L_centr_fnl_0['Survey_wave_months'].str.replace(')','')\n",
    "\n",
    "# View DataFrame\n",
    "L_centr_fnl_0.head()"
   ]
  },
  {
   "cell_type": "code",
   "execution_count": null,
   "id": "061cf9a2",
   "metadata": {},
   "outputs": [],
   "source": [
    "# Change dtype of 'Survey_wave_year' column to integer.\n",
    "L_centr_fnl_0['Survey_wave_year'] = L_centr_fnl_0['Survey_wave_year'].astype(int)"
   ]
  },
  {
   "cell_type": "code",
   "execution_count": null,
   "id": "36cefbb6",
   "metadata": {},
   "outputs": [],
   "source": [
    "# Replace blank values with NaN in 'Survey date' column.\n",
    "L_centr_fnl_0['Survey date'] = L_centr_fnl_0['Survey date'].replace(r'^\\s*$', np.nan, regex=True)"
   ]
  },
  {
   "cell_type": "code",
   "execution_count": null,
   "id": "804834c7",
   "metadata": {},
   "outputs": [],
   "source": [
    "# Split 'Survey date' column into two new columns.\n",
    "L_centr_fnl_0[['Survey_week_day', 'Survey_date']] = L_centr_fnl_0['Survey date'].\\\n",
    "apply(lambda x: pd.Series(str(x).split(',')))\n",
    "\n",
    "# View DataFrame.\n",
    "L_centr_fnl_0.head()"
   ]
  },
  {
   "cell_type": "code",
   "execution_count": null,
   "id": "64f4bad6",
   "metadata": {},
   "outputs": [],
   "source": [
    "# Drop 'Survey_week_day' column.\n",
    "L_centr_fnl_0 = L_centr_fnl_0.drop(columns='Survey_week_day').reset_index(drop=True)"
   ]
  },
  {
   "cell_type": "code",
   "execution_count": null,
   "id": "9eef2c3d",
   "metadata": {},
   "outputs": [],
   "source": [
    "# Remove whitespaces in 'Survey_date' column.\n",
    "L_centr_fnl_0['Survey_date'] = L_centr_fnl_0['Survey_date'].str.replace(' ', '')"
   ]
  },
  {
   "cell_type": "code",
   "execution_count": null,
   "id": "f456af32",
   "metadata": {},
   "outputs": [],
   "source": [
    "# Convert 'Survey_date' column to datetime dtype.\n",
    "L_centr_fnl_0['Survey_date_dt'] = pd.to_datetime(L_centr_fnl_0['Survey_date'], format = '%d/%m/%y')\n",
    "\n",
    "# View DataFrame.\n",
    "L_centr_fnl_0.head()"
   ]
  },
  {
   "cell_type": "code",
   "execution_count": null,
   "id": "58743472",
   "metadata": {},
   "outputs": [],
   "source": [
    "# Remove whitespaces in 'Survey wave (calendar quarter)' column.\n",
    "L_centr_fnl_0['Year-Quarter'] = L_centr_fnl_0['Survey wave (calendar quarter)'].str.replace(' ', '')"
   ]
  },
  {
   "cell_type": "code",
   "execution_count": null,
   "id": "98e655c2",
   "metadata": {},
   "outputs": [],
   "source": [
    "# Divide year and quarter by '-'.\n",
    "L_centr_fnl_0['Year-Quarter'] = L_centr_fnl_0['Year-Quarter'].astype(str).str[:4] + '-' + L_centr_fnl_0['Year-Quarter'].\\\n",
    "astype(str).str[4:6]"
   ]
  },
  {
   "cell_type": "code",
   "execution_count": null,
   "id": "0770eb6a",
   "metadata": {},
   "outputs": [],
   "source": [
    "# Check missing values.\n",
    "L_centr_fnl_0.isnull().sum()"
   ]
  },
  {
   "cell_type": "code",
   "execution_count": null,
   "id": "9f228d36",
   "metadata": {},
   "outputs": [],
   "source": [
    "# Check dtypes.\n",
    "L_centr_fnl_0.info()\n"
   ]
  },
  {
   "cell_type": "markdown",
   "id": "6a44cf8b",
   "metadata": {},
   "source": [
    "## Missing values in Date and Time related columns"
   ]
  },
  {
   "cell_type": "code",
   "execution_count": null,
   "id": "46228be9",
   "metadata": {},
   "outputs": [],
   "source": [
    "# Select rows containing missing values in 'Survey_date_dt' column.\n",
    "L_centr_fnl_1 = L_centr_fnl_0[L_centr_fnl_0['Survey_date_dt'].isnull()]\n",
    "\n",
    "# View DataFrame.\n",
    "L_centr_fnl_1.head()"
   ]
  },
  {
   "cell_type": "code",
   "execution_count": null,
   "id": "b5429a2b",
   "metadata": {
    "scrolled": true
   },
   "outputs": [],
   "source": [
    "# View number of missing values in 'Survey_date_dt' column by calendar quarter.\n",
    "L_centr_fnl_1['Survey wave (calendar quarter)'].value_counts().sort_index()"
   ]
  },
  {
   "cell_type": "code",
   "execution_count": null,
   "id": "5af6fc4d",
   "metadata": {},
   "outputs": [],
   "source": [
    "# Select rows without missing values in 'Survey_date_dt' column.\n",
    "L_centr_fnl_2 = L_centr_fnl_0[~L_centr_fnl_0['Survey_date_dt'].isnull()]\n",
    "\n",
    "# View DataFrame.\n",
    "L_centr_fnl_2.head()"
   ]
  },
  {
   "cell_type": "code",
   "execution_count": null,
   "id": "b53f0f0e",
   "metadata": {},
   "outputs": [],
   "source": [
    "# View number of values in 'Survey_date_dt' column by calendar quarter (excluding missing values).\n",
    "L_centr_fnl_2['Survey wave (calendar quarter)'].value_counts()"
   ]
  },
  {
   "cell_type": "code",
   "execution_count": null,
   "id": "6076e727",
   "metadata": {
    "scrolled": true
   },
   "outputs": [],
   "source": [
    "# Find first and last date in 'Survey_date_dt' column.\n",
    "print(L_centr_fnl_0['Survey_date_dt'].min())\n",
    "print(L_centr_fnl_0['Survey_date_dt'].max())\n",
    "\n",
    "# View frequency of dates.\n",
    "L_centr_fnl_0['Survey_date_dt'].value_counts()"
   ]
  },
  {
   "cell_type": "code",
   "execution_count": null,
   "id": "a5474d4d",
   "metadata": {},
   "outputs": [],
   "source": [
    "# View frequency of location.\n",
    "L_centr_fnl_0['Location'].value_counts()"
   ]
  },
  {
   "cell_type": "markdown",
   "id": "30e30920",
   "metadata": {},
   "source": [
    "## Investigate missing dates related to Regent Street location\n"
   ]
  },
  {
   "cell_type": "markdown",
   "id": "ad322af6",
   "metadata": {},
   "source": [
    "## 2016"
   ]
  },
  {
   "cell_type": "code",
   "execution_count": 14,
   "id": "f5ebe78b",
   "metadata": {},
   "outputs": [
    {
     "ename": "NameError",
     "evalue": "name 'L_centr_fnl_0' is not defined",
     "output_type": "error",
     "traceback": [
      "\u001b[0;31m---------------------------------------------------------------------------\u001b[0m",
      "\u001b[0;31mNameError\u001b[0m                                 Traceback (most recent call last)",
      "\u001b[0;32m/var/folders/vf/ymq2hz2x7lnb9nnlr6_ycvfc0000gn/T/ipykernel_88826/3540845182.py\u001b[0m in \u001b[0;36m<module>\u001b[0;34m\u001b[0m\n\u001b[1;32m      1\u001b[0m \u001b[0;31m# Select rows with location 'Regent Street' and missing values in 'Survey_date_dt' column.\u001b[0m\u001b[0;34m\u001b[0m\u001b[0;34m\u001b[0m\u001b[0m\n\u001b[0;32m----> 2\u001b[0;31m \u001b[0mRst_0\u001b[0m \u001b[0;34m=\u001b[0m \u001b[0mL_centr_fnl_0\u001b[0m\u001b[0;34m[\u001b[0m\u001b[0;34m(\u001b[0m\u001b[0mL_centr_fnl_0\u001b[0m\u001b[0;34m[\u001b[0m\u001b[0;34m'Location'\u001b[0m\u001b[0;34m]\u001b[0m \u001b[0;34m==\u001b[0m \u001b[0;34m'Regent Street'\u001b[0m\u001b[0;34m)\u001b[0m \u001b[0;34m&\u001b[0m \u001b[0;34m(\u001b[0m\u001b[0mL_centr_fnl_0\u001b[0m\u001b[0;34m[\u001b[0m\u001b[0;34m'Survey_date_dt'\u001b[0m\u001b[0;34m]\u001b[0m\u001b[0;34m.\u001b[0m\u001b[0misnull\u001b[0m\u001b[0;34m(\u001b[0m\u001b[0;34m)\u001b[0m\u001b[0;34m)\u001b[0m\u001b[0;34m]\u001b[0m\u001b[0;34m\u001b[0m\u001b[0;34m\u001b[0m\u001b[0m\n\u001b[0m\u001b[1;32m      3\u001b[0m \u001b[0;34m\u001b[0m\u001b[0m\n\u001b[1;32m      4\u001b[0m \u001b[0mRst_0\u001b[0m\u001b[0;34m\u001b[0m\u001b[0;34m\u001b[0m\u001b[0m\n",
      "\u001b[0;31mNameError\u001b[0m: name 'L_centr_fnl_0' is not defined"
     ]
    }
   ],
   "source": [
    "# Select rows with location 'Regent Street' and missing values in 'Survey_date_dt' column.\n",
    "Rst_0 = L_centr_fnl_0[(L_centr_fnl_0['Location'] == 'Regent Street') & (L_centr_fnl_0['Survey_date_dt'].isnull())]\n",
    "\n",
    "Rst_0"
   ]
  },
  {
   "cell_type": "code",
   "execution_count": null,
   "id": "2c3f11c8",
   "metadata": {},
   "outputs": [],
   "source": [
    "# Check missing values in 'Survey_date_dt' column by calendar quarter related to Regent Street location.\n",
    "Rst_0['Survey wave (calendar quarter)'].value_counts()\n",
    "\n",
    "# All missing dates related to Regent Street is within 2016 Q3.\n"
   ]
  },
  {
   "cell_type": "code",
   "execution_count": null,
   "id": "729b613b",
   "metadata": {},
   "outputs": [],
   "source": [
    "# Select rows from the main DataFrame with location 'Regent Street' and 'Survey wave (calendar quarter)' \n",
    "# column == 2016 Q3.\n",
    "Rst_16_Q3 = L_centr_fnl_0[(L_centr_fnl_0['Location'] == 'Regent Street') & \n",
    "                          (L_centr_fnl_0['Survey wave (calendar quarter)'] == '2016 Q3 (July-September)')].sort_index()\n",
    "\n",
    "Rst_16_Q3"
   ]
  },
  {
   "cell_type": "code",
   "execution_count": null,
   "id": "2156b29c",
   "metadata": {},
   "outputs": [],
   "source": [
    "# Check dates related to the flollowing rows after 282303 and 2016 Q3.\n",
    "L_centr_fnl_0.loc[(L_centr_fnl_0.index > 282303) & \n",
    "                  (L_centr_fnl_0['Survey wave (calendar quarter)'] == '2016 Q3 (July-September)')]"
   ]
  },
  {
   "cell_type": "code",
   "execution_count": null,
   "id": "e8cdc756",
   "metadata": {},
   "outputs": [],
   "source": [
    "# View frequency of dates in 'Survey_date_dt' column.\n",
    "Rst_16_Q3['Survey_date_dt'].value_counts()"
   ]
  },
  {
   "cell_type": "code",
   "execution_count": null,
   "id": "fbe1ebd1",
   "metadata": {},
   "outputs": [],
   "source": [
    "# Check dates related to CENCY063 site ID in 2016 Q1.\n",
    "Rst_16_Q3.loc[Rst_16_Q3['Site ID'] == 'CENCY063']['Survey_date_dt'].value_counts(sort=False)\n"
   ]
  },
  {
   "cell_type": "code",
   "execution_count": null,
   "id": "bb65d453",
   "metadata": {},
   "outputs": [],
   "source": [
    "# View frequency of time slots in 'Time' column.\n",
    "Rst_16_Q3['Time'].value_counts()\n"
   ]
  },
  {
   "cell_type": "code",
   "execution_count": null,
   "id": "7b4884e0",
   "metadata": {},
   "outputs": [],
   "source": [
    "# View frequency of sites in 'Site ID' column.\n",
    "Rst_16_Q3['Site ID'].value_counts()"
   ]
  },
  {
   "cell_type": "code",
   "execution_count": null,
   "id": "e7c49a54",
   "metadata": {
    "scrolled": true
   },
   "outputs": [],
   "source": [
    "# Check missing values in 2016 Q3 for CENCY701 site ID.\n",
    "Rst_16_Q3.loc[(Rst_16_Q3['Site ID'] == 'CENCY701') & (Rst_16_Q3['Survey_date_dt'].isnull())]"
   ]
  },
  {
   "cell_type": "code",
   "execution_count": null,
   "id": "ff70715d",
   "metadata": {},
   "outputs": [],
   "source": [
    "# Check how many site IDs are asigned to Regent Street location.\n",
    "Rst = L_centr_fnl_0.loc[L_centr_fnl_0['Location'] == 'Regent Street']\n",
    "print(Rst['Site ID'].value_counts())\n",
    "\n",
    "# View DataFrame.\n",
    "Rst.head()\n"
   ]
  },
  {
   "cell_type": "code",
   "execution_count": null,
   "id": "93cb90a2",
   "metadata": {},
   "outputs": [],
   "source": [
    "# Select rows related to 2016 Q1.\n",
    "Rst_16_Q1 = Rst.loc[Rst['Survey wave (calendar quarter)'] == '2016 Q1 (January-March)'].sort_index() \n",
    "\n",
    "# View DataFrame.\n",
    "Rst_16_Q1"
   ]
  },
  {
   "cell_type": "code",
   "execution_count": null,
   "id": "a49a9bf3",
   "metadata": {},
   "outputs": [],
   "source": [
    "# View frequency of dates in 'Survey_date_dt' column.\n",
    "Rst_16_Q1['Survey_date_dt'].value_counts()"
   ]
  },
  {
   "cell_type": "code",
   "execution_count": null,
   "id": "cd29d301",
   "metadata": {},
   "outputs": [],
   "source": [
    "# View frequency of sites in 'Site ID' column.\n",
    "Rst_16_Q1['Site ID'].value_counts()"
   ]
  },
  {
   "cell_type": "code",
   "execution_count": null,
   "id": "c11114a2",
   "metadata": {},
   "outputs": [],
   "source": [
    "# View frequency of time slots in 'Time' column.\n",
    "Rst_16_Q1['Time'].value_counts()"
   ]
  },
  {
   "cell_type": "code",
   "execution_count": null,
   "id": "3769ef6c",
   "metadata": {},
   "outputs": [],
   "source": [
    "# Check dates related to CENCY063 site ID in 2016 Q1.\n",
    "Rst_16_Q1.loc[Rst_16_Q1['Site ID'] == 'CENCY063']['Survey_date_dt'].value_counts(sort=False)\n"
   ]
  },
  {
   "cell_type": "code",
   "execution_count": null,
   "id": "a984cf0c",
   "metadata": {},
   "outputs": [],
   "source": [
    "# Select rows related to 2016 Q2.\n",
    "Rst_16_Q2 = Rst.loc[Rst['Survey wave (calendar quarter)'] == '2016 Q2 (April-June)'] \n",
    "\n",
    "# View DataFrame.\n",
    "Rst_16_Q2"
   ]
  },
  {
   "cell_type": "code",
   "execution_count": null,
   "id": "22f3288b",
   "metadata": {},
   "outputs": [],
   "source": [
    "# View frequency of dates in 'Survey_date_dt' column.\n",
    "Rst_16_Q2['Survey_date_dt'].value_counts()"
   ]
  },
  {
   "cell_type": "code",
   "execution_count": null,
   "id": "7135ca38",
   "metadata": {},
   "outputs": [],
   "source": [
    "# View frequency of sites in 'Site ID' column.\n",
    "Rst_16_Q2['Site ID'].value_counts()"
   ]
  },
  {
   "cell_type": "code",
   "execution_count": null,
   "id": "b5fc2dbc",
   "metadata": {},
   "outputs": [],
   "source": [
    "# Check dates related to CENCY063 site ID in 2016 Q2.\n",
    "Rst_16_Q2.loc[Rst_16_Q2['Site ID'] == 'CENCY063']['Survey_date_dt'].value_counts(sort=False)"
   ]
  },
  {
   "cell_type": "code",
   "execution_count": null,
   "id": "ddf1fdf9",
   "metadata": {
    "scrolled": true
   },
   "outputs": [],
   "source": [
    "# View frequency of time slots in 'Time' column.\n",
    "Rst_16_Q2['Time'].value_counts()"
   ]
  },
  {
   "cell_type": "code",
   "execution_count": null,
   "id": "7910b273",
   "metadata": {},
   "outputs": [],
   "source": [
    "# Select rows related to 2016 Q4.\n",
    "Rst_16_Q4 = Rst.loc[Rst['Survey wave (calendar quarter)'] == '2016 Q4 (October-December)'].sort_index() \n",
    "\n",
    "# View DataFrame.\n",
    "Rst_16_Q4\n"
   ]
  },
  {
   "cell_type": "code",
   "execution_count": 15,
   "id": "dfe43c13",
   "metadata": {},
   "outputs": [
    {
     "ename": "NameError",
     "evalue": "name 'Rst_16_Q4' is not defined",
     "output_type": "error",
     "traceback": [
      "\u001b[0;31m---------------------------------------------------------------------------\u001b[0m",
      "\u001b[0;31mNameError\u001b[0m                                 Traceback (most recent call last)",
      "\u001b[0;32m/var/folders/vf/ymq2hz2x7lnb9nnlr6_ycvfc0000gn/T/ipykernel_88826/3166933506.py\u001b[0m in \u001b[0;36m<module>\u001b[0;34m\u001b[0m\n\u001b[1;32m      1\u001b[0m \u001b[0;31m# View frequency of dates in 'Survey_date_dt' column.\u001b[0m\u001b[0;34m\u001b[0m\u001b[0;34m\u001b[0m\u001b[0m\n\u001b[0;32m----> 2\u001b[0;31m \u001b[0mRst_16_Q4\u001b[0m\u001b[0;34m[\u001b[0m\u001b[0;34m'Survey_date_dt'\u001b[0m\u001b[0;34m]\u001b[0m\u001b[0;34m.\u001b[0m\u001b[0mvalue_counts\u001b[0m\u001b[0;34m(\u001b[0m\u001b[0msort\u001b[0m\u001b[0;34m=\u001b[0m\u001b[0;32mFalse\u001b[0m\u001b[0;34m)\u001b[0m\u001b[0;34m\u001b[0m\u001b[0;34m\u001b[0m\u001b[0m\n\u001b[0m",
      "\u001b[0;31mNameError\u001b[0m: name 'Rst_16_Q4' is not defined"
     ]
    }
   ],
   "source": [
    "# View frequency of dates in 'Survey_date_dt' column.\n",
    "Rst_16_Q4['Survey_date_dt'].value_counts(sort=False)\n"
   ]
  },
  {
   "cell_type": "code",
   "execution_count": null,
   "id": "8fb38e0c",
   "metadata": {},
   "outputs": [],
   "source": [
    "# See dates order.\n",
    "a = Rst_16_Q4['Survey_date_dt'].drop_duplicates()\n",
    "a\n",
    "\n",
    "# No consistency of date order (by index), e.g. 2016-11-21 is in between of rows related to data for 2016-11-17. \n",
    "# BUT within Qs months are in descending order."
   ]
  },
  {
   "cell_type": "code",
   "execution_count": null,
   "id": "ca78d752",
   "metadata": {},
   "outputs": [],
   "source": [
    "# View frequency of sites in 'Site ID' column.\n",
    "Rst_16_Q4['Site ID'].value_counts()\n"
   ]
  },
  {
   "cell_type": "code",
   "execution_count": null,
   "id": "3b6651d4",
   "metadata": {},
   "outputs": [],
   "source": [
    "# Check dates related to CENCY063 site ID in 2016 Q4.\n",
    "Rst_16_Q4.loc[Rst_16_Q4['Site ID'] == 'CENCY063']['Survey_date_dt'].value_counts(sort=False)"
   ]
  },
  {
   "cell_type": "code",
   "execution_count": null,
   "id": "a30fbeb9",
   "metadata": {},
   "outputs": [],
   "source": [
    "# View frequency of time slots in 'Time' column.\n",
    "Rst_16_Q4['Time'].value_counts()"
   ]
  },
  {
   "cell_type": "code",
   "execution_count": null,
   "id": "3f932a56",
   "metadata": {
    "scrolled": true
   },
   "outputs": [],
   "source": [
    "# Select rows from the main DataFrame with location 'Regent Street' and 'Survey wave (calendar quarter)' \n",
    "# column == 2015 Q3.\n",
    "Rst_15_Q3 = L_centr_fnl_0[(L_centr_fnl_0['Location'] == 'Regent Street') & \n",
    "                          (L_centr_fnl_0['Survey wave (calendar quarter)'] == '2015 Q3 (July-September)')].sort_index()\n",
    "\n",
    "Rst_15_Q3\n"
   ]
  },
  {
   "cell_type": "code",
   "execution_count": null,
   "id": "bf185b0f",
   "metadata": {},
   "outputs": [],
   "source": [
    "# View frequency of dates in 'Survey_date_dt' column.\n",
    "Rst_15_Q3['Survey_date_dt'].value_counts(sort=False)"
   ]
  },
  {
   "cell_type": "code",
   "execution_count": null,
   "id": "d8843729",
   "metadata": {},
   "outputs": [],
   "source": [
    "# See dates order.\n",
    "b = Rst_15_Q3['Survey_date_dt'].drop_duplicates()\n",
    "b\n",
    "\n",
    "# No consistency of date order (by index), e.g. 2016-11-21 is in between of rows related to data for 2016-11-17. \n",
    "# BUT within Qs months are in descending order."
   ]
  },
  {
   "cell_type": "code",
   "execution_count": null,
   "id": "635d6900",
   "metadata": {},
   "outputs": [],
   "source": [
    "# View frequency of sites in 'Site ID' column.\n",
    "Rst_15_Q3['Site ID'].value_counts()"
   ]
  },
  {
   "cell_type": "code",
   "execution_count": null,
   "id": "1719d344",
   "metadata": {},
   "outputs": [],
   "source": [
    "# Check dates related to CENCY063 site ID in 2015 Q3.\n",
    "Rst_15_Q3.loc[Rst_15_Q3['Site ID'] == 'CENCY063']['Survey_date_dt'].value_counts(sort=False)\n"
   ]
  },
  {
   "cell_type": "code",
   "execution_count": null,
   "id": "b62fa058",
   "metadata": {},
   "outputs": [],
   "source": [
    "# Select rows from the main DataFrame with location 'Regent Street' and 'Survey wave (calendar quarter)' \n",
    "# column == 2015 Q1.\n",
    "Rst_15_Q1 = L_centr_fnl_0[(L_centr_fnl_0['Location'] == 'Regent Street') & \n",
    "                          (L_centr_fnl_0['Survey wave (calendar quarter)'] == '2015 Q1 (January-March)')].sort_index()\n",
    "\n",
    "Rst_15_Q1"
   ]
  },
  {
   "cell_type": "code",
   "execution_count": null,
   "id": "6f7c2b49",
   "metadata": {},
   "outputs": [],
   "source": [
    "# View frequency of dates in 'Survey_date_dt' column.\n",
    "Rst_15_Q1['Survey_date_dt'].value_counts(sort=False)\n"
   ]
  },
  {
   "cell_type": "code",
   "execution_count": null,
   "id": "52a01dfa",
   "metadata": {},
   "outputs": [],
   "source": [
    "# View frequency of sites in 'Site ID' column.\n",
    "Rst_15_Q1['Site ID'].value_counts()"
   ]
  },
  {
   "cell_type": "code",
   "execution_count": null,
   "id": "56756f88",
   "metadata": {},
   "outputs": [],
   "source": [
    "# Check dates related to CENCY063 site ID in 2015 Q1.\n",
    "Rst_15_Q1.loc[Rst_15_Q1['Site ID'] == 'CENCY063']['Survey_date_dt'].value_counts(sort=False)"
   ]
  },
  {
   "cell_type": "code",
   "execution_count": null,
   "id": "5f547fc4",
   "metadata": {
    "scrolled": true
   },
   "outputs": [],
   "source": [
    "# Select rows from the main DataFrame with location 'Regent Street' and 'Survey wave (calendar quarter)' \n",
    "# column == 2015 Q2.\n",
    "Rst_15_Q2 = L_centr_fnl_0[(L_centr_fnl_0['Location'] == 'Regent Street') & \n",
    "                          (L_centr_fnl_0['Survey wave (calendar quarter)'] == '2015 Q2 (April-June)')].sort_index()\n",
    "\n",
    "Rst_15_Q2"
   ]
  },
  {
   "cell_type": "code",
   "execution_count": 16,
   "id": "2810f2ff",
   "metadata": {},
   "outputs": [
    {
     "ename": "NameError",
     "evalue": "name 'Rst_15_Q2' is not defined",
     "output_type": "error",
     "traceback": [
      "\u001b[0;31m---------------------------------------------------------------------------\u001b[0m",
      "\u001b[0;31mNameError\u001b[0m                                 Traceback (most recent call last)",
      "\u001b[0;32m/var/folders/vf/ymq2hz2x7lnb9nnlr6_ycvfc0000gn/T/ipykernel_88826/4153178159.py\u001b[0m in \u001b[0;36m<module>\u001b[0;34m\u001b[0m\n\u001b[1;32m      1\u001b[0m \u001b[0;31m# View frequency of dates in 'Survey_date_dt' column.\u001b[0m\u001b[0;34m\u001b[0m\u001b[0;34m\u001b[0m\u001b[0m\n\u001b[0;32m----> 2\u001b[0;31m \u001b[0mRst_15_Q2\u001b[0m\u001b[0;34m[\u001b[0m\u001b[0;34m'Survey_date_dt'\u001b[0m\u001b[0;34m]\u001b[0m\u001b[0;34m.\u001b[0m\u001b[0mvalue_counts\u001b[0m\u001b[0;34m(\u001b[0m\u001b[0msort\u001b[0m\u001b[0;34m=\u001b[0m\u001b[0;32mFalse\u001b[0m\u001b[0;34m)\u001b[0m\u001b[0;34m\u001b[0m\u001b[0;34m\u001b[0m\u001b[0m\n\u001b[0m",
      "\u001b[0;31mNameError\u001b[0m: name 'Rst_15_Q2' is not defined"
     ]
    }
   ],
   "source": [
    "# View frequency of dates in 'Survey_date_dt' column.\n",
    "Rst_15_Q2['Survey_date_dt'].value_counts(sort=False)\n"
   ]
  },
  {
   "cell_type": "code",
   "execution_count": null,
   "id": "7213fe93",
   "metadata": {},
   "outputs": [],
   "source": [
    "# View frequency of sites in 'Site ID' column.\n",
    "Rst_15_Q2['Site ID'].value_counts()\n"
   ]
  },
  {
   "cell_type": "code",
   "execution_count": null,
   "id": "a6f5752a",
   "metadata": {},
   "outputs": [],
   "source": [
    "# Check dates related to CENCY063 site ID in 2015 Q2.\n",
    "Rst_15_Q2.loc[Rst_15_Q2['Site ID'] == 'CENCY063']['Survey_date_dt'].value_counts(sort=False)"
   ]
  },
  {
   "cell_type": "code",
   "execution_count": null,
   "id": "813e5aa2",
   "metadata": {},
   "outputs": [],
   "source": [
    "# Select rows from the main DataFrame with location 'Regent Street' and 'Survey wave (calendar quarter)' \n",
    "# column == 2015 Q4.\n",
    "Rst_15_Q4 = L_centr_fnl_0[(L_centr_fnl_0['Location'] == 'Regent Street') & \n",
    "                          (L_centr_fnl_0['Survey wave (calendar quarter)'] == '2015 Q4 (October-December)')].sort_index()\n",
    "\n",
    "Rst_15_Q4"
   ]
  },
  {
   "cell_type": "code",
   "execution_count": null,
   "id": "8b3da0f4",
   "metadata": {},
   "outputs": [],
   "source": [
    "# View frequency of dates in 'Survey_date_dt' column.\n",
    "Rst_15_Q4['Survey_date_dt'].value_counts(sort=False)"
   ]
  },
  {
   "cell_type": "code",
   "execution_count": null,
   "id": "e03d4e1f",
   "metadata": {},
   "outputs": [],
   "source": [
    "# View frequency of sites in 'Site ID' column.\n",
    "Rst_15_Q4['Site ID'].value_counts()"
   ]
  },
  {
   "cell_type": "code",
   "execution_count": null,
   "id": "8be71908",
   "metadata": {},
   "outputs": [],
   "source": [
    "# Check dates related to CENCY063 site ID in 2015 Q4.\n",
    "Rst_15_Q4.loc[Rst_15_Q4['Site ID'] == 'CENCY063']['Survey_date_dt'].value_counts(sort=False)"
   ]
  },
  {
   "cell_type": "markdown",
   "id": "9cb4e0b2",
   "metadata": {},
   "source": [
    "### OBSERVATIONS AND INSIGHTS:\n",
    "\n",
    "7424 observations 128 NaN - all related to 2016 Q3 (July-September) 256 observations per Q 2 sites/locations: CENCY063 and CENCY701 128 entries per site ID in each Q 64 time slots per day from 6am to 10 pm (every 15 mins) SOMETIMES SPLIT BETWEEN DATES All missing values are related to CENCY701 site ID (128 entries)\n",
    "\n",
    "No consistency of date order (by index), e.g. 2016-11-21 is in between of rows related to data for 2016-11-17. BUT months within each Q are ALMOST all in the descending order. Observations from different site IDs were recorded in different months => CENCY063 - always last month of Q; CENCY701 – 1st or/and 2nd month of Q.\n",
    "\n",
    "#### Therefore the decision was made to keep the missing dates (1.37% of all entries) as NaT"
   ]
  },
  {
   "cell_type": "code",
   "execution_count": null,
   "id": "8bf144a1",
   "metadata": {},
   "outputs": [],
   "source": [
    "# Rename 'Survey_date_dt' column into 'Date'.\n",
    "L_centr_fnl_0 = L_centr_fnl_0.rename(columns={'Survey_date_dt':'Date'})\n",
    "\n",
    "# View DataFrame.\n",
    "L_centr_fnl_0.head()"
   ]
  },
  {
   "cell_type": "code",
   "execution_count": null,
   "id": "332fd355",
   "metadata": {},
   "outputs": [],
   "source": [
    "# Add a column with days of the week.\n",
    "L_centr_fnl_0['Day'] = L_centr_fnl_0['Date'].dt.day_name()\n",
    "\n",
    "# View DataFrame.\n",
    "L_centr_fnl_0.head()"
   ]
  },
  {
   "cell_type": "markdown",
   "id": "d80a1772",
   "metadata": {},
   "source": [
    "### Create a new column ffil to clean survey dates column\n",
    "This is done to keep the original column, not loose any data but ensure we have a column with complete entries for any date analysis"
   ]
  },
  {
   "cell_type": "code",
   "execution_count": null,
   "id": "3fa1cff4",
   "metadata": {},
   "outputs": [],
   "source": [
    "L_centr_fnl_0['ffill_date'] = L_centr_fnl_0['Date'].ffill()\n",
    "L_centr_fnl_0.head()"
   ]
  },
  {
   "cell_type": "code",
   "execution_count": null,
   "id": "12dcebd7",
   "metadata": {},
   "outputs": [],
   "source": [
    "L_centr_fnl_0['ffill_day'] = L_centr_fnl_0['Day'].ffill()\n",
    "L_centr_fnl_0.head()"
   ]
  },
  {
   "cell_type": "code",
   "execution_count": null,
   "id": "2df55028",
   "metadata": {},
   "outputs": [],
   "source": [
    "# Check info.\n",
    "L_centr_fnl_0.info()"
   ]
  },
  {
   "cell_type": "code",
   "execution_count": null,
   "id": "635bb623",
   "metadata": {},
   "outputs": [],
   "source": [
    "# Check info.\n",
    "L_centr_fnl_0.isnull().sum()"
   ]
  },
  {
   "cell_type": "markdown",
   "id": "5fe82002",
   "metadata": {},
   "source": [
    "## Investigating missing values in 'Number of private cycles' and 'Number of cycle hire bikes' columns\n"
   ]
  },
  {
   "cell_type": "code",
   "execution_count": 17,
   "id": "c5357c07",
   "metadata": {},
   "outputs": [
    {
     "ename": "NameError",
     "evalue": "name 'L_centr_fnl_0' is not defined",
     "output_type": "error",
     "traceback": [
      "\u001b[0;31m---------------------------------------------------------------------------\u001b[0m",
      "\u001b[0;31mNameError\u001b[0m                                 Traceback (most recent call last)",
      "\u001b[0;32m/var/folders/vf/ymq2hz2x7lnb9nnlr6_ycvfc0000gn/T/ipykernel_88826/1887450249.py\u001b[0m in \u001b[0;36m<module>\u001b[0;34m\u001b[0m\n\u001b[1;32m      1\u001b[0m \u001b[0;31m# Look at rows with missing values for Number of private cycles and Number of cycle hire bikes.\u001b[0m\u001b[0;34m\u001b[0m\u001b[0;34m\u001b[0m\u001b[0m\n\u001b[0;32m----> 2\u001b[0;31m BC_0 = L_centr_fnl_0[(L_centr_fnl_0['Number of private cycles'].isnull()) | \n\u001b[0m\u001b[1;32m      3\u001b[0m                      (L_centr_fnl_0['Number of cycle hire bikes'].isnull())]\n\u001b[1;32m      4\u001b[0m \u001b[0;34m\u001b[0m\u001b[0m\n\u001b[1;32m      5\u001b[0m \u001b[0;31m# View DataFrame.\u001b[0m\u001b[0;34m\u001b[0m\u001b[0;34m\u001b[0m\u001b[0m\n",
      "\u001b[0;31mNameError\u001b[0m: name 'L_centr_fnl_0' is not defined"
     ]
    }
   ],
   "source": [
    "# Look at rows with missing values for Number of private cycles and Number of cycle hire bikes.\n",
    "BC_0 = L_centr_fnl_0[(L_centr_fnl_0['Number of private cycles'].isnull()) | \n",
    "                     (L_centr_fnl_0['Number of cycle hire bikes'].isnull())]\n",
    "\n",
    "# View DataFrame.\n",
    "BC_0\n",
    "# The same rows have NaN for both columns. "
   ]
  },
  {
   "cell_type": "code",
   "execution_count": null,
   "id": "8d9689f3",
   "metadata": {},
   "outputs": [],
   "source": [
    "# Check if DataFrame has any missing dates.\n",
    "BC_0[BC_0['Date'].isnull()]"
   ]
  },
  {
   "cell_type": "code",
   "execution_count": null,
   "id": "d8ec5abc",
   "metadata": {},
   "outputs": [],
   "source": [
    "# Run a test of the skewness \n",
    "L_centr_fnl_0.skew(axis = 0, skipna = True)\n",
    "\n",
    "# The puurpose of determining the skew is to see which measure of central tendancy (mean, mode, median) would be \n",
    "# best to use to replace the missing values. Due to the data being skewed we will replace values using the median."
   ]
  },
  {
   "cell_type": "code",
   "execution_count": null,
   "id": "484d6b43",
   "metadata": {},
   "outputs": [],
   "source": [
    "# Descriptive statistics.\n",
    "L_centr_fnl_0.describe()\n",
    "\n",
    "# Median for 'Number of private cycles' = 7; median for 'Number of cycle hire bikes' = 1."
   ]
  },
  {
   "cell_type": "code",
   "execution_count": null,
   "id": "afc88a91",
   "metadata": {},
   "outputs": [],
   "source": [
    "# Replace all NaN values with the median. \n",
    "L_centr_fnl_0['Number of private cycles'].fillna(7, inplace = True)\n",
    "\n",
    "# Check for any missing values.\n",
    "L_centr_fnl_0['Number of private cycles'].isnull().sum()"
   ]
  },
  {
   "cell_type": "code",
   "execution_count": null,
   "id": "d57b0e30",
   "metadata": {},
   "outputs": [],
   "source": [
    "# Replace all NaN values with the median. \n",
    "L_centr_fnl_0['Number of cycle hire bikes'].fillna(1, inplace = True)\n",
    "\n",
    "# Check for any missing values.\n",
    "L_centr_fnl_0['Number of cycle hire bikes'].isnull().sum()"
   ]
  },
  {
   "cell_type": "code",
   "execution_count": null,
   "id": "8f9e06f0",
   "metadata": {},
   "outputs": [],
   "source": [
    "# Recalculate the 'Total cycles' column.\n",
    "L_centr_fnl_0['Total_cycles'] = L_centr_fnl_0['Number of private cycles'] + L_centr_fnl_0['Number of cycle hire bikes']\n"
   ]
  },
  {
   "cell_type": "code",
   "execution_count": null,
   "id": "1bf26cec",
   "metadata": {},
   "outputs": [],
   "source": [
    "# Drop 'Total cycles' column.\n",
    "L_centr_fnl_0 = L_centr_fnl_0.drop(columns=['Total cycles']).reset_index(drop=True)\n"
   ]
  },
  {
   "cell_type": "code",
   "execution_count": null,
   "id": "884aa58f",
   "metadata": {},
   "outputs": [],
   "source": [
    "# Descriptive statistics.\n",
    "L_centr_fnl_0.describe()\n",
    "\n",
    "# Count shows that the NaN values were replaced."
   ]
  },
  {
   "cell_type": "code",
   "execution_count": null,
   "id": "9b9b1451",
   "metadata": {},
   "outputs": [],
   "source": [
    "# Convert 'Number of private cycles', 'Number of cycle hire bikes' and 'Total_cycles' Dtypes to integer.\n",
    "L_centr_fnl_0['Number of private cycles'] = L_centr_fnl_0['Number of private cycles'].astype(int)\n",
    "L_centr_fnl_0['Number of cycle hire bikes'] = L_centr_fnl_0['Number of cycle hire bikes'].astype(int)\n",
    "L_centr_fnl_0['Total_cycles'] = L_centr_fnl_0['Total_cycles'].astype(int)\n",
    "\n",
    "# Check Dtypes.\n",
    "L_centr_fnl_0.info()"
   ]
  },
  {
   "cell_type": "code",
   "execution_count": null,
   "id": "2baec0fe",
   "metadata": {},
   "outputs": [],
   "source": [
    "# Exported as csv file \n",
    "L_centr_fnl_0.to_csv('L_centr_fnl_0.csv')\n"
   ]
  },
  {
   "cell_type": "markdown",
   "id": "3cc70659",
   "metadata": {},
   "source": [
    "# OUTER LONDON DATA SET"
   ]
  },
  {
   "cell_type": "code",
   "execution_count": null,
   "id": "156250e1",
   "metadata": {},
   "outputs": [],
   "source": [
    "# Read the provided CSV file/data set.\n",
    "london_outer = pd.read_csv('Outer London.csv') \n",
    "\n",
    "# Print the output.\n",
    "print(london_outer.info())\n",
    "london_outer.tail()"
   ]
  },
  {
   "cell_type": "code",
   "execution_count": 18,
   "id": "a8ede1e5",
   "metadata": {},
   "outputs": [
    {
     "ename": "NameError",
     "evalue": "name 'london_outer' is not defined",
     "output_type": "error",
     "traceback": [
      "\u001b[0;31m---------------------------------------------------------------------------\u001b[0m",
      "\u001b[0;31mNameError\u001b[0m                                 Traceback (most recent call last)",
      "\u001b[0;32m/var/folders/vf/ymq2hz2x7lnb9nnlr6_ycvfc0000gn/T/ipykernel_88826/3630199461.py\u001b[0m in \u001b[0;36m<module>\u001b[0;34m\u001b[0m\n\u001b[1;32m      1\u001b[0m \u001b[0;31m# Any missing values?\u001b[0m\u001b[0;34m\u001b[0m\u001b[0;34m\u001b[0m\u001b[0m\n\u001b[0;32m----> 2\u001b[0;31m \u001b[0mlondon_outer\u001b[0m\u001b[0;34m.\u001b[0m\u001b[0misnull\u001b[0m\u001b[0;34m(\u001b[0m\u001b[0;34m)\u001b[0m\u001b[0;34m.\u001b[0m\u001b[0msum\u001b[0m\u001b[0;34m(\u001b[0m\u001b[0;34m)\u001b[0m\u001b[0;34m\u001b[0m\u001b[0;34m\u001b[0m\u001b[0m\n\u001b[0m",
      "\u001b[0;31mNameError\u001b[0m: name 'london_outer' is not defined"
     ]
    }
   ],
   "source": [
    "# Any missing values?\n",
    "london_outer.isnull().sum() \n"
   ]
  },
  {
   "cell_type": "code",
   "execution_count": null,
   "id": "3b6cbfdf",
   "metadata": {},
   "outputs": [],
   "source": [
    "# Check for duplicates.\n",
    "london_outer[london_outer.duplicated(keep=False)]"
   ]
  },
  {
   "cell_type": "code",
   "execution_count": null,
   "id": "fb20c4c4",
   "metadata": {},
   "outputs": [],
   "source": [
    "# Check for unique values.\n",
    "london_outer['Weather'].nunique()\n"
   ]
  },
  {
   "cell_type": "code",
   "execution_count": null,
   "id": "48ec0289",
   "metadata": {
    "scrolled": true
   },
   "outputs": [],
   "source": [
    "london_outer['Weather'].value_counts()\n",
    "\n"
   ]
  },
  {
   "cell_type": "markdown",
   "id": "61f4a089",
   "metadata": {},
   "source": [
    " Can see there are 124 different weather types - this needs to be reduced. Will reclassify the weather types as per the central london data"
   ]
  },
  {
   "cell_type": "code",
   "execution_count": null,
   "id": "d36678e8",
   "metadata": {},
   "outputs": [],
   "source": [
    "# Change relevant weather values to Cloudy\n",
    "london_outer['Weather'] = london_outer['Weather'].replace(['Bright + Cloudy', 'Cloud', 'Cloudy with bright intervals',\n",
    "                                                           'Cloudy bright intervals',\n",
    "                                                          'Cloudy with clear spells', 'Cloudy with showers',\n",
    "                                                          'Cloudy/dry', 'Generally overcast',\n",
    "                                                          'Generally overcast brief shower', 'Overcast',\n",
    "                                                          'Overcast (No Rain)'], 'Cloudy')"
   ]
  },
  {
   "cell_type": "code",
   "execution_count": null,
   "id": "08c8eacb",
   "metadata": {},
   "outputs": [],
   "source": [
    "# Change relevant weather values to Cold\n",
    "london_outer['Weather'] = london_outer['Weather'].replace(['Cold/cloudy', 'Dry Cold', 'Dry V. Cold!',\n",
    "                                                          'Dry/cold', 'Very Cool'], 'Cold')"
   ]
  },
  {
   "cell_type": "code",
   "execution_count": null,
   "id": "7d08fbf4",
   "metadata": {},
   "outputs": [],
   "source": [
    "# Change relevant weather values to Dark\n",
    "london_outer['Weather'] = london_outer['Weather'].replace(['Dark Dry', 'Dark/dry',\n",
    "                                                          'Dry Dark', 'Dry/dark'], 'Dark')"
   ]
  },
  {
   "cell_type": "code",
   "execution_count": null,
   "id": "22132e26",
   "metadata": {},
   "outputs": [],
   "source": [
    "# Change relevant weather values to Dry\n",
    "london_outer['Weather'] = london_outer['Weather'].replace(['Bright', 'Clear', 'Clear and Bright', 'Dry', 'Dry & Mild', 'Dry Chill',\n",
    "                                                          'Dry/good', 'Dry/mild', 'Dull', 'Fine', 'Fine & Dry',\n",
    "                                                           'Fine + Dry', 'Fine/dry', 'Getting Dry', 'Good',\n",
    "                                                          'Good/dry', 'Mild'], 'Dry')"
   ]
  },
  {
   "cell_type": "code",
   "execution_count": null,
   "id": "975e1a8e",
   "metadata": {},
   "outputs": [],
   "source": [
    "# Change relevant weather values to Dry & Wet\n",
    "london_outer['Weather'] = london_outer['Weather'].replace(['Dry (road Wet)', 'Dry & Wet', 'Dry With Wet Road',\n",
    "                                                          'Dry/wet', 'Dry/wet Road', 'Wet/dry'], 'Dry & Wet')"
   ]
  },
  {
   "cell_type": "code",
   "execution_count": null,
   "id": "bcb2fa49",
   "metadata": {},
   "outputs": [],
   "source": [
    "# Change relevant weather values to Frost / Fog\n",
    "london_outer['Weather'] = london_outer['Weather'].replace(['Foggy Wet'], 'Frost / Fog')\n"
   ]
  },
  {
   "cell_type": "code",
   "execution_count": null,
   "id": "bf1472a1",
   "metadata": {},
   "outputs": [],
   "source": [
    "# Change relevant weather values to Hail / Sleet\n",
    "london_outer['Weather'] = london_outer['Weather'].replace(['Hailstones', 'Rain/hail', 'Sleet', 'Short Hail Shower',\n",
    "                                                           'Short Hail Shower',\n",
    "                                                          'Wet Hail'], 'Hail / Sleet')"
   ]
  },
  {
   "cell_type": "code",
   "execution_count": null,
   "id": "36c5a83c",
   "metadata": {},
   "outputs": [],
   "source": [
    "# Change relevant weather values to Heavy Rain\n",
    "london_outer['Weather'] = london_outer['Weather'].replace(['Deluge', 'Down Pour', 'Heavy Downpour/rain',\n",
    "                                                          'Wet (Heavy Rain)', 'Wet (heavy Rain)',\n",
    "                                                          'Wet Heavy Rain'], 'Heavy Rain')\n"
   ]
  },
  {
   "cell_type": "code",
   "execution_count": null,
   "id": "4b8cf658",
   "metadata": {},
   "outputs": [],
   "source": [
    "# Change relevant weather values to Hot\n",
    "london_outer['Weather'] = london_outer['Weather'].replace(['Dry Hot!!', 'Fine + Hot', 'Very Hot'], 'Hot')"
   ]
  },
  {
   "cell_type": "code",
   "execution_count": 19,
   "id": "0c5a99fa",
   "metadata": {},
   "outputs": [
    {
     "ename": "NameError",
     "evalue": "name 'london_outer' is not defined",
     "output_type": "error",
     "traceback": [
      "\u001b[0;31m---------------------------------------------------------------------------\u001b[0m",
      "\u001b[0;31mNameError\u001b[0m                                 Traceback (most recent call last)",
      "\u001b[0;32m/var/folders/vf/ymq2hz2x7lnb9nnlr6_ycvfc0000gn/T/ipykernel_88826/4279265162.py\u001b[0m in \u001b[0;36m<module>\u001b[0;34m\u001b[0m\n\u001b[1;32m      1\u001b[0m \u001b[0;31m# Change relevant weather values to Light Rain\u001b[0m\u001b[0;34m\u001b[0m\u001b[0;34m\u001b[0m\u001b[0m\n\u001b[0;32m----> 2\u001b[0;31m london_outer['Weather'] = london_outer['Weather'].replace(['Drizzle', 'Drizzle/shower', 'Intermitent Showers',\n\u001b[0m\u001b[1;32m      3\u001b[0m                                                           \u001b[0;34m'Intermittent Drizzle'\u001b[0m\u001b[0;34m,\u001b[0m \u001b[0;34m'Intermittent Light Drizzle'\u001b[0m\u001b[0;34m,\u001b[0m\u001b[0;34m\u001b[0m\u001b[0;34m\u001b[0m\u001b[0m\n\u001b[1;32m      4\u001b[0m                                                           'Light Showers', 'Lt Rain', 'Shower', 'Showers', 'Showery'],\n\u001b[1;32m      5\u001b[0m                                                          'Light Rain')\n",
      "\u001b[0;31mNameError\u001b[0m: name 'london_outer' is not defined"
     ]
    }
   ],
   "source": [
    "# Change relevant weather values to Light Rain\n",
    "london_outer['Weather'] = london_outer['Weather'].replace(['Drizzle', 'Drizzle/shower', 'Intermitent Showers',\n",
    "                                                          'Intermittent Drizzle', 'Intermittent Light Drizzle',\n",
    "                                                          'Light Showers', 'Lt Rain', 'Shower', 'Showers', 'Showery'],\n",
    "                                                         'Light Rain')\n"
   ]
  },
  {
   "cell_type": "code",
   "execution_count": null,
   "id": "a0f1477b",
   "metadata": {},
   "outputs": [],
   "source": [
    "# Change relevant weather values to Rain\n",
    "london_outer['Weather'] = london_outer['Weather'].replace(['Cloudy + Rain', 'Heavy Shower', 'Heavy Showers',\n",
    "                                                          'Heavy Shr', 'Rain & Cloudy', 'Rain Heavy Showers',\n",
    "                                                          'Rain/cloudy', 'Rain/showers', 'Raining', 'Rainy'], 'Rain')\n"
   ]
  },
  {
   "cell_type": "code",
   "execution_count": null,
   "id": "aa95d84f",
   "metadata": {},
   "outputs": [],
   "source": [
    "# Change relevant weather values to Snow\n",
    "london_outer['Weather'] = london_outer['Weather'].replace(['Snow!'], 'Snow')\n"
   ]
  },
  {
   "cell_type": "code",
   "execution_count": null,
   "id": "d85b8da7",
   "metadata": {},
   "outputs": [],
   "source": [
    "# Change relevant weather values to Sun\n",
    "london_outer['Weather'] = london_outer['Weather'].replace(['Cloudy + Sunny', 'Cloudy Sunny', 'Cloudy/sunny',\n",
    "                                                          'Dry & Sun', 'Dry & Sunny', 'Dry/sunny', 'Partly Sunny',\n",
    "                                                          'Sun Setting', 'Sunny', 'Sunny + Cloudy', \n",
    "                                                          'Sunny Dry', 'Sunny Overcast', 'Sunny/cloudy'], 'Sun')"
   ]
  },
  {
   "cell_type": "code",
   "execution_count": null,
   "id": "75c8c657",
   "metadata": {},
   "outputs": [],
   "source": [
    "# Change relevant weather values to Sun & Rain\n",
    "london_outer['Weather'] = london_outer['Weather'].replace(['Cloudy/rain/sunny'],'Sun & Rain')"
   ]
  },
  {
   "cell_type": "code",
   "execution_count": null,
   "id": "64b52825",
   "metadata": {},
   "outputs": [],
   "source": [
    "# Change relevant weather values to Windy + Sunny\n",
    "london_outer['Weather'] = london_outer['Weather'].replace(['Windy + Sunny'], 'Sun & Wind')\n"
   ]
  },
  {
   "cell_type": "code",
   "execution_count": null,
   "id": "c7617b70",
   "metadata": {},
   "outputs": [],
   "source": [
    "# Change relevant weather values to Thunder\n",
    "london_outer['Weather'] = london_outer['Weather'].replace(['Thunder Lightening Rain!', 'Wet/thunder'], 'Thunder')\n"
   ]
  },
  {
   "cell_type": "code",
   "execution_count": null,
   "id": "30650dae",
   "metadata": {},
   "outputs": [],
   "source": [
    "# Change relevant weather values to Unknown\n",
    "london_outer['Weather'] = london_outer['Weather'].replace(['D', 'N/a', 'W'], 'Unknown')\n"
   ]
  },
  {
   "cell_type": "code",
   "execution_count": null,
   "id": "f763bb98",
   "metadata": {},
   "outputs": [],
   "source": [
    "# Change relevant weather values to Warm\n",
    "london_outer['Weather'] = london_outer['Weather'].replace(['Warm + Dry'], 'Warm')"
   ]
  },
  {
   "cell_type": "code",
   "execution_count": null,
   "id": "d4e5bf42",
   "metadata": {},
   "outputs": [],
   "source": [
    "# Change relevant weather values to Wet \n",
    "london_outer['Weather'] = london_outer['Weather'].replace(['V.wet', 'Very Wet', 'Wey', 'wet'], 'Wet')\n"
   ]
  },
  {
   "cell_type": "code",
   "execution_count": null,
   "id": "c353d828",
   "metadata": {},
   "outputs": [],
   "source": [
    "# Change relevant weather values to Wet & Wind\n",
    "london_outer['Weather'] = london_outer['Weather'].replace(['Wet Heavy Wind', 'Wet-windy'], 'Wet & Wind')\n"
   ]
  },
  {
   "cell_type": "code",
   "execution_count": null,
   "id": "c5d5b340",
   "metadata": {},
   "outputs": [],
   "source": [
    "# Change relevant weather values to Wind\n",
    "london_outer['Weather'] = london_outer['Weather'].replace(['Cloudy/windy', 'Dry Very Windy', 'Dry/windy', \n",
    "                                                           'Sunsetting + Windy',\n",
    "                                                          'Wet/v.windy', 'Wet/windy', 'Windy'], 'Wind')\n"
   ]
  },
  {
   "cell_type": "code",
   "execution_count": null,
   "id": "38438044",
   "metadata": {},
   "outputs": [],
   "source": [
    "london_outer['Weather'].nunique()\n"
   ]
  },
  {
   "cell_type": "code",
   "execution_count": null,
   "id": "4d9ae363",
   "metadata": {
    "scrolled": true
   },
   "outputs": [],
   "source": [
    "london_outer['Weather'].value_counts()"
   ]
  },
  {
   "cell_type": "markdown",
   "id": "cfafb0c3",
   "metadata": {},
   "source": [
    "## Missing values in Weather Column\n"
   ]
  },
  {
   "cell_type": "code",
   "execution_count": null,
   "id": "1e9b9700",
   "metadata": {},
   "outputs": [],
   "source": [
    "# Subset of the data of only null values\n",
    "null_data = london_outer[london_outer.isna().any(axis=1)]\n",
    "\n",
    "# Subset of null data frame to look weather null values \n",
    "# Wanted to see if there was a sensible way to replace the null based on loc or quarter\n",
    "weather_null = null_data[['Location', 'Survey wave (year)', 'Weather']]\n",
    "weather_null"
   ]
  },
  {
   "cell_type": "code",
   "execution_count": 20,
   "id": "da61b231",
   "metadata": {},
   "outputs": [
    {
     "ename": "NameError",
     "evalue": "name 'weather_null' is not defined",
     "output_type": "error",
     "traceback": [
      "\u001b[0;31m---------------------------------------------------------------------------\u001b[0m",
      "\u001b[0;31mNameError\u001b[0m                                 Traceback (most recent call last)",
      "\u001b[0;32m/var/folders/vf/ymq2hz2x7lnb9nnlr6_ycvfc0000gn/T/ipykernel_88826/3325555165.py\u001b[0m in \u001b[0;36m<module>\u001b[0;34m\u001b[0m\n\u001b[1;32m      1\u001b[0m \u001b[0;31m# All the entries with null weather data\u001b[0m\u001b[0;34m\u001b[0m\u001b[0;34m\u001b[0m\u001b[0m\n\u001b[0;32m----> 2\u001b[0;31m \u001b[0mw_null\u001b[0m \u001b[0;34m=\u001b[0m \u001b[0mweather_null\u001b[0m\u001b[0;34m[\u001b[0m\u001b[0mweather_null\u001b[0m\u001b[0;34m[\u001b[0m\u001b[0;34m'Weather'\u001b[0m\u001b[0;34m]\u001b[0m\u001b[0;34m.\u001b[0m\u001b[0misna\u001b[0m\u001b[0;34m(\u001b[0m\u001b[0;34m)\u001b[0m\u001b[0;34m]\u001b[0m\u001b[0;34m\u001b[0m\u001b[0;34m\u001b[0m\u001b[0m\n\u001b[0m\u001b[1;32m      3\u001b[0m \u001b[0;34m\u001b[0m\u001b[0m\n\u001b[1;32m      4\u001b[0m \u001b[0;31m# Check which locations have the most NaN values\u001b[0m\u001b[0;34m\u001b[0m\u001b[0;34m\u001b[0m\u001b[0m\n\u001b[1;32m      5\u001b[0m \u001b[0mprint\u001b[0m\u001b[0;34m(\u001b[0m\u001b[0mw_null\u001b[0m\u001b[0;34m[\u001b[0m\u001b[0;34m'Location'\u001b[0m\u001b[0;34m]\u001b[0m\u001b[0;34m.\u001b[0m\u001b[0mvalue_counts\u001b[0m\u001b[0;34m(\u001b[0m\u001b[0;34m)\u001b[0m\u001b[0;34m)\u001b[0m\u001b[0;34m\u001b[0m\u001b[0;34m\u001b[0m\u001b[0m\n",
      "\u001b[0;31mNameError\u001b[0m: name 'weather_null' is not defined"
     ]
    }
   ],
   "source": [
    "# All the entries with null weather data \n",
    "w_null = weather_null[weather_null['Weather'].isna()]\n",
    "\n",
    "# Check which locations have the most NaN values \n",
    "print(w_null['Location'].value_counts())"
   ]
  },
  {
   "cell_type": "markdown",
   "id": "02b8cce8",
   "metadata": {},
   "source": [
    "We can't define weather or any pattern in missing data as we have only Year here. As we didn't have any other assumptions: NaN values in Weather are replaced with 'Unknown\"."
   ]
  },
  {
   "cell_type": "code",
   "execution_count": null,
   "id": "95d47ef9",
   "metadata": {},
   "outputs": [],
   "source": [
    "# Replace NaN values with Unknown.\n",
    "london_outer['Weather'] = london_outer['Weather'].fillna('Unknown')\n"
   ]
  },
  {
   "cell_type": "code",
   "execution_count": null,
   "id": "350523c7",
   "metadata": {},
   "outputs": [],
   "source": [
    "# Check missing values.\n",
    "london_outer.isnull().sum()"
   ]
  },
  {
   "cell_type": "markdown",
   "id": "9c892f26",
   "metadata": {},
   "source": [
    "## Cleaning Date and Time related Columns\n"
   ]
  },
  {
   "cell_type": "code",
   "execution_count": null,
   "id": "847e2819",
   "metadata": {},
   "outputs": [],
   "source": [
    "london_outer.info()"
   ]
  },
  {
   "cell_type": "code",
   "execution_count": null,
   "id": "a59b2338",
   "metadata": {},
   "outputs": [],
   "source": [
    "# Split 'Survey date' column into two new columns.\n",
    "london_outer[['Survey_week_day', 'Survey_date']] = london_outer['Survey date'].\\\n",
    "apply(lambda x: pd.Series(str(x).split(',')))\n",
    "\n",
    "# View DataFrame.\n",
    "london_outer.head()"
   ]
  },
  {
   "cell_type": "code",
   "execution_count": null,
   "id": "ec0bdff8",
   "metadata": {},
   "outputs": [],
   "source": [
    "# Drop 'Survey_week_day' column.\n",
    "london_outer = london_outer.drop(columns='Survey_week_day').reset_index(drop=True)\n"
   ]
  },
  {
   "cell_type": "code",
   "execution_count": null,
   "id": "a45a8f7b",
   "metadata": {},
   "outputs": [],
   "source": [
    "# Remove whitespaces in 'Survey_date' column.\n",
    "london_outer['Survey_date'] = london_outer['Survey_date'].str.replace(' ', '')\n"
   ]
  },
  {
   "cell_type": "code",
   "execution_count": null,
   "id": "1f54ff7d",
   "metadata": {},
   "outputs": [],
   "source": [
    "# Convert 'Survey_date' column to datetime dtype.\n",
    "london_outer['Survey_date_dt'] = pd.to_datetime(london_outer['Survey_date'], format = '%d/%m/%y')\n",
    "\n",
    "# View DataFrame.\n",
    "london_outer.head()"
   ]
  },
  {
   "cell_type": "code",
   "execution_count": null,
   "id": "b4e1e91d",
   "metadata": {},
   "outputs": [],
   "source": [
    "# Drop 'Survey_date' column.\n",
    "london_outer = london_outer.drop(columns=['Survey_date']).reset_index(drop=True)"
   ]
  },
  {
   "cell_type": "code",
   "execution_count": null,
   "id": "54d76d13",
   "metadata": {},
   "outputs": [],
   "source": [
    "# Rename 'Survey_date_dt' column into 'Date'.\n",
    "london_outer = london_outer.rename(columns={'Survey_date_dt':'Date'})\n",
    "\n",
    "# View DataFrame.\n",
    "london_outer.head()"
   ]
  },
  {
   "cell_type": "code",
   "execution_count": null,
   "id": "090676b2",
   "metadata": {},
   "outputs": [],
   "source": [
    "# Add a column with days of the week.\n",
    "london_outer['Day'] = london_outer['Date'].dt.day_name()\n",
    "\n",
    "# View DataFrame.\n",
    "london_outer.head()"
   ]
  },
  {
   "cell_type": "code",
   "execution_count": null,
   "id": "935acbc4",
   "metadata": {
    "scrolled": true
   },
   "outputs": [],
   "source": [
    "london_outer.isnull().sum()"
   ]
  },
  {
   "cell_type": "markdown",
   "id": "11189487",
   "metadata": {},
   "source": [
    "## Investigating 'Total cycles' consistency (Total = Male+Femail+Unknown)."
   ]
  },
  {
   "cell_type": "code",
   "execution_count": null,
   "id": "dd2b4ee7",
   "metadata": {},
   "outputs": [],
   "source": [
    "# Create a new column of all columns added together \n",
    "london_outer['Control_total'] = london_outer['Number of male cycles'] + london_outer['Number of female cycles']\\\n",
    "                                +london_outer['Number of unknown cycles']\n",
    "london_outer"
   ]
  },
  {
   "cell_type": "code",
   "execution_count": null,
   "id": "82b40224",
   "metadata": {},
   "outputs": [],
   "source": [
    "# Checking for discrepancies in 'Total cycles' and calculated 'Control_total'.\n",
    "london_outer['Dif_total'] = london_outer['Total cycles'] - london_outer['Control_total']\n",
    "london_outer.sort_values(by='Dif_total', ascending = False)"
   ]
  },
  {
   "cell_type": "code",
   "execution_count": 21,
   "id": "46ba7387",
   "metadata": {
    "scrolled": true
   },
   "outputs": [
    {
     "ename": "NameError",
     "evalue": "name 'london_outer' is not defined",
     "output_type": "error",
     "traceback": [
      "\u001b[0;31m---------------------------------------------------------------------------\u001b[0m",
      "\u001b[0;31mNameError\u001b[0m                                 Traceback (most recent call last)",
      "\u001b[0;32m/var/folders/vf/ymq2hz2x7lnb9nnlr6_ycvfc0000gn/T/ipykernel_88826/586801812.py\u001b[0m in \u001b[0;36m<module>\u001b[0;34m\u001b[0m\n\u001b[1;32m      1\u001b[0m \u001b[0;31m# Replace \"Number of unknown cycles\" where we have discrepancy.\u001b[0m\u001b[0;34m\u001b[0m\u001b[0;34m\u001b[0m\u001b[0m\n\u001b[0;32m----> 2\u001b[0;31m \u001b[0mlondon_outer\u001b[0m\u001b[0;34m.\u001b[0m\u001b[0mloc\u001b[0m\u001b[0;34m[\u001b[0m\u001b[0mlondon_outer\u001b[0m\u001b[0;34m[\u001b[0m\u001b[0;34m\"Dif_total\"\u001b[0m\u001b[0;34m]\u001b[0m \u001b[0;34m==\u001b[0m \u001b[0;36m2\u001b[0m\u001b[0;34m,\u001b[0m \u001b[0;34m'Number of unknown cycles'\u001b[0m\u001b[0;34m]\u001b[0m \u001b[0;34m=\u001b[0m \u001b[0;36m2\u001b[0m\u001b[0;34m\u001b[0m\u001b[0;34m\u001b[0m\u001b[0m\n\u001b[0m",
      "\u001b[0;31mNameError\u001b[0m: name 'london_outer' is not defined"
     ]
    }
   ],
   "source": [
    "# Replace \"Number of unknown cycles\" where we have discrepancy.\n",
    "london_outer.loc[london_outer[\"Dif_total\"] == 2, 'Number of unknown cycles'] = 2"
   ]
  },
  {
   "cell_type": "code",
   "execution_count": null,
   "id": "316e1989",
   "metadata": {},
   "outputs": [],
   "source": [
    "# Drop all columns created for checking the consistency of data.\n",
    "london_outer = london_outer.drop(columns=['ffill_date', 'ffill_day']).reset_index(drop=True)"
   ]
  },
  {
   "cell_type": "code",
   "execution_count": null,
   "id": "20543cde",
   "metadata": {},
   "outputs": [],
   "source": [
    "# Checl data info\n",
    "london_outer.info()\n",
    "\n"
   ]
  },
  {
   "cell_type": "code",
   "execution_count": null,
   "id": "b2e83781",
   "metadata": {},
   "outputs": [],
   "source": [
    "# Descriptive statistics.\n",
    "london_outer.describe()"
   ]
  },
  {
   "cell_type": "code",
   "execution_count": null,
   "id": "f89ed0e5",
   "metadata": {},
   "outputs": [],
   "source": [
    "# Exported as csv file \n",
    "london_outer.to_csv('london_outer_cl.csv')"
   ]
  },
  {
   "cell_type": "code",
   "execution_count": null,
   "id": "47e233ae",
   "metadata": {},
   "outputs": [],
   "source": []
  },
  {
   "cell_type": "code",
   "execution_count": null,
   "id": "24473f5b",
   "metadata": {},
   "outputs": [],
   "source": []
  },
  {
   "cell_type": "code",
   "execution_count": null,
   "id": "c30dc135",
   "metadata": {},
   "outputs": [],
   "source": []
  },
  {
   "cell_type": "code",
   "execution_count": null,
   "id": "94c61bc2",
   "metadata": {},
   "outputs": [],
   "source": []
  },
  {
   "cell_type": "markdown",
   "id": "06d4a4eb",
   "metadata": {},
   "source": [
    "## Create a new column ffil to clean survey dates column\n",
    "This is done to keep the original column, not loose any data but ensure we have a column with complete entries for any date analysis\n",
    "\n"
   ]
  },
  {
   "cell_type": "code",
   "execution_count": null,
   "id": "e6ed812b",
   "metadata": {},
   "outputs": [],
   "source": [
    "london_outer['ffill_date'] = london_outer['Date'].ffill()\n",
    "london_outer.head()"
   ]
  },
  {
   "cell_type": "code",
   "execution_count": null,
   "id": "fc676c9d",
   "metadata": {},
   "outputs": [],
   "source": [
    "london_outer['ffill_day'] = london_outer['Day'].ffill()\n",
    "london_outer.head()"
   ]
  },
  {
   "cell_type": "code",
   "execution_count": null,
   "id": "8abded8f",
   "metadata": {},
   "outputs": [],
   "source": [
    "# Check info.\n",
    "london_outer.isnull().sum()"
   ]
  },
  {
   "cell_type": "markdown",
   "id": "b36a9eb5",
   "metadata": {},
   "source": [
    "## Investigating 'Total cycles' consistency (Total = Male+Femail+Unknown).\n"
   ]
  },
  {
   "cell_type": "code",
   "execution_count": null,
   "id": "eea3f237",
   "metadata": {
    "scrolled": true
   },
   "outputs": [],
   "source": [
    "london_outer['Control_total'] = london_outer['Number of male cycles'] + london_outer['Number of female cycles']\\\n",
    "                                +london_outer['Number of unknown cycles']\n",
    "london_outer"
   ]
  },
  {
   "cell_type": "markdown",
   "id": "e686cdd6",
   "metadata": {},
   "source": [
    "# INNER LONDON DATA SET"
   ]
  },
  {
   "cell_type": "code",
   "execution_count": null,
   "id": "754639ca",
   "metadata": {},
   "outputs": [],
   "source": [
    "# Read the provided CSV file/data set.\n",
    "london_inner = pd.read_csv('Inner London.csv') \n",
    "\n",
    "# Print the output.\n",
    "print(london_inner.info())\n",
    "london_inner.tail()"
   ]
  },
  {
   "cell_type": "code",
   "execution_count": null,
   "id": "81b1ee41",
   "metadata": {},
   "outputs": [],
   "source": [
    "# Drop the rows where all elements are missing.\n",
    "london_inner = london_inner.dropna(how='all')"
   ]
  },
  {
   "cell_type": "code",
   "execution_count": null,
   "id": "f6818650",
   "metadata": {
    "scrolled": true
   },
   "outputs": [],
   "source": [
    "# Convert 'Survey wave (year)', 'Number of private cycles', 'Number of cycle hire bikes',\n",
    "# and 'Total_cycles' Dtypes to integer.\n",
    "london_inner['Survey wave (year)'] = london_inner['Survey wave (year)'].astype(int)\n",
    "london_inner['Number of private cycles'] = london_inner['Number of private cycles'].astype(int)\n",
    "london_inner['Number of cycle hire bikes'] = london_inner['Number of cycle hire bikes'].astype(int)\n",
    "london_inner['Total cycles'] = london_inner['Total cycles'].astype(int)\n",
    "london_outer.info()"
   ]
  },
  {
   "cell_type": "code",
   "execution_count": 22,
   "id": "78b1281f",
   "metadata": {},
   "outputs": [
    {
     "ename": "NameError",
     "evalue": "name 'london_inner' is not defined",
     "output_type": "error",
     "traceback": [
      "\u001b[0;31m---------------------------------------------------------------------------\u001b[0m",
      "\u001b[0;31mNameError\u001b[0m                                 Traceback (most recent call last)",
      "\u001b[0;32m/var/folders/vf/ymq2hz2x7lnb9nnlr6_ycvfc0000gn/T/ipykernel_88826/4256025221.py\u001b[0m in \u001b[0;36m<module>\u001b[0;34m\u001b[0m\n\u001b[1;32m      1\u001b[0m \u001b[0;31m# Any missing values?\u001b[0m\u001b[0;34m\u001b[0m\u001b[0;34m\u001b[0m\u001b[0m\n\u001b[0;32m----> 2\u001b[0;31m \u001b[0mlondon_inner\u001b[0m\u001b[0;34m.\u001b[0m\u001b[0misnull\u001b[0m\u001b[0;34m(\u001b[0m\u001b[0;34m)\u001b[0m\u001b[0;34m.\u001b[0m\u001b[0msum\u001b[0m\u001b[0;34m(\u001b[0m\u001b[0;34m)\u001b[0m\u001b[0;34m\u001b[0m\u001b[0;34m\u001b[0m\u001b[0m\n\u001b[0m",
      "\u001b[0;31mNameError\u001b[0m: name 'london_inner' is not defined"
     ]
    }
   ],
   "source": [
    "# Any missing values?\n",
    "london_inner.isnull().sum() "
   ]
  },
  {
   "cell_type": "code",
   "execution_count": null,
   "id": "d051485f",
   "metadata": {},
   "outputs": [],
   "source": [
    "# Any missing values?\n",
    "london_inner.isnull().sum() "
   ]
  },
  {
   "cell_type": "code",
   "execution_count": null,
   "id": "69e47901",
   "metadata": {},
   "outputs": [],
   "source": [
    "# Look for full records duplicates.\n",
    "london_inner.duplicated().sum()\n",
    "\n",
    "# Drop duplicates.\n",
    "london_inner = london_inner.drop_duplicates()\n",
    "\n",
    "# View DataFrame.\n",
    "london_inner.shape"
   ]
  },
  {
   "cell_type": "code",
   "execution_count": null,
   "id": "e66dee62",
   "metadata": {},
   "outputs": [],
   "source": [
    "# Check missing values.\n",
    "london_inner.isnull().sum()"
   ]
  },
  {
   "cell_type": "markdown",
   "id": "d346131b",
   "metadata": {},
   "source": [
    "# Cleaning Weather Column"
   ]
  },
  {
   "cell_type": "code",
   "execution_count": null,
   "id": "faf74e83",
   "metadata": {},
   "outputs": [],
   "source": [
    "# Check for unique values.\n",
    "london_inner['Weather'].nunique()"
   ]
  },
  {
   "cell_type": "code",
   "execution_count": null,
   "id": "6bd3ee19",
   "metadata": {
    "scrolled": true
   },
   "outputs": [],
   "source": [
    "# Checking all types of weather in the dataset.\n",
    "london_inner['Weather'].value_counts()"
   ]
  },
  {
   "cell_type": "code",
   "execution_count": null,
   "id": "c162b361",
   "metadata": {},
   "outputs": [],
   "source": [
    "# Change relevant weather values to Cloudy\n",
    "london_inner['Weather'] = london_inner['Weather'].replace(['Cloud', 'Cloudy', 'Cloudy and Dry', 'Cloudy but dry',\n",
    "                                                          'Cloudy Dry', 'Cloudy with Clear Intervals',\n",
    "                                                          'Cloudy/dry', 'Dry/cloudy', 'Dry/overcast', 'Overcast',\n",
    "                                                          'Overcast/dry', 'Partly cloudy and Dry', \n",
    "                                                          'Partly cloudy and dry', 'Partly cloudy but dry'], 'Cloudy')\n",
    "\n",
    "\n"
   ]
  },
  {
   "cell_type": "code",
   "execution_count": null,
   "id": "2af6eb7c",
   "metadata": {},
   "outputs": [],
   "source": [
    "# Change relevant weather values to Cold\n",
    "london_inner['Weather'] = london_inner['Weather'].replace(['Dry Cold', 'Dry/cold', 'Too Cold'], 'Cold')"
   ]
  },
  {
   "cell_type": "code",
   "execution_count": null,
   "id": "7342d331",
   "metadata": {},
   "outputs": [],
   "source": [
    "# Change relevant weather values to Damp\n",
    "london_inner['Weather'] = london_inner['Weather'].replace(['Dull/damp'], 'Damp')\n",
    "\n",
    "\n",
    "\n"
   ]
  },
  {
   "cell_type": "code",
   "execution_count": null,
   "id": "33b2072a",
   "metadata": {},
   "outputs": [],
   "source": [
    "# Change relevant weather values to Dark\n",
    "london_inner['Weather'] = london_inner['Weather'].replace(['Dark/cloudy'], 'Dark')\n",
    "\n",
    "\n"
   ]
  },
  {
   "cell_type": "code",
   "execution_count": null,
   "id": "4dcaeb52",
   "metadata": {},
   "outputs": [],
   "source": [
    "# Change relevant weather values to Dry\n",
    "london_inner['Weather'] = london_inner['Weather'].replace(['Bright', 'Bright/dry', 'Clear', 'Clear and Dry',\n",
    "                                                           'Clear And Dry ', 'Clear And Dry', 'Dr Ry', 'Druy',\n",
    "                                                           'Dry                         9', 'Dry Y', 'Dry, Warm', 'Dryish', 'Dull', 'Fair',\n",
    "                                                           'Fine', 'Rain Stopped', 'Stopped Raining'], 'Dry')\n",
    "\n",
    "\n"
   ]
  },
  {
   "cell_type": "code",
   "execution_count": null,
   "id": "21c2d9dd",
   "metadata": {},
   "outputs": [],
   "source": [
    "# Change relevant weather values to Dry & Wet\n",
    "london_inner['Weather'] = london_inner['Weather'].replace(['Dry + Wet', 'Dry But Wet Road', 'Dry Road Still Wet',\n",
    "                                                          'Dry Wet Road', 'Dry-wet', 'Dry/wet', 'Mix Wet/dry',\n",
    "                                                          'Wet/dry'], 'Dry & Wet')\n",
    "\n",
    "\n"
   ]
  },
  {
   "cell_type": "code",
   "execution_count": null,
   "id": "03628830",
   "metadata": {},
   "outputs": [],
   "source": [
    "# Change relevant weather values for Hail / Sleet\n",
    "london_inner['Weather'] = london_inner['Weather'].replace(['Hail', 'Hail Stone', 'Rain/hailstone', 'Rain/sleet',\n",
    "                                                           'Showers/hailstone', 'Sleet'], 'Hail / Sleet')\n",
    "\n",
    "\n"
   ]
  },
  {
   "cell_type": "code",
   "execution_count": null,
   "id": "e6ad8932",
   "metadata": {},
   "outputs": [],
   "source": [
    "# Change relevant weather values for Heavy Rain\n",
    "london_inner['Weather'] = london_inner['Weather'].replace(['Down Pour', 'Rain Heavy', 'Very Heavy Rain'],\n",
    "                                                           'Heavy Rain')\n",
    "\n",
    "\n"
   ]
  },
  {
   "cell_type": "code",
   "execution_count": null,
   "id": "a32b8a34",
   "metadata": {},
   "outputs": [],
   "source": [
    "# Change relevant weather values for Hot\n",
    "london_inner['Weather'] = london_inner['Weather'].replace(['Dry/hot', 'Hot/dry', 'Very Hot/dry'], 'Hot')\n",
    "\n"
   ]
  },
  {
   "cell_type": "code",
   "execution_count": null,
   "id": "c97654c1",
   "metadata": {},
   "outputs": [],
   "source": [
    "# Change relevant weather values for Light Rain\n",
    "london_inner['Weather'] = london_inner['Weather'].replace(['Cloudy/drizzle', 'Cloudy/showers', 'Drizzie', 'Drizze',\n",
    "                                                          'Drizzle', 'Drizzle Rain', 'Drizzle Wet', 'Drizzle/cloudy',\n",
    "                                                          'Drizzle/dry', 'Drizzle/rain', 'Drizzle/showers',\n",
    "                                                          'Drizzle/wet', 'Dry/drizzle', 'Intermittent Showers',\n",
    "                                                          'Light Showers', 'Mizzle', 'Rain Shower', 'Rain/drizzle',\n",
    "                                                          'Rain/showers', 'Shower', 'Shower/dry', 'Showers',\n",
    "                                                          'Showers/cloudy', 'Showery', 'Slight Drizzle',\n",
    "                                                          'Slight Drizzle/dry', 'Spitting', 'V Light Drizzle',\n",
    "                                                          'Wet (shower)'], 'Light Rain')\n",
    "\n",
    "\n"
   ]
  },
  {
   "cell_type": "code",
   "execution_count": 23,
   "id": "3beadd38",
   "metadata": {},
   "outputs": [
    {
     "ename": "NameError",
     "evalue": "name 'london_inner' is not defined",
     "output_type": "error",
     "traceback": [
      "\u001b[0;31m---------------------------------------------------------------------------\u001b[0m",
      "\u001b[0;31mNameError\u001b[0m                                 Traceback (most recent call last)",
      "\u001b[0;32m/var/folders/vf/ymq2hz2x7lnb9nnlr6_ycvfc0000gn/T/ipykernel_88826/2577601421.py\u001b[0m in \u001b[0;36m<module>\u001b[0;34m\u001b[0m\n\u001b[1;32m      1\u001b[0m \u001b[0;31m# Change relevant weather values for Mist\u001b[0m\u001b[0;34m\u001b[0m\u001b[0;34m\u001b[0m\u001b[0m\n\u001b[0;32m----> 2\u001b[0;31m \u001b[0mlondon_inner\u001b[0m\u001b[0;34m[\u001b[0m\u001b[0;34m'Weather'\u001b[0m\u001b[0;34m]\u001b[0m \u001b[0;34m=\u001b[0m \u001b[0mlondon_inner\u001b[0m\u001b[0;34m[\u001b[0m\u001b[0;34m'Weather'\u001b[0m\u001b[0;34m]\u001b[0m\u001b[0;34m.\u001b[0m\u001b[0mreplace\u001b[0m\u001b[0;34m(\u001b[0m\u001b[0;34m[\u001b[0m\u001b[0;34m'Dry But Misty'\u001b[0m\u001b[0;34m]\u001b[0m\u001b[0;34m,\u001b[0m \u001b[0;34m'Mist'\u001b[0m\u001b[0;34m)\u001b[0m\u001b[0;34m\u001b[0m\u001b[0;34m\u001b[0m\u001b[0m\n\u001b[0m",
      "\u001b[0;31mNameError\u001b[0m: name 'london_inner' is not defined"
     ]
    }
   ],
   "source": [
    "# Change relevant weather values for Mist\n",
    "london_inner['Weather'] = london_inner['Weather'].replace(['Dry But Misty'], 'Mist')\n"
   ]
  },
  {
   "cell_type": "code",
   "execution_count": null,
   "id": "0204f4d7",
   "metadata": {},
   "outputs": [],
   "source": [
    "# Change relevant weather values for Rain\n",
    "london_inner['Weather'] = london_inner['Weather'].replace(['Cloudy/rain', 'Heavy Showers', 'Intermittent Heavy Showers',\n",
    "                                                           'Oercast/rain', 'Overcast/rain', 'Overcast/rain Heavy Showers','Heavy Showers',\n",
    "                                                           'Rain/wet', 'Raining', 'Raining/wet', 'Rainy', 'Wet/rain'], \n",
    "                                                           'Rain')\n",
    "\n",
    "\n"
   ]
  },
  {
   "cell_type": "code",
   "execution_count": null,
   "id": "4e829996",
   "metadata": {},
   "outputs": [],
   "source": [
    "# Change relevant weather values for Sun\n",
    "london_inner['Weather'] = london_inner['Weather'].replace(['Cloud/sun', 'Clouds & Sunny', 'Cloudy & Sunny',\n",
    "                                                           'Cloudy Sun', 'Cloudy/sun', 'Cloudy/sunny', 'Damp/sun',\n",
    "                                                           'Dry + Sunny', 'Dry Sunny', 'Dry, Sunny, Hot',\n",
    "                                                           'Dry, Sunny, Warm', 'Dry/sun', 'Dry/sunny',\n",
    "                                                           'Sun & Clouds', 'Sun/cloud', 'Sun/clouds', 'Sun/cloudy',\n",
    "                                                           'Sun/Cloudy', 'Sunny', 'Sunny (hot!)', 'Sunny & Warm All Day',\n",
    "                                                           'Sunny/cloudy', 'Sunny/dry'], 'Sun')"
   ]
  },
  {
   "cell_type": "code",
   "execution_count": null,
   "id": "12a12da2",
   "metadata": {},
   "outputs": [],
   "source": [
    "# Change relevant values for Sun & Rain\n",
    "london_inner['Weather'] = london_inner['Weather'].replace(['Mixed Sunny + Rain', 'Showers/sunny'], 'Sun & Rain')\n"
   ]
  },
  {
   "cell_type": "code",
   "execution_count": null,
   "id": "3d171be1",
   "metadata": {},
   "outputs": [],
   "source": [
    "# Change relevant values for Sun & Wet\n",
    "london_inner['Weather'] = london_inner['Weather'].replace(['Wet Road:sun'], 'Sun & Wet')\n"
   ]
  },
  {
   "cell_type": "code",
   "execution_count": null,
   "id": "7ac9aceb",
   "metadata": {},
   "outputs": [],
   "source": [
    "# Change relevant values for Sun & Wind\n",
    "london_inner['Weather'] = london_inner['Weather'].replace(['Windy At First Then Sunny'], 'Sun & Wind')\n"
   ]
  },
  {
   "cell_type": "code",
   "execution_count": null,
   "id": "b35353df",
   "metadata": {},
   "outputs": [],
   "source": [
    "# Change relevant values for Thunder\n",
    "london_inner['Weather'] = london_inner['Weather'].replace(['Heavy Thunder'], 'Thunder')"
   ]
  },
  {
   "cell_type": "code",
   "execution_count": null,
   "id": "84a02939",
   "metadata": {},
   "outputs": [],
   "source": [
    "# Change relevant values for Unknown\n",
    "london_inner['Weather'] = london_inner['Weather'].replace(['D', 'Mixed', 'N/a', 'S/w', 'School Out', \n",
    "                                                           'W'], 'Unknown')\n",
    "\n",
    "\n"
   ]
  },
  {
   "cell_type": "code",
   "execution_count": null,
   "id": "b4a4faf7",
   "metadata": {},
   "outputs": [],
   "source": [
    "\n",
    "# Change relevant values for Warm\n",
    "london_inner['Weather'] = london_inner['Weather'].replace(['Clear and Warm', 'Dry Warm', 'Warm + Dry', 'Warm/dry'], \n",
    "                                                           'Warm')"
   ]
  },
  {
   "cell_type": "code",
   "execution_count": null,
   "id": "b4196054",
   "metadata": {},
   "outputs": [],
   "source": [
    "# Change relevant values for Wet\n",
    "london_inner['Weather'] = london_inner['Weather'].replace(['Getting Wet', 'S.wet', 'V Wet', 'wet', 'Wet Rain Stopped',\n",
    "                                                          'Wet Road', 'Wet/damp', 'Wet/mix', 'Wet/stop Raining',\n",
    "                                                          'Wettish'], 'Wet')"
   ]
  },
  {
   "cell_type": "code",
   "execution_count": null,
   "id": "2e5c302d",
   "metadata": {},
   "outputs": [],
   "source": [
    "# Change relevant values for Wet & Wind\n",
    "london_inner['Weather'] = london_inner['Weather'].replace(['Wet/windy'], 'Wet & Wind')\n"
   ]
  },
  {
   "cell_type": "code",
   "execution_count": null,
   "id": "5865aa6a",
   "metadata": {},
   "outputs": [],
   "source": [
    "# Change relevant values for Wind\n",
    "london_inner['Weather'] = london_inner['Weather'].replace(['Dry & Windy', 'Dry Windy', 'Dry/v. Windy',\n",
    "                                                          'High Wind', 'Very Windy', 'Windy', 'Windy Dry'], 'Wind')"
   ]
  },
  {
   "cell_type": "code",
   "execution_count": null,
   "id": "4a3161a5",
   "metadata": {},
   "outputs": [],
   "source": [
    "# Change relevant values for Wind & Rain\n",
    "london_inner['Weather'] = london_inner['Weather'].replace(['Heavy Rain High Winds', 'Windy/rain'], 'Wind & Rain')"
   ]
  },
  {
   "cell_type": "code",
   "execution_count": null,
   "id": "fd3b5e29",
   "metadata": {
    "scrolled": true
   },
   "outputs": [],
   "source": [
    "# Check number of unique values \n",
    "london_inner['Weather'].nunique()"
   ]
  },
  {
   "cell_type": "code",
   "execution_count": null,
   "id": "a893fbdf",
   "metadata": {},
   "outputs": [],
   "source": [
    "# Checking all types of weather in the dataset.\n",
    "london_inner['Weather'].value_counts()\n"
   ]
  },
  {
   "cell_type": "code",
   "execution_count": null,
   "id": "cfaefb18",
   "metadata": {},
   "outputs": [],
   "source": []
  },
  {
   "cell_type": "code",
   "execution_count": null,
   "id": "4ad7a3da",
   "metadata": {},
   "outputs": [],
   "source": []
  },
  {
   "cell_type": "markdown",
   "id": "9b1068eb",
   "metadata": {},
   "source": [
    "## Missing values in Weather Column"
   ]
  },
  {
   "cell_type": "code",
   "execution_count": null,
   "id": "b10ac2c1",
   "metadata": {
    "scrolled": true
   },
   "outputs": [],
   "source": [
    "# Subset of the data of only null values\n",
    "null_data = london_inner[london_inner.isna().any(axis=1)]\n",
    "\n",
    "# Subset of null data frame to look weather null values \n",
    "# Wanted to see if there was a sensible way to replace the null based on loc or year\n",
    "weather_null_inner = null_data[['Location', 'Survey wave (year)', 'Weather']]\n",
    "weather_null_inner"
   ]
  },
  {
   "cell_type": "code",
   "execution_count": null,
   "id": "fac71d03",
   "metadata": {
    "scrolled": true
   },
   "outputs": [],
   "source": [
    "# All the entries with null weather data \n",
    "w_null_inner = weather_null_inner[weather_null_inner['Weather'].isna()]\n",
    "w_null_inner\n",
    "\n",
    "# Check which locations have the most NaN values \n",
    "print(w_null_inner['Location'].value_counts())"
   ]
  },
  {
   "cell_type": "code",
   "execution_count": 24,
   "id": "8c49f2d8",
   "metadata": {},
   "outputs": [
    {
     "ename": "NameError",
     "evalue": "name 'w_null' is not defined",
     "output_type": "error",
     "traceback": [
      "\u001b[0;31m---------------------------------------------------------------------------\u001b[0m",
      "\u001b[0;31mNameError\u001b[0m                                 Traceback (most recent call last)",
      "\u001b[0;32m/var/folders/vf/ymq2hz2x7lnb9nnlr6_ycvfc0000gn/T/ipykernel_88826/2001701090.py\u001b[0m in \u001b[0;36m<module>\u001b[0;34m\u001b[0m\n\u001b[1;32m      1\u001b[0m \u001b[0;31m# Exported to new csv file\u001b[0m\u001b[0;34m\u001b[0m\u001b[0;34m\u001b[0m\u001b[0m\n\u001b[0;32m----> 2\u001b[0;31m \u001b[0mw_null\u001b[0m\u001b[0;34m.\u001b[0m\u001b[0mto_csv\u001b[0m\u001b[0;34m(\u001b[0m\u001b[0;34m'w_null_inner.csv'\u001b[0m\u001b[0;34m)\u001b[0m\u001b[0;34m\u001b[0m\u001b[0;34m\u001b[0m\u001b[0m\n\u001b[0m",
      "\u001b[0;31mNameError\u001b[0m: name 'w_null' is not defined"
     ]
    }
   ],
   "source": [
    "# Exported to new csv file \n",
    "w_null.to_csv('w_null_inner.csv')"
   ]
  },
  {
   "cell_type": "markdown",
   "id": "86100f50",
   "metadata": {},
   "source": [
    "We can't define weather or any pattern in missing data as we have only Year here. As we didn't have any other assumptions: NaN values in Weather are replaced with 'Unknown\"."
   ]
  },
  {
   "cell_type": "code",
   "execution_count": null,
   "id": "db49efa5",
   "metadata": {},
   "outputs": [],
   "source": [
    "# Replace NaN values with Unknown.\n",
    "london_inner['Weather'] = london_inner['Weather'].fillna('Unknown')"
   ]
  },
  {
   "cell_type": "code",
   "execution_count": null,
   "id": "2626fbe4",
   "metadata": {},
   "outputs": [],
   "source": [
    "# Check missing values.\n",
    "london_inner.isnull().sum()"
   ]
  },
  {
   "cell_type": "code",
   "execution_count": null,
   "id": "58f2f182",
   "metadata": {},
   "outputs": [],
   "source": []
  },
  {
   "cell_type": "code",
   "execution_count": null,
   "id": "6587cb7e",
   "metadata": {},
   "outputs": [],
   "source": []
  },
  {
   "cell_type": "code",
   "execution_count": null,
   "id": "9bb42814",
   "metadata": {},
   "outputs": [],
   "source": [
    "# All the entries with null weather data \n",
    "w_null = weather_null[weather_null['Weather'].isna()]\n",
    "w_null\n",
    "\n",
    "# Check which locations have the most NaN values \n",
    "print(w_null['Location'].value_counts())\n"
   ]
  },
  {
   "cell_type": "code",
   "execution_count": null,
   "id": "1ee35bf9",
   "metadata": {},
   "outputs": [],
   "source": [
    "# Exported to new csv file \n",
    "w_null.to_csv('w_null_inner.csv')\n"
   ]
  },
  {
   "cell_type": "code",
   "execution_count": null,
   "id": "d1ff25d8",
   "metadata": {},
   "outputs": [],
   "source": []
  },
  {
   "cell_type": "code",
   "execution_count": null,
   "id": "9b40f2f9",
   "metadata": {},
   "outputs": [],
   "source": []
  },
  {
   "cell_type": "markdown",
   "id": "6f6a965a",
   "metadata": {},
   "source": [
    "## Cleaning Date and Time related Columns"
   ]
  },
  {
   "cell_type": "code",
   "execution_count": null,
   "id": "3dc7b8c3",
   "metadata": {},
   "outputs": [],
   "source": [
    "# Replace blank values with NaN in 'Survey date' column.\n",
    "london_inner['Survey date'] = london_inner['Survey date'].replace(r'^\\s*$', np.nan, regex=True)\n"
   ]
  },
  {
   "cell_type": "code",
   "execution_count": null,
   "id": "98356812",
   "metadata": {},
   "outputs": [],
   "source": [
    "# Split 'Survey date' column into two new columns.\n",
    "london_inner[['Survey_week_day', 'Survey_date']] = london_inner['Survey date'].\\\n",
    "apply(lambda x: pd.Series(str(x).split(',')))\n",
    "\n",
    "# View DataFrame.\n",
    "london_inner.head()\n"
   ]
  },
  {
   "cell_type": "code",
   "execution_count": null,
   "id": "9a48a76c",
   "metadata": {},
   "outputs": [],
   "source": [
    "# Drop 'Survey_week_day' column.\n",
    "london_inner = london_inner.drop(columns='Survey_week_day').reset_index(drop=True)\n"
   ]
  },
  {
   "cell_type": "code",
   "execution_count": null,
   "id": "91871e2f",
   "metadata": {},
   "outputs": [],
   "source": [
    "# Remove whitespaces in 'Survey_date' column.\n",
    "london_inner['Survey_date'] = london_inner['Survey_date'].str.replace(' ', '')"
   ]
  },
  {
   "cell_type": "code",
   "execution_count": null,
   "id": "dd4e276d",
   "metadata": {},
   "outputs": [],
   "source": [
    "# Convert 'Survey_date' column to datetime dtype.\n",
    "london_inner['Survey_date_dt'] = pd.to_datetime(london_inner['Survey_date'], format = '%d/%m/%y')\n",
    "\n",
    "# View DataFrame.\n",
    "london_inner.head()"
   ]
  },
  {
   "cell_type": "code",
   "execution_count": null,
   "id": "ba8022aa",
   "metadata": {},
   "outputs": [],
   "source": [
    "# Check missing values.\n",
    "london_inner.isnull().sum()"
   ]
  },
  {
   "cell_type": "markdown",
   "id": "962fcd93",
   "metadata": {},
   "source": [
    "## Missing values in Date and Time related columns"
   ]
  },
  {
   "cell_type": "code",
   "execution_count": null,
   "id": "044f9097",
   "metadata": {},
   "outputs": [],
   "source": [
    "# Select rows containing missing values in 'Survey_date_dt' column.\n",
    "L_inner_fnl_1 = london_inner[london_inner['Survey_date_dt'].isnull()]\n",
    "\n",
    "# View DataFrame.\n",
    "L_inner_fnl_1.head()"
   ]
  },
  {
   "cell_type": "code",
   "execution_count": null,
   "id": "1d1886d0",
   "metadata": {
    "scrolled": true
   },
   "outputs": [],
   "source": [
    "# View number of missing values in 'Survey_date_dt' column by year.\n",
    "L_inner_fnl_1['Survey wave (year)'].value_counts().sort_index()"
   ]
  },
  {
   "cell_type": "code",
   "execution_count": null,
   "id": "42ca8607",
   "metadata": {},
   "outputs": [],
   "source": [
    "# Select rows without missing values in 'Survey_date_dt' column.\n",
    "L_inner_fnl_2 = london_inner[~london_inner['Survey_date_dt'].isnull()]\n",
    "\n",
    "# View DataFrame.\n",
    "L_inner_fnl_2.head()"
   ]
  },
  {
   "cell_type": "code",
   "execution_count": null,
   "id": "a6ebe1ce",
   "metadata": {},
   "outputs": [],
   "source": [
    "# View number of values in 'Survey_date_dt' column by year (excluding missing values).\n",
    "L_inner_fnl_2['Survey wave (year)'].value_counts().sort_index()\n"
   ]
  },
  {
   "cell_type": "code",
   "execution_count": 25,
   "id": "1bec8e49",
   "metadata": {},
   "outputs": [
    {
     "ename": "NameError",
     "evalue": "name 'london_inner' is not defined",
     "output_type": "error",
     "traceback": [
      "\u001b[0;31m---------------------------------------------------------------------------\u001b[0m",
      "\u001b[0;31mNameError\u001b[0m                                 Traceback (most recent call last)",
      "\u001b[0;32m/var/folders/vf/ymq2hz2x7lnb9nnlr6_ycvfc0000gn/T/ipykernel_88826/3909154712.py\u001b[0m in \u001b[0;36m<module>\u001b[0;34m\u001b[0m\n\u001b[1;32m      1\u001b[0m \u001b[0;31m# Find first and last date in 'Survey_date_dt' column.\u001b[0m\u001b[0;34m\u001b[0m\u001b[0;34m\u001b[0m\u001b[0m\n\u001b[0;32m----> 2\u001b[0;31m \u001b[0mprint\u001b[0m\u001b[0;34m(\u001b[0m\u001b[0mlondon_inner\u001b[0m\u001b[0;34m[\u001b[0m\u001b[0;34m'Survey_date_dt'\u001b[0m\u001b[0;34m]\u001b[0m\u001b[0;34m.\u001b[0m\u001b[0mmin\u001b[0m\u001b[0;34m(\u001b[0m\u001b[0;34m)\u001b[0m\u001b[0;34m)\u001b[0m\u001b[0;34m\u001b[0m\u001b[0;34m\u001b[0m\u001b[0m\n\u001b[0m\u001b[1;32m      3\u001b[0m \u001b[0mprint\u001b[0m\u001b[0;34m(\u001b[0m\u001b[0mlondon_inner\u001b[0m\u001b[0;34m[\u001b[0m\u001b[0;34m'Survey_date_dt'\u001b[0m\u001b[0;34m]\u001b[0m\u001b[0;34m.\u001b[0m\u001b[0mmax\u001b[0m\u001b[0;34m(\u001b[0m\u001b[0;34m)\u001b[0m\u001b[0;34m)\u001b[0m\u001b[0;34m\u001b[0m\u001b[0;34m\u001b[0m\u001b[0m\n\u001b[1;32m      4\u001b[0m \u001b[0;34m\u001b[0m\u001b[0m\n\u001b[1;32m      5\u001b[0m \u001b[0;31m# View frequency of dates.\u001b[0m\u001b[0;34m\u001b[0m\u001b[0;34m\u001b[0m\u001b[0m\n",
      "\u001b[0;31mNameError\u001b[0m: name 'london_inner' is not defined"
     ]
    }
   ],
   "source": [
    "# Find first and last date in 'Survey_date_dt' column.\n",
    "print(london_inner['Survey_date_dt'].min())\n",
    "print(london_inner['Survey_date_dt'].max())\n",
    "\n",
    "# View frequency of dates.\n",
    "london_inner['Survey_date_dt'].value_counts()"
   ]
  },
  {
   "cell_type": "code",
   "execution_count": null,
   "id": "a0539cf5",
   "metadata": {},
   "outputs": [],
   "source": [
    "# Drop 'Survey_date' column.\n",
    "london_inner = london_inner.drop(columns=['Survey_date']).reset_index(drop=True)\n"
   ]
  },
  {
   "cell_type": "code",
   "execution_count": null,
   "id": "d64acba4",
   "metadata": {},
   "outputs": [],
   "source": [
    "# Rename 'Survey_date_dt' column into 'Date'.\n",
    "london_inner = london_inner.rename(columns={'Survey_date_dt':'Date'})\n",
    "\n",
    "# View DataFrame.\n",
    "london_inner.head()"
   ]
  },
  {
   "cell_type": "code",
   "execution_count": null,
   "id": "5680f81d",
   "metadata": {},
   "outputs": [],
   "source": [
    "# Add a column with days of the week.\n",
    "london_inner['Day'] = london_inner['Date'].dt.day_name()\n",
    "\n",
    "# View DataFrame.\n",
    "london_inner.head()"
   ]
  },
  {
   "cell_type": "markdown",
   "id": "0f1962ca",
   "metadata": {},
   "source": [
    "## Create a new column ffil to clean survey dates column\n",
    "This is done to keep the original column, not loose any data but ensure we have a column with complete entries for any date analysis"
   ]
  },
  {
   "cell_type": "code",
   "execution_count": null,
   "id": "e763b7fb",
   "metadata": {},
   "outputs": [],
   "source": [
    "london_inner['ffill_date'] = london_inner['Date'].ffill()\n",
    "london_inner.head()"
   ]
  },
  {
   "cell_type": "code",
   "execution_count": null,
   "id": "897ed66b",
   "metadata": {},
   "outputs": [],
   "source": [
    "london_inner['ffill_day'] = london_inner['Day'].ffill()\n",
    "london_inner.head()\n"
   ]
  },
  {
   "cell_type": "code",
   "execution_count": null,
   "id": "ee786588",
   "metadata": {},
   "outputs": [],
   "source": [
    "# Check info.\n",
    "london_inner.info()\n",
    "london_inner.shape\n"
   ]
  },
  {
   "cell_type": "markdown",
   "id": "819f5ee0",
   "metadata": {},
   "source": [
    "## Checking the consistency of Total Cycles column."
   ]
  },
  {
   "cell_type": "code",
   "execution_count": null,
   "id": "82a5fe3a",
   "metadata": {},
   "outputs": [],
   "source": [
    "# Recalculate Total cycles = Private+Hire.\n",
    "london_inner['Control_total'] = london_inner['Number of private cycles'] + london_inner['Number of cycle hire bikes']\n",
    "london_inner"
   ]
  },
  {
   "cell_type": "code",
   "execution_count": null,
   "id": "5a39df6b",
   "metadata": {},
   "outputs": [],
   "source": [
    "# Checking for discrepancies in 'Total cycles' and calculated 'Control_total'.\n",
    "london_inner['Dif_total'] = london_inner['Total cycles'] - london_inner['Control_total']\n",
    "london_inner.sort_values(by='Dif_total', ascending = False)\n"
   ]
  },
  {
   "cell_type": "code",
   "execution_count": null,
   "id": "a816f445",
   "metadata": {},
   "outputs": [],
   "source": [
    "# Recalculate the 'Total cycles' column.\n",
    "london_inner['Total cycles'] = london_inner['Number of private cycles'] + london_inner['Number of cycle hire bikes']\n"
   ]
  },
  {
   "cell_type": "code",
   "execution_count": null,
   "id": "7e505bfb",
   "metadata": {},
   "outputs": [],
   "source": [
    "# Drop all columns created for checking the consistency of data.\n",
    "london_inner = london_inner.drop(columns=['Control_total', 'Dif_total']).reset_index(drop=True)"
   ]
  },
  {
   "cell_type": "code",
   "execution_count": null,
   "id": "e192be69",
   "metadata": {},
   "outputs": [],
   "source": [
    "# Check missing values.\n",
    "london_inner.isnull().sum()\n"
   ]
  },
  {
   "cell_type": "code",
   "execution_count": null,
   "id": "0c2eecaa",
   "metadata": {},
   "outputs": [],
   "source": [
    "# Look at rows with missing values for Number of private cycles and Number of cycle hire bikes.\n",
    "hour_0 = london_inner[(london_inner['Start hour'].isnull()) | \n",
    "                     (london_inner['Start minute'].isnull()) |\n",
    "                     (london_inner['Time'].isnull()) |\n",
    "                      (london_inner['Period'].isnull())]\n",
    "hour_0.head(6)"
   ]
  },
  {
   "cell_type": "code",
   "execution_count": null,
   "id": "d951a870",
   "metadata": {},
   "outputs": [],
   "source": [
    "# Run a test of the skewness \n",
    "london_inner.skew(axis = 0, skipna = True)\n",
    "\n",
    "# As skew is close to zero in both cases, we can replace it with mean value."
   ]
  },
  {
   "cell_type": "code",
   "execution_count": null,
   "id": "7b0757cf",
   "metadata": {
    "scrolled": true
   },
   "outputs": [],
   "source": [
    "# Descriptive statistics.\n",
    "london_inner.describe()\n"
   ]
  },
  {
   "cell_type": "code",
   "execution_count": null,
   "id": "36c3164b",
   "metadata": {},
   "outputs": [],
   "source": [
    "# Mean for hour is about 14 and for minute would be 23. We will replace NaN Start hour with 14 and \n",
    "# NaN Start minute with 15 as the closest values. In this case NaN Period will be replaced with\n",
    "# \"Inter-peak (10:00-16:00)\" value and NaN \"Time\" with \"1415 - 1430\".\n",
    "\n",
    "# Replace all NaN values with the closest to the mean. \n",
    "london_inner['Start hour'].fillna(14, inplace = True)\n",
    "london_inner['Start minute'].fillna(15, inplace = True)\n",
    "london_inner['Period'].fillna('Inter-peak (10:00-16:00)', inplace = True)\n",
    "london_inner['Time'].fillna('1415 - 1430', inplace = True)\n",
    "\n"
   ]
  },
  {
   "cell_type": "code",
   "execution_count": null,
   "id": "cd385e56",
   "metadata": {},
   "outputs": [],
   "source": [
    "# Check for any missing values.\n",
    "london_inner.isnull().sum()\n"
   ]
  },
  {
   "cell_type": "code",
   "execution_count": 26,
   "id": "9bd31e4c",
   "metadata": {},
   "outputs": [
    {
     "ename": "NameError",
     "evalue": "name 'london_inner' is not defined",
     "output_type": "error",
     "traceback": [
      "\u001b[0;31m---------------------------------------------------------------------------\u001b[0m",
      "\u001b[0;31mNameError\u001b[0m                                 Traceback (most recent call last)",
      "\u001b[0;32m/var/folders/vf/ymq2hz2x7lnb9nnlr6_ycvfc0000gn/T/ipykernel_88826/2686673010.py\u001b[0m in \u001b[0;36m<module>\u001b[0;34m\u001b[0m\n\u001b[1;32m      1\u001b[0m \u001b[0;31m# Exported as csv file\u001b[0m\u001b[0;34m\u001b[0m\u001b[0;34m\u001b[0m\u001b[0m\n\u001b[0;32m----> 2\u001b[0;31m \u001b[0mlondon_inner\u001b[0m\u001b[0;34m.\u001b[0m\u001b[0mto_csv\u001b[0m\u001b[0;34m(\u001b[0m\u001b[0;34m'london_inner_cl.csv'\u001b[0m\u001b[0;34m)\u001b[0m\u001b[0;34m\u001b[0m\u001b[0;34m\u001b[0m\u001b[0m\n\u001b[0m",
      "\u001b[0;31mNameError\u001b[0m: name 'london_inner' is not defined"
     ]
    }
   ],
   "source": [
    "# Exported as csv file \n",
    "london_inner.to_csv('london_inner_cl.csv')"
   ]
  },
  {
   "cell_type": "markdown",
   "id": "273ed5c4",
   "metadata": {},
   "source": [
    "# BIKING SITES DATA SET"
   ]
  },
  {
   "cell_type": "code",
   "execution_count": null,
   "id": "8f6b05e5",
   "metadata": {},
   "outputs": [],
   "source": [
    "# Read the provided XLSX file/data set.\n",
    "london_sites = pd.read_excel('Biking sites.xlsx') \n",
    "\n",
    "# Print the output.\n",
    "print(london_sites.info())\n",
    "london_sites.head()"
   ]
  },
  {
   "cell_type": "code",
   "execution_count": null,
   "id": "505211fc",
   "metadata": {
    "scrolled": true
   },
   "outputs": [],
   "source": [
    "# Check if there are any missing data presented in the dataframe.\n",
    "london_sites.isnull().sum()"
   ]
  },
  {
   "cell_type": "code",
   "execution_count": null,
   "id": "aa33ec87",
   "metadata": {},
   "outputs": [],
   "source": [
    "# Look for NaN records.\n",
    "null_data = london_sites[london_sites.isna().any(axis=1)]\n",
    "null_data\n"
   ]
  },
  {
   "cell_type": "code",
   "execution_count": null,
   "id": "34ce758d",
   "metadata": {},
   "outputs": [],
   "source": [
    "# Replace NaN data entries with Unknown value.\n",
    "london_sites.fillna(value='Outer', inplace=True)\n"
   ]
  },
  {
   "cell_type": "code",
   "execution_count": null,
   "id": "e9d3dde3",
   "metadata": {},
   "outputs": [],
   "source": [
    "# Check size of the dataset.\n",
    "london_sites.info()"
   ]
  },
  {
   "cell_type": "code",
   "execution_count": null,
   "id": "067f91fa",
   "metadata": {},
   "outputs": [],
   "source": [
    "# Look for full records duplicates.\n",
    "london_sites.duplicated().sum()"
   ]
  },
  {
   "cell_type": "code",
   "execution_count": null,
   "id": "5537fb8b",
   "metadata": {
    "scrolled": true
   },
   "outputs": [],
   "source": [
    "# Check if there are any missing data.\n",
    "london_sites.isnull().sum()"
   ]
  },
  {
   "cell_type": "code",
   "execution_count": null,
   "id": "13d84617",
   "metadata": {},
   "outputs": [],
   "source": [
    "# Exported as csv file \n",
    "london_sites.to_csv('london_sites_cl.csv')"
   ]
  },
  {
   "cell_type": "markdown",
   "id": "53ce6778",
   "metadata": {},
   "source": [
    "## Insights and observations related to Date and Time"
   ]
  },
  {
   "cell_type": "code",
   "execution_count": null,
   "id": "2e467987",
   "metadata": {},
   "outputs": [],
   "source": [
    "# What year has the largest number of records?\n",
    "L_centr_fnl_0['Survey_wave_year'].value_counts()\n",
    "\n",
    "\n"
   ]
  },
  {
   "cell_type": "code",
   "execution_count": null,
   "id": "74f81672",
   "metadata": {
    "scrolled": true
   },
   "outputs": [],
   "source": [
    "# Total number of cycle trips per calendar year.\n",
    "year_ttl = L_centr_fnl_0.groupby('Survey_wave_year')\\\n",
    "[['Total_cycles']].sum().reset_index().sort_values('Total_cycles', ascending=0)\n",
    "\n",
    "# View DataFrame.\n",
    "year_ttl"
   ]
  },
  {
   "cell_type": "code",
   "execution_count": null,
   "id": "683c067a",
   "metadata": {},
   "outputs": [],
   "source": [
    "# What year has the highest average number of cycles (every 15 mins)?\n",
    "year_15mns = L_centr_fnl_0.groupby('Survey_wave_year')\\\n",
    "[['Total_cycles']].mean().round(0).reset_index().sort_values('Total_cycles', ascending=0)\n",
    "\n",
    "# View DataFrame.\n",
    "year_15mns"
   ]
  },
  {
   "cell_type": "code",
   "execution_count": null,
   "id": "7d63a2cc",
   "metadata": {},
   "outputs": [],
   "source": [
    "# What quater has the largest number of records?\n",
    "L_centr_fnl_0['Survey_wave_quater'].value_counts()\n"
   ]
  },
  {
   "cell_type": "code",
   "execution_count": null,
   "id": "ce01e14b",
   "metadata": {},
   "outputs": [],
   "source": [
    "# Total number of cycle trips per calendar quater.\n",
    "Q_ttl = L_centr_fnl_0.groupby('Survey_wave_quater')\\\n",
    "[['Total_cycles']].sum().reset_index().sort_values('Total_cycles', ascending=0).reset_index(drop=True)\n",
    "\n",
    "# View DataFrame.\n",
    "Q_ttl"
   ]
  },
  {
   "cell_type": "code",
   "execution_count": 27,
   "id": "86ddab3f",
   "metadata": {},
   "outputs": [
    {
     "ename": "NameError",
     "evalue": "name 'L_centr_fnl_0' is not defined",
     "output_type": "error",
     "traceback": [
      "\u001b[0;31m---------------------------------------------------------------------------\u001b[0m",
      "\u001b[0;31mNameError\u001b[0m                                 Traceback (most recent call last)",
      "\u001b[0;32m/var/folders/vf/ymq2hz2x7lnb9nnlr6_ycvfc0000gn/T/ipykernel_88826/1478989756.py\u001b[0m in \u001b[0;36m<module>\u001b[0;34m\u001b[0m\n\u001b[1;32m      1\u001b[0m \u001b[0;31m# What quater has the highest average number of cycles (every 15 mins)?\u001b[0m\u001b[0;34m\u001b[0m\u001b[0;34m\u001b[0m\u001b[0m\n\u001b[0;32m----> 2\u001b[0;31m \u001b[0mQ_15mns\u001b[0m \u001b[0;34m=\u001b[0m \u001b[0mL_centr_fnl_0\u001b[0m\u001b[0;34m.\u001b[0m\u001b[0mgroupby\u001b[0m\u001b[0;34m(\u001b[0m\u001b[0;34m'Survey_wave_quater'\u001b[0m\u001b[0;34m)\u001b[0m\u001b[0;31m\\\u001b[0m\u001b[0;34m\u001b[0m\u001b[0;34m\u001b[0m\u001b[0m\n\u001b[0m\u001b[1;32m      3\u001b[0m \u001b[0;34m[\u001b[0m\u001b[0;34m[\u001b[0m\u001b[0;34m'Total_cycles'\u001b[0m\u001b[0;34m]\u001b[0m\u001b[0;34m]\u001b[0m\u001b[0;34m.\u001b[0m\u001b[0mmean\u001b[0m\u001b[0;34m(\u001b[0m\u001b[0;34m)\u001b[0m\u001b[0;34m.\u001b[0m\u001b[0mround\u001b[0m\u001b[0;34m(\u001b[0m\u001b[0;36m0\u001b[0m\u001b[0;34m)\u001b[0m\u001b[0;34m.\u001b[0m\u001b[0mreset_index\u001b[0m\u001b[0;34m(\u001b[0m\u001b[0;34m)\u001b[0m\u001b[0;34m.\u001b[0m\u001b[0msort_values\u001b[0m\u001b[0;34m(\u001b[0m\u001b[0;34m'Total_cycles'\u001b[0m\u001b[0;34m,\u001b[0m \u001b[0mascending\u001b[0m\u001b[0;34m=\u001b[0m\u001b[0;36m0\u001b[0m\u001b[0;34m)\u001b[0m\u001b[0;34m.\u001b[0m\u001b[0mreset_index\u001b[0m\u001b[0;34m(\u001b[0m\u001b[0mdrop\u001b[0m\u001b[0;34m=\u001b[0m\u001b[0;32mTrue\u001b[0m\u001b[0;34m)\u001b[0m\u001b[0;34m\u001b[0m\u001b[0;34m\u001b[0m\u001b[0m\n\u001b[1;32m      4\u001b[0m \u001b[0;34m\u001b[0m\u001b[0m\n\u001b[1;32m      5\u001b[0m \u001b[0;31m# View DataFrame.\u001b[0m\u001b[0;34m\u001b[0m\u001b[0;34m\u001b[0m\u001b[0m\n",
      "\u001b[0;31mNameError\u001b[0m: name 'L_centr_fnl_0' is not defined"
     ]
    }
   ],
   "source": [
    "# What quater has the highest average number of cycles (every 15 mins)?\n",
    "Q_15mns = L_centr_fnl_0.groupby('Survey_wave_quater')\\\n",
    "[['Total_cycles']].mean().round(0).reset_index().sort_values('Total_cycles', ascending=0).reset_index(drop=True)\n",
    "\n",
    "# View DataFrame.\n",
    "Q_15mns"
   ]
  },
  {
   "cell_type": "code",
   "execution_count": null,
   "id": "ed8e6bd7",
   "metadata": {
    "scrolled": true
   },
   "outputs": [],
   "source": [
    "# Top 10 dates with the highest number of cycle trips?\n",
    "date_ttl = L_centr_fnl_0.groupby('Date')\\\n",
    "[['Total_cycles']].sum().reset_index().sort_values('Total_cycles', ascending=0).reset_index(drop=True)\n",
    "\n",
    "# View DataFrame.\n",
    "date_ttl.head(10)"
   ]
  },
  {
   "cell_type": "code",
   "execution_count": null,
   "id": "f4ebdfe9",
   "metadata": {},
   "outputs": [],
   "source": [
    "# Top 10 dates with the highest average number of cycles (every 15 mins)?\n",
    "date_15mns = L_centr_fnl_0.groupby('Date')\\\n",
    "[['Total_cycles']].mean().round(0).reset_index().sort_values('Total_cycles', ascending=0).reset_index(drop=True)\n",
    "\n",
    "# View DataFrame.\n",
    "date_15mns.head(10)\n"
   ]
  },
  {
   "cell_type": "code",
   "execution_count": null,
   "id": "304c64d2",
   "metadata": {},
   "outputs": [],
   "source": [
    "# Total number of cycle trips per Year-Quarter.\n",
    "year_Q_ttl = L_centr_fnl_0.groupby('Year-Quarter')\\\n",
    "[['Total_cycles']].sum().reset_index().sort_values('Total_cycles', ascending=0).\\\n",
    "reset_index(drop=True)\n",
    "\n",
    "# View DataFrame (top 10).\n",
    "year_Q_ttl.head(10)"
   ]
  },
  {
   "cell_type": "code",
   "execution_count": null,
   "id": "ca3c6fb7",
   "metadata": {},
   "outputs": [],
   "source": [
    "# What year & Q has the highest average number of cycles (every 15 mins)?\n",
    "year_Q_15mns = L_centr_fnl_0.groupby('Year-Quarter')\\\n",
    "[['Total_cycles']].mean().round(0).reset_index().sort_values('Total_cycles', ascending=0).\\\n",
    "reset_index(drop=True)\n",
    "\n",
    "# View DataFrame (top 10).\n",
    "year_Q_15mns.head(10)"
   ]
  },
  {
   "cell_type": "code",
   "execution_count": null,
   "id": "15ad639f",
   "metadata": {},
   "outputs": [],
   "source": [
    "# Total number of cycle trips per time period.\n",
    "period_ttl = L_centr_fnl_0.groupby('Period')\\\n",
    "[['Total_cycles']].sum().reset_index().sort_values('Total_cycles', ascending=0).reset_index(drop=True)\n",
    "\n",
    "# View DataFrame.\n",
    "period_ttl\n"
   ]
  },
  {
   "cell_type": "code",
   "execution_count": null,
   "id": "70a12cb2",
   "metadata": {},
   "outputs": [],
   "source": [
    "# What time period has the highest average number of cycles (every 15 mins)?\n",
    "period_15mns = L_centr_fnl_0.groupby('Period')\\\n",
    "[['Total_cycles']].mean().round(0).reset_index().sort_values('Total_cycles', ascending=0).reset_index(drop=True)\n",
    "\n",
    "# View DataFrame.\n",
    "period_15mns"
   ]
  },
  {
   "cell_type": "code",
   "execution_count": null,
   "id": "4e6ab7e4",
   "metadata": {
    "scrolled": true
   },
   "outputs": [],
   "source": [
    "# Total number of cycle trips per time slot.\n",
    "time_ttl = L_centr_fnl_0.groupby('Time')\\\n",
    "[['Total_cycles']].sum().reset_index().sort_values('Total_cycles', ascending=0).reset_index(drop=True)\n",
    "\n",
    "# View DataFrame.\n",
    "time_ttl\n"
   ]
  },
  {
   "cell_type": "code",
   "execution_count": null,
   "id": "604eaffa",
   "metadata": {},
   "outputs": [],
   "source": [
    "# What time slot has the highest average number of cycles (every 15 mins)?\n",
    "time_15mns = L_centr_fnl_0.groupby('Time')\\\n",
    "[['Total_cycles']].mean().round(0).reset_index().sort_values('Total_cycles', ascending=0).reset_index(drop=True)\n",
    "\n",
    "# View DataFrame.\n",
    "time_15mns"
   ]
  },
  {
   "cell_type": "code",
   "execution_count": null,
   "id": "53ede2e5",
   "metadata": {},
   "outputs": [],
   "source": [
    "# What time slot has the highest average number of cycle hire bikes (every 15 mins)?\n",
    "time_hb_15mns = L_centr_fnl_0.groupby('Time')\\\n",
    "[['Number of cycle hire bikes']].mean().round(0).reset_index().sort_values('Number of cycle hire bikes', \n",
    "                                                                           ascending=0).reset_index(drop=True)\n",
    "\n",
    "# View DataFrame.\n",
    "time_hb_15mns"
   ]
  },
  {
   "cell_type": "markdown",
   "id": "cd2de393",
   "metadata": {},
   "source": [
    "## Visualisations related to Date and Time\n"
   ]
  },
  {
   "cell_type": "code",
   "execution_count": null,
   "id": "6b853d5b",
   "metadata": {},
   "outputs": [],
   "source": [
    "# Import the necessary libraries.\n",
    "import seaborn as sns\n",
    "import matplotlib.pyplot as plt\n",
    "import matplotlib.dates as mdates\n",
    "from matplotlib.lines import Line2D\n",
    "from matplotlib.dates import MonthLocator, DateFormatter\n",
    "\n",
    "# Set figure size.\n",
    "sns.set(rc={'figure.figsize':(15, 12)})\n",
    "\n",
    "# Set the plot style as darkgrid.\n",
    "sns.set_style('darkgrid')\n"
   ]
  },
  {
   "cell_type": "code",
   "execution_count": null,
   "id": "459a0277",
   "metadata": {},
   "outputs": [],
   "source": [
    "# Plot annualy average numbers of cycles.\n",
    "# Create a lineplot.\n",
    "lineplot_y = sns.lineplot(x='Survey_wave_year', y='Total_cycles', \n",
    "                           data=year_15mns, \n",
    "                           linewidth=1)\n",
    "\n",
    "# Update title, x and y labels and legend.\n",
    "lineplot_y.set_title('Average number of cycles per year', \n",
    "                      fontdict={'fontsize':20})\n",
    "lineplot_y.set_xlabel('Year', fontdict={'fontsize':15})\n",
    "lineplot_y.set_ylabel('Average number of cycles', fontdict={'fontsize':15})\n",
    "plt.ylim(0, 19)\n",
    "\n",
    "# View plot.\n",
    "plt.show()"
   ]
  },
  {
   "cell_type": "code",
   "execution_count": null,
   "id": "b9a0b8a7",
   "metadata": {},
   "outputs": [],
   "source": [
    "# Plot annualy average numbers of cycles.\n",
    "# Create a lineplot.\n",
    "lineplot_yq = sns.lineplot(x='Year-Quarter', y='Total_cycles', \n",
    "                           data=year_Q_15mns.sort_values('Year-Quarter', ascending=1), \n",
    "                           linewidth=1)\n",
    "\n",
    "# Update title, x and y labels and legend.\n",
    "lineplot_yq.set_title('Average number of cycles per year-quarter', \n",
    "                      fontdict={'fontsize':20})\n",
    "lineplot_yq.set_xlabel('Year - Quater', fontdict={'fontsize':15})\n",
    "lineplot_yq.set_ylabel('Average number of cycles', fontdict={'fontsize':15})\n",
    "plt.xticks(rotation=45)\n",
    "plt.ylim(0, 21)\n",
    "\n",
    "# View plot.\n",
    "plt.show()\n"
   ]
  },
  {
   "cell_type": "code",
   "execution_count": null,
   "id": "f7e3b0ae",
   "metadata": {},
   "outputs": [],
   "source": [
    "# Plot daily average numbers of cycles.\n",
    "# Create a lineplot.\n",
    "lineplot_d = sns.lineplot(x='Date', y='Total_cycles', \n",
    "                           data=date_15mns, \n",
    "                           linewidth=1)\n",
    "\n",
    "# Update title, x and y labels and legend.\n",
    "lineplot_d.set_title('Average number of cycles per day', \n",
    "                      fontdict={'fontsize':20})\n",
    "lineplot_d.set_xlabel('Year', fontdict={'fontsize':15})\n",
    "lineplot_d.set_ylabel('Average number of cycles', fontdict={'fontsize':15})\n",
    "\n",
    "# View plot.\n",
    "plt.show()"
   ]
  },
  {
   "cell_type": "code",
   "execution_count": null,
   "id": "cf10ec64",
   "metadata": {},
   "outputs": [],
   "source": [
    "# Plot daily average numbers of cycles per 15 min time slot.\n",
    "# Create a lineplot.\n",
    "lineplot_t = sns.lineplot(x='Time', y='Total_cycles', \n",
    "                           data=time_15mns.sort_values('Time', ascending=1), \n",
    "                           linewidth=1)\n",
    "\n",
    "# Update title, x and y labels and legend.\n",
    "lineplot_t.set_title('Average number of cycles per 15min time slot', \n",
    "                      fontdict={'fontsize':20})\n",
    "lineplot_t.set_xlabel('15 mins time slots', fontdict={'fontsize':15})\n",
    "lineplot_t.set_ylabel('Average number of cycles', fontdict={'fontsize':15})\n",
    "plt.xticks(rotation=90)\n",
    "\n",
    "# View plot.\n",
    "plt.show()"
   ]
  },
  {
   "cell_type": "code",
   "execution_count": null,
   "id": "a74dedf0",
   "metadata": {},
   "outputs": [],
   "source": [
    "# Plot daily average numbers of cycle hire bikes per 15 min time slot.\n",
    "# Create a lineplot.\n",
    "lineplot_t = sns.lineplot(x='Time', y='Number of cycle hire bikes', \n",
    "                           data=time_hb_15mns.sort_values('Time', ascending=1), \n",
    "                           linewidth=1)\n",
    "\n",
    "# Update title, x and y labels and legend.\n",
    "lineplot_t.set_title('Average number of cycle hire bikes per 15min time slot', \n",
    "                      fontdict={'fontsize':20})\n",
    "lineplot_t.set_xlabel('15 mins time slots', fontdict={'fontsize':15})\n",
    "lineplot_t.set_ylabel('Average number of cycles', fontdict={'fontsize':15})\n",
    "plt.xticks(rotation=90)\n",
    "\n",
    "# View plot.\n",
    "plt.show()\n"
   ]
  },
  {
   "cell_type": "code",
   "execution_count": 45,
   "id": "89926f4a",
   "metadata": {},
   "outputs": [],
   "source": [
    "# Import Pandas, Seaborn, and Matplotlib.\n",
    "import pandas as pd\n",
    "import seaborn as sns\n",
    "import matplotlib.pyplot as plt"
   ]
  },
  {
   "cell_type": "code",
   "execution_count": 46,
   "id": "e947a98a",
   "metadata": {},
   "outputs": [
    {
     "ename": "NameError",
     "evalue": "name 'L_centr_fnl_0' is not defined",
     "output_type": "error",
     "traceback": [
      "\u001b[0;31m---------------------------------------------------------------------------\u001b[0m",
      "\u001b[0;31mNameError\u001b[0m                                 Traceback (most recent call last)",
      "\u001b[0;32m/var/folders/vf/ymq2hz2x7lnb9nnlr6_ycvfc0000gn/T/ipykernel_88826/1619284821.py\u001b[0m in \u001b[0;36m<module>\u001b[0;34m\u001b[0m\n\u001b[0;32m----> 1\u001b[0;31m \u001b[0mL_centr_fnl_0\u001b[0m\u001b[0;34m\u001b[0m\u001b[0;34m\u001b[0m\u001b[0m\n\u001b[0m\u001b[1;32m      2\u001b[0m \u001b[0mL_centr_fnl_0\u001b[0m\u001b[0;34m.\u001b[0m\u001b[0minfo\u001b[0m\u001b[0;34m(\u001b[0m\u001b[0;34m)\u001b[0m\u001b[0;34m\u001b[0m\u001b[0;34m\u001b[0m\u001b[0m\n",
      "\u001b[0;31mNameError\u001b[0m: name 'L_centr_fnl_0' is not defined"
     ]
    }
   ],
   "source": [
    "L_centr_fnl_0\n",
    "L_centr_fnl_0.info()"
   ]
  },
  {
   "cell_type": "code",
   "execution_count": 47,
   "id": "848f96fb",
   "metadata": {},
   "outputs": [],
   "source": [
    "# Import Pandas, Seaborn, and Matplotlib.\n",
    "import pandas as pd\n",
    "import seaborn as sns\n",
    "import matplotlib.pyplot as plt"
   ]
  },
  {
   "cell_type": "code",
   "execution_count": null,
   "id": "cc670642",
   "metadata": {},
   "outputs": [],
   "source": []
  },
  {
   "cell_type": "code",
   "execution_count": 48,
   "id": "418acc4e",
   "metadata": {
    "scrolled": false
   },
   "outputs": [
    {
     "ename": "NameError",
     "evalue": "name 'L_centr_fnl_0' is not defined",
     "output_type": "error",
     "traceback": [
      "\u001b[0;31m---------------------------------------------------------------------------\u001b[0m",
      "\u001b[0;31mNameError\u001b[0m                                 Traceback (most recent call last)",
      "\u001b[0;32m/var/folders/vf/ymq2hz2x7lnb9nnlr6_ycvfc0000gn/T/ipykernel_88826/4100910261.py\u001b[0m in \u001b[0;36m<module>\u001b[0;34m\u001b[0m\n\u001b[1;32m      1\u001b[0m \u001b[0;31m# Create a pairplot with Seaborn.\u001b[0m\u001b[0;34m\u001b[0m\u001b[0;34m\u001b[0m\u001b[0m\n\u001b[0;32m----> 2\u001b[0;31m \u001b[0mx\u001b[0m \u001b[0;34m=\u001b[0m \u001b[0mL_centr_fnl_0\u001b[0m\u001b[0;34m[\u001b[0m\u001b[0;34m[\u001b[0m\u001b[0;34m'Number of cycle hire bikes'\u001b[0m\u001b[0;34m,\u001b[0m \u001b[0;34m'Total_cycles'\u001b[0m\u001b[0;34m]\u001b[0m\u001b[0;34m]\u001b[0m\u001b[0;34m\u001b[0m\u001b[0;34m\u001b[0m\u001b[0m\n\u001b[0m\u001b[1;32m      3\u001b[0m \u001b[0;34m\u001b[0m\u001b[0m\n\u001b[1;32m      4\u001b[0m sns.pairplot(L_centr_fnl_0,\n\u001b[1;32m      5\u001b[0m              \u001b[0mvars\u001b[0m\u001b[0;34m=\u001b[0m\u001b[0mx\u001b[0m\u001b[0;34m,\u001b[0m\u001b[0;34m\u001b[0m\u001b[0;34m\u001b[0m\u001b[0m\n",
      "\u001b[0;31mNameError\u001b[0m: name 'L_centr_fnl_0' is not defined"
     ]
    }
   ],
   "source": [
    "# Create a pairplot with Seaborn.\n",
    "x = L_centr_fnl_0[['Number of cycle hire bikes', 'Total_cycles']]\n",
    "\n",
    "sns.pairplot(L_centr_fnl_0,\n",
    "             vars=x,\n",
    "             hue='Period',\n",
    "             diag_kind='kde')"
   ]
  },
  {
   "cell_type": "code",
   "execution_count": null,
   "id": "bac14d33",
   "metadata": {},
   "outputs": [],
   "source": [
    "L_centr_fnl_0\n",
    "L_centr_fnl_0.info()"
   ]
  },
  {
   "cell_type": "code",
   "execution_count": null,
   "id": "0d2c7f23",
   "metadata": {
    "scrolled": true
   },
   "outputs": [],
   "source": [
    "# Read the provided CSV file/data set.\n",
    "london_outer = pd.read_csv('Outer London.csv') \n",
    "\n",
    "# Print the output.\n",
    "print(london_outer.info())\n",
    "london_outer.tail()"
   ]
  },
  {
   "cell_type": "code",
   "execution_count": null,
   "id": "50f08684",
   "metadata": {},
   "outputs": [],
   "source": [
    "# Create a pairplot with Seaborn.\n",
    "x = london_outer[['Number of male cycles ', 'Number of female cycles ']]\n",
    "\n",
    "sns.pairplot(london_outer,\n",
    "             vars=x,\n",
    "             hue='Period',\n",
    "             diag_kind='kde')"
   ]
  },
  {
   "cell_type": "code",
   "execution_count": 50,
   "id": "39ec1e7d",
   "metadata": {
    "scrolled": true
   },
   "outputs": [
    {
     "ename": "FileNotFoundError",
     "evalue": "[Errno 2] No such file or directory: 'Inner London.csv'",
     "output_type": "error",
     "traceback": [
      "\u001b[0;31m---------------------------------------------------------------------------\u001b[0m",
      "\u001b[0;31mFileNotFoundError\u001b[0m                         Traceback (most recent call last)",
      "\u001b[0;32m/var/folders/vf/ymq2hz2x7lnb9nnlr6_ycvfc0000gn/T/ipykernel_88826/1823329465.py\u001b[0m in \u001b[0;36m<module>\u001b[0;34m\u001b[0m\n\u001b[1;32m      1\u001b[0m \u001b[0;31m# Read the provided CSV file/data set.\u001b[0m\u001b[0;34m\u001b[0m\u001b[0;34m\u001b[0m\u001b[0m\n\u001b[0;32m----> 2\u001b[0;31m \u001b[0mlondon_inner\u001b[0m \u001b[0;34m=\u001b[0m \u001b[0mpd\u001b[0m\u001b[0;34m.\u001b[0m\u001b[0mread_csv\u001b[0m\u001b[0;34m(\u001b[0m\u001b[0;34m'Inner London.csv'\u001b[0m\u001b[0;34m)\u001b[0m\u001b[0;34m\u001b[0m\u001b[0;34m\u001b[0m\u001b[0m\n\u001b[0m\u001b[1;32m      3\u001b[0m \u001b[0;34m\u001b[0m\u001b[0m\n\u001b[1;32m      4\u001b[0m \u001b[0;31m# Print the output.\u001b[0m\u001b[0;34m\u001b[0m\u001b[0;34m\u001b[0m\u001b[0m\n\u001b[1;32m      5\u001b[0m \u001b[0mprint\u001b[0m\u001b[0;34m(\u001b[0m\u001b[0mlondon_inner\u001b[0m\u001b[0;34m.\u001b[0m\u001b[0minfo\u001b[0m\u001b[0;34m(\u001b[0m\u001b[0;34m)\u001b[0m\u001b[0;34m)\u001b[0m\u001b[0;34m\u001b[0m\u001b[0;34m\u001b[0m\u001b[0m\n",
      "\u001b[0;32m~/opt/anaconda3/lib/python3.9/site-packages/pandas/util/_decorators.py\u001b[0m in \u001b[0;36mwrapper\u001b[0;34m(*args, **kwargs)\u001b[0m\n\u001b[1;32m    309\u001b[0m                     \u001b[0mstacklevel\u001b[0m\u001b[0;34m=\u001b[0m\u001b[0mstacklevel\u001b[0m\u001b[0;34m,\u001b[0m\u001b[0;34m\u001b[0m\u001b[0;34m\u001b[0m\u001b[0m\n\u001b[1;32m    310\u001b[0m                 )\n\u001b[0;32m--> 311\u001b[0;31m             \u001b[0;32mreturn\u001b[0m \u001b[0mfunc\u001b[0m\u001b[0;34m(\u001b[0m\u001b[0;34m*\u001b[0m\u001b[0margs\u001b[0m\u001b[0;34m,\u001b[0m \u001b[0;34m**\u001b[0m\u001b[0mkwargs\u001b[0m\u001b[0;34m)\u001b[0m\u001b[0;34m\u001b[0m\u001b[0;34m\u001b[0m\u001b[0m\n\u001b[0m\u001b[1;32m    312\u001b[0m \u001b[0;34m\u001b[0m\u001b[0m\n\u001b[1;32m    313\u001b[0m         \u001b[0;32mreturn\u001b[0m \u001b[0mwrapper\u001b[0m\u001b[0;34m\u001b[0m\u001b[0;34m\u001b[0m\u001b[0m\n",
      "\u001b[0;32m~/opt/anaconda3/lib/python3.9/site-packages/pandas/io/parsers/readers.py\u001b[0m in \u001b[0;36mread_csv\u001b[0;34m(filepath_or_buffer, sep, delimiter, header, names, index_col, usecols, squeeze, prefix, mangle_dupe_cols, dtype, engine, converters, true_values, false_values, skipinitialspace, skiprows, skipfooter, nrows, na_values, keep_default_na, na_filter, verbose, skip_blank_lines, parse_dates, infer_datetime_format, keep_date_col, date_parser, dayfirst, cache_dates, iterator, chunksize, compression, thousands, decimal, lineterminator, quotechar, quoting, doublequote, escapechar, comment, encoding, encoding_errors, dialect, error_bad_lines, warn_bad_lines, on_bad_lines, delim_whitespace, low_memory, memory_map, float_precision, storage_options)\u001b[0m\n\u001b[1;32m    584\u001b[0m     \u001b[0mkwds\u001b[0m\u001b[0;34m.\u001b[0m\u001b[0mupdate\u001b[0m\u001b[0;34m(\u001b[0m\u001b[0mkwds_defaults\u001b[0m\u001b[0;34m)\u001b[0m\u001b[0;34m\u001b[0m\u001b[0;34m\u001b[0m\u001b[0m\n\u001b[1;32m    585\u001b[0m \u001b[0;34m\u001b[0m\u001b[0m\n\u001b[0;32m--> 586\u001b[0;31m     \u001b[0;32mreturn\u001b[0m \u001b[0m_read\u001b[0m\u001b[0;34m(\u001b[0m\u001b[0mfilepath_or_buffer\u001b[0m\u001b[0;34m,\u001b[0m \u001b[0mkwds\u001b[0m\u001b[0;34m)\u001b[0m\u001b[0;34m\u001b[0m\u001b[0;34m\u001b[0m\u001b[0m\n\u001b[0m\u001b[1;32m    587\u001b[0m \u001b[0;34m\u001b[0m\u001b[0m\n\u001b[1;32m    588\u001b[0m \u001b[0;34m\u001b[0m\u001b[0m\n",
      "\u001b[0;32m~/opt/anaconda3/lib/python3.9/site-packages/pandas/io/parsers/readers.py\u001b[0m in \u001b[0;36m_read\u001b[0;34m(filepath_or_buffer, kwds)\u001b[0m\n\u001b[1;32m    480\u001b[0m \u001b[0;34m\u001b[0m\u001b[0m\n\u001b[1;32m    481\u001b[0m     \u001b[0;31m# Create the parser.\u001b[0m\u001b[0;34m\u001b[0m\u001b[0;34m\u001b[0m\u001b[0m\n\u001b[0;32m--> 482\u001b[0;31m     \u001b[0mparser\u001b[0m \u001b[0;34m=\u001b[0m \u001b[0mTextFileReader\u001b[0m\u001b[0;34m(\u001b[0m\u001b[0mfilepath_or_buffer\u001b[0m\u001b[0;34m,\u001b[0m \u001b[0;34m**\u001b[0m\u001b[0mkwds\u001b[0m\u001b[0;34m)\u001b[0m\u001b[0;34m\u001b[0m\u001b[0;34m\u001b[0m\u001b[0m\n\u001b[0m\u001b[1;32m    483\u001b[0m \u001b[0;34m\u001b[0m\u001b[0m\n\u001b[1;32m    484\u001b[0m     \u001b[0;32mif\u001b[0m \u001b[0mchunksize\u001b[0m \u001b[0;32mor\u001b[0m \u001b[0miterator\u001b[0m\u001b[0;34m:\u001b[0m\u001b[0;34m\u001b[0m\u001b[0;34m\u001b[0m\u001b[0m\n",
      "\u001b[0;32m~/opt/anaconda3/lib/python3.9/site-packages/pandas/io/parsers/readers.py\u001b[0m in \u001b[0;36m__init__\u001b[0;34m(self, f, engine, **kwds)\u001b[0m\n\u001b[1;32m    809\u001b[0m             \u001b[0mself\u001b[0m\u001b[0;34m.\u001b[0m\u001b[0moptions\u001b[0m\u001b[0;34m[\u001b[0m\u001b[0;34m\"has_index_names\"\u001b[0m\u001b[0;34m]\u001b[0m \u001b[0;34m=\u001b[0m \u001b[0mkwds\u001b[0m\u001b[0;34m[\u001b[0m\u001b[0;34m\"has_index_names\"\u001b[0m\u001b[0;34m]\u001b[0m\u001b[0;34m\u001b[0m\u001b[0;34m\u001b[0m\u001b[0m\n\u001b[1;32m    810\u001b[0m \u001b[0;34m\u001b[0m\u001b[0m\n\u001b[0;32m--> 811\u001b[0;31m         \u001b[0mself\u001b[0m\u001b[0;34m.\u001b[0m\u001b[0m_engine\u001b[0m \u001b[0;34m=\u001b[0m \u001b[0mself\u001b[0m\u001b[0;34m.\u001b[0m\u001b[0m_make_engine\u001b[0m\u001b[0;34m(\u001b[0m\u001b[0mself\u001b[0m\u001b[0;34m.\u001b[0m\u001b[0mengine\u001b[0m\u001b[0;34m)\u001b[0m\u001b[0;34m\u001b[0m\u001b[0;34m\u001b[0m\u001b[0m\n\u001b[0m\u001b[1;32m    812\u001b[0m \u001b[0;34m\u001b[0m\u001b[0m\n\u001b[1;32m    813\u001b[0m     \u001b[0;32mdef\u001b[0m \u001b[0mclose\u001b[0m\u001b[0;34m(\u001b[0m\u001b[0mself\u001b[0m\u001b[0;34m)\u001b[0m\u001b[0;34m:\u001b[0m\u001b[0;34m\u001b[0m\u001b[0;34m\u001b[0m\u001b[0m\n",
      "\u001b[0;32m~/opt/anaconda3/lib/python3.9/site-packages/pandas/io/parsers/readers.py\u001b[0m in \u001b[0;36m_make_engine\u001b[0;34m(self, engine)\u001b[0m\n\u001b[1;32m   1038\u001b[0m             )\n\u001b[1;32m   1039\u001b[0m         \u001b[0;31m# error: Too many arguments for \"ParserBase\"\u001b[0m\u001b[0;34m\u001b[0m\u001b[0;34m\u001b[0m\u001b[0m\n\u001b[0;32m-> 1040\u001b[0;31m         \u001b[0;32mreturn\u001b[0m \u001b[0mmapping\u001b[0m\u001b[0;34m[\u001b[0m\u001b[0mengine\u001b[0m\u001b[0;34m]\u001b[0m\u001b[0;34m(\u001b[0m\u001b[0mself\u001b[0m\u001b[0;34m.\u001b[0m\u001b[0mf\u001b[0m\u001b[0;34m,\u001b[0m \u001b[0;34m**\u001b[0m\u001b[0mself\u001b[0m\u001b[0;34m.\u001b[0m\u001b[0moptions\u001b[0m\u001b[0;34m)\u001b[0m  \u001b[0;31m# type: ignore[call-arg]\u001b[0m\u001b[0;34m\u001b[0m\u001b[0;34m\u001b[0m\u001b[0m\n\u001b[0m\u001b[1;32m   1041\u001b[0m \u001b[0;34m\u001b[0m\u001b[0m\n\u001b[1;32m   1042\u001b[0m     \u001b[0;32mdef\u001b[0m \u001b[0m_failover_to_python\u001b[0m\u001b[0;34m(\u001b[0m\u001b[0mself\u001b[0m\u001b[0;34m)\u001b[0m\u001b[0;34m:\u001b[0m\u001b[0;34m\u001b[0m\u001b[0;34m\u001b[0m\u001b[0m\n",
      "\u001b[0;32m~/opt/anaconda3/lib/python3.9/site-packages/pandas/io/parsers/c_parser_wrapper.py\u001b[0m in \u001b[0;36m__init__\u001b[0;34m(self, src, **kwds)\u001b[0m\n\u001b[1;32m     49\u001b[0m \u001b[0;34m\u001b[0m\u001b[0m\n\u001b[1;32m     50\u001b[0m         \u001b[0;31m# open handles\u001b[0m\u001b[0;34m\u001b[0m\u001b[0;34m\u001b[0m\u001b[0m\n\u001b[0;32m---> 51\u001b[0;31m         \u001b[0mself\u001b[0m\u001b[0;34m.\u001b[0m\u001b[0m_open_handles\u001b[0m\u001b[0;34m(\u001b[0m\u001b[0msrc\u001b[0m\u001b[0;34m,\u001b[0m \u001b[0mkwds\u001b[0m\u001b[0;34m)\u001b[0m\u001b[0;34m\u001b[0m\u001b[0;34m\u001b[0m\u001b[0m\n\u001b[0m\u001b[1;32m     52\u001b[0m         \u001b[0;32massert\u001b[0m \u001b[0mself\u001b[0m\u001b[0;34m.\u001b[0m\u001b[0mhandles\u001b[0m \u001b[0;32mis\u001b[0m \u001b[0;32mnot\u001b[0m \u001b[0;32mNone\u001b[0m\u001b[0;34m\u001b[0m\u001b[0;34m\u001b[0m\u001b[0m\n\u001b[1;32m     53\u001b[0m \u001b[0;34m\u001b[0m\u001b[0m\n",
      "\u001b[0;32m~/opt/anaconda3/lib/python3.9/site-packages/pandas/io/parsers/base_parser.py\u001b[0m in \u001b[0;36m_open_handles\u001b[0;34m(self, src, kwds)\u001b[0m\n\u001b[1;32m    220\u001b[0m         \u001b[0mLet\u001b[0m \u001b[0mthe\u001b[0m \u001b[0mreaders\u001b[0m \u001b[0mopen\u001b[0m \u001b[0mIOHandles\u001b[0m \u001b[0mafter\u001b[0m \u001b[0mthey\u001b[0m \u001b[0mare\u001b[0m \u001b[0mdone\u001b[0m \u001b[0;32mwith\u001b[0m \u001b[0mtheir\u001b[0m \u001b[0mpotential\u001b[0m \u001b[0mraises\u001b[0m\u001b[0;34m.\u001b[0m\u001b[0;34m\u001b[0m\u001b[0;34m\u001b[0m\u001b[0m\n\u001b[1;32m    221\u001b[0m         \"\"\"\n\u001b[0;32m--> 222\u001b[0;31m         self.handles = get_handle(\n\u001b[0m\u001b[1;32m    223\u001b[0m             \u001b[0msrc\u001b[0m\u001b[0;34m,\u001b[0m\u001b[0;34m\u001b[0m\u001b[0;34m\u001b[0m\u001b[0m\n\u001b[1;32m    224\u001b[0m             \u001b[0;34m\"r\"\u001b[0m\u001b[0;34m,\u001b[0m\u001b[0;34m\u001b[0m\u001b[0;34m\u001b[0m\u001b[0m\n",
      "\u001b[0;32m~/opt/anaconda3/lib/python3.9/site-packages/pandas/io/common.py\u001b[0m in \u001b[0;36mget_handle\u001b[0;34m(path_or_buf, mode, encoding, compression, memory_map, is_text, errors, storage_options)\u001b[0m\n\u001b[1;32m    700\u001b[0m         \u001b[0;32mif\u001b[0m \u001b[0mioargs\u001b[0m\u001b[0;34m.\u001b[0m\u001b[0mencoding\u001b[0m \u001b[0;32mand\u001b[0m \u001b[0;34m\"b\"\u001b[0m \u001b[0;32mnot\u001b[0m \u001b[0;32min\u001b[0m \u001b[0mioargs\u001b[0m\u001b[0;34m.\u001b[0m\u001b[0mmode\u001b[0m\u001b[0;34m:\u001b[0m\u001b[0;34m\u001b[0m\u001b[0;34m\u001b[0m\u001b[0m\n\u001b[1;32m    701\u001b[0m             \u001b[0;31m# Encoding\u001b[0m\u001b[0;34m\u001b[0m\u001b[0;34m\u001b[0m\u001b[0m\n\u001b[0;32m--> 702\u001b[0;31m             handle = open(\n\u001b[0m\u001b[1;32m    703\u001b[0m                 \u001b[0mhandle\u001b[0m\u001b[0;34m,\u001b[0m\u001b[0;34m\u001b[0m\u001b[0;34m\u001b[0m\u001b[0m\n\u001b[1;32m    704\u001b[0m                 \u001b[0mioargs\u001b[0m\u001b[0;34m.\u001b[0m\u001b[0mmode\u001b[0m\u001b[0;34m,\u001b[0m\u001b[0;34m\u001b[0m\u001b[0;34m\u001b[0m\u001b[0m\n",
      "\u001b[0;31mFileNotFoundError\u001b[0m: [Errno 2] No such file or directory: 'Inner London.csv'"
     ]
    }
   ],
   "source": [
    "# Read the provided CSV file/data set.\n",
    "london_inner = pd.read_csv('Inner London.csv') \n",
    "\n",
    "# Print the output.\n",
    "print(london_inner.info())\n",
    "london_inner.tail()"
   ]
  },
  {
   "cell_type": "markdown",
   "id": "0af40947",
   "metadata": {},
   "source": [
    "#  Analysis on hired bikes( Part of Recommendations)"
   ]
  },
  {
   "cell_type": "markdown",
   "id": "e0c9c74d",
   "metadata": {},
   "source": [
    "#### Analysing central london data set and biking locations."
   ]
  },
  {
   "cell_type": "code",
   "execution_count": 1,
   "id": "e3594e66",
   "metadata": {},
   "outputs": [
    {
     "name": "stdout",
     "output_type": "stream",
     "text": [
      "<class 'pandas.core.frame.DataFrame'>\n",
      "RangeIndex: 2023 entries, 0 to 2022\n",
      "Data columns (total 9 columns):\n",
      " #   Column                   Non-Null Count  Dtype  \n",
      "---  ------                   --------------  -----  \n",
      " 0   Unnamed: 0               2023 non-null   int64  \n",
      " 1   UnqID                    2023 non-null   object \n",
      " 2   ProgID                   2023 non-null   object \n",
      " 3   SurveyDescription        2023 non-null   object \n",
      " 4   Easting                  2023 non-null   float64\n",
      " 5   Northing                 2023 non-null   float64\n",
      " 6   Location                 2023 non-null   object \n",
      " 7   Borough                  2023 non-null   object \n",
      " 8   Functional cycling area  2023 non-null   object \n",
      "dtypes: float64(2), int64(1), object(6)\n",
      "memory usage: 142.4+ KB\n",
      "None\n"
     ]
    }
   ],
   "source": [
    "import pandas as pd\n",
    "  \n",
    "# reading csv file\n",
    "data12 = pd.read_csv('london_sites_cl.csv')\n",
    "print(data12.info())\n"
   ]
  },
  {
   "cell_type": "code",
   "execution_count": 2,
   "id": "6f8282f3",
   "metadata": {
    "scrolled": false
   },
   "outputs": [
    {
     "name": "stdout",
     "output_type": "stream",
     "text": [
      "<class 'pandas.core.frame.DataFrame'>\n",
      "RangeIndex: 758163 entries, 0 to 758162\n",
      "Data columns (total 23 columns):\n",
      " #   Column                          Non-Null Count   Dtype  \n",
      "---  ------                          --------------   -----  \n",
      " 0   Unnamed: 0                      758163 non-null  int64  \n",
      " 1   Survey wave (calendar quarter)  758163 non-null  object \n",
      " 2   Equivalent financial quarter    758163 non-null  object \n",
      " 3   Site ID                         758163 non-null  object \n",
      " 4   Location                        758163 non-null  object \n",
      " 5   Survey date                     747751 non-null  object \n",
      " 6   Weather                         758163 non-null  object \n",
      " 7   Time                            758163 non-null  object \n",
      " 8   Period                          758163 non-null  object \n",
      " 9   Direction                       758163 non-null  object \n",
      " 10  Start hour                      758163 non-null  float64\n",
      " 11  Start minute                    758163 non-null  float64\n",
      " 12  Number of private cycles        758163 non-null  int64  \n",
      " 13  Number of cycle hire bikes      758163 non-null  int64  \n",
      " 14  Survey_wave_year                758163 non-null  int64  \n",
      " 15  Survey_wave_quater              758163 non-null  object \n",
      " 16  Survey_wave_months              758163 non-null  object \n",
      " 17  Date                            747751 non-null  object \n",
      " 18  Year-Quarter                    758163 non-null  object \n",
      " 19  Day                             747751 non-null  object \n",
      " 20  ffill_date                      758163 non-null  object \n",
      " 21  ffill_day                       758163 non-null  object \n",
      " 22  Total_cycles                    758163 non-null  int64  \n",
      "dtypes: float64(2), int64(5), object(16)\n",
      "memory usage: 133.0+ MB\n",
      "None\n"
     ]
    }
   ],
   "source": [
    "# reading two csv files\n",
    "data1 = pd.read_csv('L_centr_fnl_0.csv')\n",
    "print(data1.info())"
   ]
  },
  {
   "cell_type": "markdown",
   "id": "85756854",
   "metadata": {},
   "source": [
    "## Merging both the data sets on central london and bikes sites on unique id."
   ]
  },
  {
   "cell_type": "code",
   "execution_count": 3,
   "id": "4a1771bf",
   "metadata": {
    "scrolled": false
   },
   "outputs": [
    {
     "name": "stdout",
     "output_type": "stream",
     "text": [
      "        Unnamed: 0_x     UnqID ProgID           SurveyDescription    Easting  \\\n",
      "0                  0  CENCY001  CENCY  Central area cycle surveys  530251.49   \n",
      "1                  0  CENCY001  CENCY  Central area cycle surveys  530251.49   \n",
      "2                  0  CENCY001  CENCY  Central area cycle surveys  530251.49   \n",
      "3                  0  CENCY001  CENCY  Central area cycle surveys  530251.49   \n",
      "4                  0  CENCY001  CENCY  Central area cycle surveys  530251.49   \n",
      "...              ...       ...    ...                         ...        ...   \n",
      "758158           209  CENCY702  CENCY  Central area cycle surveys  529736.03   \n",
      "758159           209  CENCY702  CENCY  Central area cycle surveys  529736.03   \n",
      "758160           209  CENCY702  CENCY  Central area cycle surveys  529736.03   \n",
      "758161           209  CENCY702  CENCY  Central area cycle surveys  529736.03   \n",
      "758162           209  CENCY702  CENCY  Central area cycle surveys  529736.03   \n",
      "\n",
      "         Northing                          Location_x      Borough  \\\n",
      "0       178742.45  Millbank (south of Thorney Street)  Westminster   \n",
      "1       178742.45  Millbank (south of Thorney Street)  Westminster   \n",
      "2       178742.45  Millbank (south of Thorney Street)  Westminster   \n",
      "3       178742.45  Millbank (south of Thorney Street)  Westminster   \n",
      "4       178742.45  Millbank (south of Thorney Street)  Westminster   \n",
      "...           ...                                 ...          ...   \n",
      "758158  180515.52                           Haymarket  Westminster   \n",
      "758159  180515.52                           Haymarket  Westminster   \n",
      "758160  180515.52                           Haymarket  Westminster   \n",
      "758161  180515.52                           Haymarket  Westminster   \n",
      "758162  180515.52                           Haymarket  Westminster   \n",
      "\n",
      "       Functional cycling area  Unnamed: 0_y  ... Number of cycle hire bikes  \\\n",
      "0                      Central             0  ...                          0   \n",
      "1                      Central             1  ...                          0   \n",
      "2                      Central             2  ...                          0   \n",
      "3                      Central             3  ...                          2   \n",
      "4                      Central             4  ...                          0   \n",
      "...                        ...           ...  ...                        ...   \n",
      "758158                 Central        758158  ...                          1   \n",
      "758159                 Central        758159  ...                          0   \n",
      "758160                 Central        758160  ...                          1   \n",
      "758161                 Central        758161  ...                          1   \n",
      "758162                 Central        758162  ...                          2   \n",
      "\n",
      "       Survey_wave_year Survey_wave_quater Survey_wave_months        Date  \\\n",
      "0                  2014                 Q1      January-March  2014-01-24   \n",
      "1                  2014                 Q1      January-March  2014-01-24   \n",
      "2                  2014                 Q1      January-March  2014-01-24   \n",
      "3                  2014                 Q1      January-March  2014-01-24   \n",
      "4                  2014                 Q1      January-March  2014-01-24   \n",
      "...                 ...                ...                ...         ...   \n",
      "758158             2021                 Q4   October-December  2021-12-21   \n",
      "758159             2021                 Q4   October-December  2021-12-21   \n",
      "758160             2021                 Q4   October-December  2021-12-21   \n",
      "758161             2021                 Q4   October-December  2021-12-21   \n",
      "758162             2021                 Q4   October-December  2021-12-21   \n",
      "\n",
      "       Year-Quarter      Day  ffill_date  ffill_day  Total_cycles  \n",
      "0           2014-Q1   Friday  2014-01-24     Friday             0  \n",
      "1           2014-Q1   Friday  2014-01-24     Friday            15  \n",
      "2           2014-Q1   Friday  2014-01-24     Friday            35  \n",
      "3           2014-Q1   Friday  2014-01-24     Friday            61  \n",
      "4           2014-Q1   Friday  2014-01-24     Friday            73  \n",
      "...             ...      ...         ...        ...           ...  \n",
      "758158      2021-Q4  Tuesday  2021-12-21    Tuesday            23  \n",
      "758159      2021-Q4  Tuesday  2021-12-21    Tuesday            20  \n",
      "758160      2021-Q4  Tuesday  2021-12-21    Tuesday            17  \n",
      "758161      2021-Q4  Tuesday  2021-12-21    Tuesday            11  \n",
      "758162      2021-Q4  Tuesday  2021-12-21    Tuesday            14  \n",
      "\n",
      "[758163 rows x 31 columns]\n",
      "<class 'pandas.core.frame.DataFrame'>\n",
      "Int64Index: 758163 entries, 0 to 758162\n",
      "Data columns (total 31 columns):\n",
      " #   Column                          Non-Null Count   Dtype  \n",
      "---  ------                          --------------   -----  \n",
      " 0   Unnamed: 0_x                    758163 non-null  int64  \n",
      " 1   UnqID                           758163 non-null  object \n",
      " 2   ProgID                          758163 non-null  object \n",
      " 3   SurveyDescription               758163 non-null  object \n",
      " 4   Easting                         758163 non-null  float64\n",
      " 5   Northing                        758163 non-null  float64\n",
      " 6   Location_x                      758163 non-null  object \n",
      " 7   Borough                         758163 non-null  object \n",
      " 8   Functional cycling area         758163 non-null  object \n",
      " 9   Unnamed: 0_y                    758163 non-null  int64  \n",
      " 10  Survey wave (calendar quarter)  758163 non-null  object \n",
      " 11  Equivalent financial quarter    758163 non-null  object \n",
      " 12  Location_y                      758163 non-null  object \n",
      " 13  Survey date                     747751 non-null  object \n",
      " 14  Weather                         758163 non-null  object \n",
      " 15  Time                            758163 non-null  object \n",
      " 16  Period                          758163 non-null  object \n",
      " 17  Direction                       758163 non-null  object \n",
      " 18  Start hour                      758163 non-null  float64\n",
      " 19  Start minute                    758163 non-null  float64\n",
      " 20  Number of private cycles        758163 non-null  int64  \n",
      " 21  Number of cycle hire bikes      758163 non-null  int64  \n",
      " 22  Survey_wave_year                758163 non-null  int64  \n",
      " 23  Survey_wave_quater              758163 non-null  object \n",
      " 24  Survey_wave_months              758163 non-null  object \n",
      " 25  Date                            747751 non-null  object \n",
      " 26  Year-Quarter                    758163 non-null  object \n",
      " 27  Day                             747751 non-null  object \n",
      " 28  ffill_date                      758163 non-null  object \n",
      " 29  ffill_day                       758163 non-null  object \n",
      " 30  Total_cycles                    758163 non-null  int64  \n",
      "dtypes: float64(4), int64(6), object(21)\n",
      "memory usage: 185.1+ MB\n",
      "None\n"
     ]
    },
    {
     "data": {
      "text/html": [
       "<div>\n",
       "<style scoped>\n",
       "    .dataframe tbody tr th:only-of-type {\n",
       "        vertical-align: middle;\n",
       "    }\n",
       "\n",
       "    .dataframe tbody tr th {\n",
       "        vertical-align: top;\n",
       "    }\n",
       "\n",
       "    .dataframe thead th {\n",
       "        text-align: right;\n",
       "    }\n",
       "</style>\n",
       "<table border=\"1\" class=\"dataframe\">\n",
       "  <thead>\n",
       "    <tr style=\"text-align: right;\">\n",
       "      <th></th>\n",
       "      <th>Unnamed: 0_x</th>\n",
       "      <th>UnqID</th>\n",
       "      <th>ProgID</th>\n",
       "      <th>SurveyDescription</th>\n",
       "      <th>Easting</th>\n",
       "      <th>Northing</th>\n",
       "      <th>Location_x</th>\n",
       "      <th>Borough</th>\n",
       "      <th>Functional cycling area</th>\n",
       "      <th>Unnamed: 0_y</th>\n",
       "      <th>...</th>\n",
       "      <th>Number of cycle hire bikes</th>\n",
       "      <th>Survey_wave_year</th>\n",
       "      <th>Survey_wave_quater</th>\n",
       "      <th>Survey_wave_months</th>\n",
       "      <th>Date</th>\n",
       "      <th>Year-Quarter</th>\n",
       "      <th>Day</th>\n",
       "      <th>ffill_date</th>\n",
       "      <th>ffill_day</th>\n",
       "      <th>Total_cycles</th>\n",
       "    </tr>\n",
       "  </thead>\n",
       "  <tbody>\n",
       "    <tr>\n",
       "      <th>0</th>\n",
       "      <td>0</td>\n",
       "      <td>CENCY001</td>\n",
       "      <td>CENCY</td>\n",
       "      <td>Central area cycle surveys</td>\n",
       "      <td>530251.49</td>\n",
       "      <td>178742.45</td>\n",
       "      <td>Millbank (south of Thorney Street)</td>\n",
       "      <td>Westminster</td>\n",
       "      <td>Central</td>\n",
       "      <td>0</td>\n",
       "      <td>...</td>\n",
       "      <td>0</td>\n",
       "      <td>2014</td>\n",
       "      <td>Q1</td>\n",
       "      <td>January-March</td>\n",
       "      <td>2014-01-24</td>\n",
       "      <td>2014-Q1</td>\n",
       "      <td>Friday</td>\n",
       "      <td>2014-01-24</td>\n",
       "      <td>Friday</td>\n",
       "      <td>0</td>\n",
       "    </tr>\n",
       "    <tr>\n",
       "      <th>1</th>\n",
       "      <td>0</td>\n",
       "      <td>CENCY001</td>\n",
       "      <td>CENCY</td>\n",
       "      <td>Central area cycle surveys</td>\n",
       "      <td>530251.49</td>\n",
       "      <td>178742.45</td>\n",
       "      <td>Millbank (south of Thorney Street)</td>\n",
       "      <td>Westminster</td>\n",
       "      <td>Central</td>\n",
       "      <td>1</td>\n",
       "      <td>...</td>\n",
       "      <td>0</td>\n",
       "      <td>2014</td>\n",
       "      <td>Q1</td>\n",
       "      <td>January-March</td>\n",
       "      <td>2014-01-24</td>\n",
       "      <td>2014-Q1</td>\n",
       "      <td>Friday</td>\n",
       "      <td>2014-01-24</td>\n",
       "      <td>Friday</td>\n",
       "      <td>15</td>\n",
       "    </tr>\n",
       "    <tr>\n",
       "      <th>2</th>\n",
       "      <td>0</td>\n",
       "      <td>CENCY001</td>\n",
       "      <td>CENCY</td>\n",
       "      <td>Central area cycle surveys</td>\n",
       "      <td>530251.49</td>\n",
       "      <td>178742.45</td>\n",
       "      <td>Millbank (south of Thorney Street)</td>\n",
       "      <td>Westminster</td>\n",
       "      <td>Central</td>\n",
       "      <td>2</td>\n",
       "      <td>...</td>\n",
       "      <td>0</td>\n",
       "      <td>2014</td>\n",
       "      <td>Q1</td>\n",
       "      <td>January-March</td>\n",
       "      <td>2014-01-24</td>\n",
       "      <td>2014-Q1</td>\n",
       "      <td>Friday</td>\n",
       "      <td>2014-01-24</td>\n",
       "      <td>Friday</td>\n",
       "      <td>35</td>\n",
       "    </tr>\n",
       "    <tr>\n",
       "      <th>3</th>\n",
       "      <td>0</td>\n",
       "      <td>CENCY001</td>\n",
       "      <td>CENCY</td>\n",
       "      <td>Central area cycle surveys</td>\n",
       "      <td>530251.49</td>\n",
       "      <td>178742.45</td>\n",
       "      <td>Millbank (south of Thorney Street)</td>\n",
       "      <td>Westminster</td>\n",
       "      <td>Central</td>\n",
       "      <td>3</td>\n",
       "      <td>...</td>\n",
       "      <td>2</td>\n",
       "      <td>2014</td>\n",
       "      <td>Q1</td>\n",
       "      <td>January-March</td>\n",
       "      <td>2014-01-24</td>\n",
       "      <td>2014-Q1</td>\n",
       "      <td>Friday</td>\n",
       "      <td>2014-01-24</td>\n",
       "      <td>Friday</td>\n",
       "      <td>61</td>\n",
       "    </tr>\n",
       "    <tr>\n",
       "      <th>4</th>\n",
       "      <td>0</td>\n",
       "      <td>CENCY001</td>\n",
       "      <td>CENCY</td>\n",
       "      <td>Central area cycle surveys</td>\n",
       "      <td>530251.49</td>\n",
       "      <td>178742.45</td>\n",
       "      <td>Millbank (south of Thorney Street)</td>\n",
       "      <td>Westminster</td>\n",
       "      <td>Central</td>\n",
       "      <td>4</td>\n",
       "      <td>...</td>\n",
       "      <td>0</td>\n",
       "      <td>2014</td>\n",
       "      <td>Q1</td>\n",
       "      <td>January-March</td>\n",
       "      <td>2014-01-24</td>\n",
       "      <td>2014-Q1</td>\n",
       "      <td>Friday</td>\n",
       "      <td>2014-01-24</td>\n",
       "      <td>Friday</td>\n",
       "      <td>73</td>\n",
       "    </tr>\n",
       "  </tbody>\n",
       "</table>\n",
       "<p>5 rows × 31 columns</p>\n",
       "</div>"
      ],
      "text/plain": [
       "   Unnamed: 0_x     UnqID ProgID           SurveyDescription    Easting  \\\n",
       "0             0  CENCY001  CENCY  Central area cycle surveys  530251.49   \n",
       "1             0  CENCY001  CENCY  Central area cycle surveys  530251.49   \n",
       "2             0  CENCY001  CENCY  Central area cycle surveys  530251.49   \n",
       "3             0  CENCY001  CENCY  Central area cycle surveys  530251.49   \n",
       "4             0  CENCY001  CENCY  Central area cycle surveys  530251.49   \n",
       "\n",
       "    Northing                          Location_x      Borough  \\\n",
       "0  178742.45  Millbank (south of Thorney Street)  Westminster   \n",
       "1  178742.45  Millbank (south of Thorney Street)  Westminster   \n",
       "2  178742.45  Millbank (south of Thorney Street)  Westminster   \n",
       "3  178742.45  Millbank (south of Thorney Street)  Westminster   \n",
       "4  178742.45  Millbank (south of Thorney Street)  Westminster   \n",
       "\n",
       "  Functional cycling area  Unnamed: 0_y  ... Number of cycle hire bikes  \\\n",
       "0                 Central             0  ...                          0   \n",
       "1                 Central             1  ...                          0   \n",
       "2                 Central             2  ...                          0   \n",
       "3                 Central             3  ...                          2   \n",
       "4                 Central             4  ...                          0   \n",
       "\n",
       "  Survey_wave_year Survey_wave_quater Survey_wave_months        Date  \\\n",
       "0             2014                 Q1      January-March  2014-01-24   \n",
       "1             2014                 Q1      January-March  2014-01-24   \n",
       "2             2014                 Q1      January-March  2014-01-24   \n",
       "3             2014                 Q1      January-March  2014-01-24   \n",
       "4             2014                 Q1      January-March  2014-01-24   \n",
       "\n",
       "  Year-Quarter     Day  ffill_date  ffill_day  Total_cycles  \n",
       "0      2014-Q1  Friday  2014-01-24     Friday             0  \n",
       "1      2014-Q1  Friday  2014-01-24     Friday            15  \n",
       "2      2014-Q1  Friday  2014-01-24     Friday            35  \n",
       "3      2014-Q1  Friday  2014-01-24     Friday            61  \n",
       "4      2014-Q1  Friday  2014-01-24     Friday            73  \n",
       "\n",
       "[5 rows x 31 columns]"
      ]
     },
     "execution_count": 3,
     "metadata": {},
     "output_type": "execute_result"
    }
   ],
   "source": [
    "import pandas as pd\n",
    "  \n",
    "# reading two csv files\n",
    "data1 = pd.read_csv('L_centr_fnl_0.csv')\n",
    "data12 = pd.read_csv('london_sites_cl.csv')\n",
    "\n",
    "output2 = data12.merge(data1.rename(columns={'Site ID': 'UnqID'}),\n",
    "                   how='inner',\n",
    "                   on='UnqID', \n",
    "                   copy=False)\n",
    "print(output2)\n",
    "  \n",
    "# displaying result\n",
    "print(output2.info())\n",
    "output2.head()\n"
   ]
  },
  {
   "cell_type": "markdown",
   "id": "e345a105",
   "metadata": {},
   "source": [
    "## Descriptive statistics on hired bikes on the new data frame."
   ]
  },
  {
   "cell_type": "code",
   "execution_count": 4,
   "id": "27369656",
   "metadata": {
    "scrolled": true
   },
   "outputs": [
    {
     "data": {
      "text/plain": [
       "<AxesSubplot:xlabel='Survey_wave_year'>"
      ]
     },
     "execution_count": 4,
     "metadata": {},
     "output_type": "execute_result"
    },
    {
     "data": {
      "image/png": "[encoded data removed]",
      "text/plain": [
       "<Figure size 432x288 with 1 Axes>"
      ]
     },
     "metadata": {
      "needs_background": "light"
     },
     "output_type": "display_data"
    }
   ],
   "source": [
    "output2.plot(x=\"Survey_wave_year\", y=[\"Number of cycle hire bikes\", \"Borough\"])\n",
    "\n"
   ]
  },
  {
   "cell_type": "markdown",
   "id": "cab75354",
   "metadata": {},
   "source": [
    "qucik count of number of hired bikes data across data 2014-2021."
   ]
  },
  {
   "cell_type": "markdown",
   "id": "3c628d24",
   "metadata": {},
   "source": [
    "##### Further grouping of data based on borough and suvery wave year  to get a higest and the lowest  number of bikes  number."
   ]
  },
  {
   "cell_type": "code",
   "execution_count": 337,
   "id": "98fb60da",
   "metadata": {
    "scrolled": true
   },
   "outputs": [
    {
     "data": {
      "text/plain": [
       "max    68449\n",
       "min      226\n",
       "Name: Number of cycle hire bikes, dtype: int64"
      ]
     },
     "execution_count": 337,
     "metadata": {},
     "output_type": "execute_result"
    }
   ],
   "source": [
    "output2.groupby(['Borough','Survey_wave_year']).sum()['Number of cycle hire bikes'].agg(\n",
    "max=('max'),\n",
    "    min=('min'))"
   ]
  },
  {
   "cell_type": "markdown",
   "id": "62cb3d65",
   "metadata": {},
   "source": [
    "#### further grouping the data based on survey wave year , borough and the getting a sum of number of hired bikes valeus over the span 2014-2021 by each borough."
   ]
  },
  {
   "cell_type": "code",
   "execution_count": 206,
   "id": "0122e56e",
   "metadata": {},
   "outputs": [
    {
     "data": {
      "text/plain": [
       "Survey_wave_year  Borough       \n",
       "2014              Camden            28622\n",
       "                  City of London    38145\n",
       "                  Hackney             472\n",
       "                  Islington         12386\n",
       "                  Lambeth           17871\n",
       "                                    ...  \n",
       "2021              Islington          8010\n",
       "                  Lambeth           15521\n",
       "                  Southwark         15351\n",
       "                  Tower Hamlets       392\n",
       "                  Westminster       53680\n",
       "Name: Number of cycle hire bikes, Length: 64, dtype: int64"
      ]
     },
     "execution_count": 206,
     "metadata": {},
     "output_type": "execute_result"
    }
   ],
   "source": [
    "output2.groupby(['Survey_wave_year','Borough']).sum()['Number of cycle hire bikes']"
   ]
  },
  {
   "cell_type": "markdown",
   "id": "9b237295",
   "metadata": {},
   "source": [
    "### mapping the hired bikes grouped along survey wave year and borough to get the trend over the years from 2014-2021 and making observations."
   ]
  },
  {
   "cell_type": "code",
   "execution_count": 205,
   "id": "cf8667a0",
   "metadata": {},
   "outputs": [
    {
     "data": {
      "text/plain": [
       "Text(0, 0.5, 'classification based on Borough')"
      ]
     },
     "execution_count": 205,
     "metadata": {},
     "output_type": "execute_result"
    },
    {
     "data": {
      "image/png": "[encoded data removed]",
      "text/plain": [
       "<Figure size 1080x360 with 1 Axes>"
      ]
     },
     "metadata": {},
     "output_type": "display_data"
    }
   ],
   "source": [
    "#import libraries\n",
    "import pandas as pd\n",
    "import matplotlib.pyplot as plt\n",
    "import random\n",
    "\n",
    "%matplotlib inline\n",
    "\n",
    "#set ggplot style\n",
    "plt.style.use('ggplot')\n",
    "\n",
    "fig, ax = plt.subplots(figsize=(15,5))\n",
    "output2.groupby(['Survey_wave_year','Borough']).sum()['Number of cycle hire bikes'].unstack().plot(ax=ax)\n",
    "ax.set_xlabel('year')\n",
    "ax.set_ylabel('classification based on Borough')"
   ]
  },
  {
   "cell_type": "markdown",
   "id": "33fc55a2",
   "metadata": {},
   "source": [
    " ##### we can see that in central london that hired bikes were accesed in good numbers  but then  declined in 2019 due to covid and started recovering in 2020 and 2021."
   ]
  },
  {
   "cell_type": "markdown",
   "id": "d9faf904",
   "metadata": {},
   "source": [
    "In Depth  Observation:"
   ]
  },
  {
   "cell_type": "markdown",
   "id": "45da3dc5",
   "metadata": {},
   "source": [
    "1)the below grouped data of ,sum of hired bikes  data that is grouped along on survey wave year(2014-2021))  across london boroughs, was further catogriesed on maximum number of hired bikes recieving each year from 2014-2021,here we can see that westminister had the highest  hired bikes among all the boroughs.\n",
    "\n",
    "2)moreover if we closely look observe the figure above and the data below it  is evident that majority of boroughs  peak was achieved in 2019 and stopped due to covid and then the number of hired bikes started to go up in again in 2021.\n",
    "\n",
    "3)after covid-19 the highest number of hired bikes was again observed in westminster 53680, followed by city of london 35664 ,camden 21296 ,southwark with 15351 closely behind was lambeth with 15521 then islington ,hackney and tower of hamlets. "
   ]
  },
  {
   "cell_type": "code",
   "execution_count": 342,
   "id": "0a2913a9",
   "metadata": {
    "scrolled": true
   },
   "outputs": [
    {
     "data": {
      "text/plain": [
       "Survey_wave_year  Borough       \n",
       "2019              Camden            30957\n",
       "2018              Camden            30952\n",
       "2017              Camden            29543\n",
       "2014              Camden            28622\n",
       "2016              Camden            28614\n",
       "2015              Camden            27393\n",
       "2021              Camden            21296\n",
       "2019              City of London    55519\n",
       "2018              City of London    54765\n",
       "2017              City of London    48528\n",
       "2016              City of London    44929\n",
       "2015              City of London    39839\n",
       "2014              City of London    38145\n",
       "2021              City of London    35664\n",
       "2019              Hackney             678\n",
       "2021              Hackney             627\n",
       "2016              Hackney             543\n",
       "2018              Hackney             539\n",
       "2017              Hackney             495\n",
       "2014              Hackney             472\n",
       "2015              Hackney             467\n",
       "2018              Islington         14018\n",
       "2019              Islington         13319\n",
       "2016              Islington         12789\n",
       "2017              Islington         12738\n",
       "2015              Islington         12618\n",
       "2014              Islington         12386\n",
       "2021              Islington          8010\n",
       "2018              Lambeth           21812\n",
       "2019              Lambeth           21397\n",
       "2016              Lambeth           21105\n",
       "2015              Lambeth           19702\n",
       "2017              Lambeth           19387\n",
       "2014              Lambeth           17871\n",
       "2021              Lambeth           15521\n",
       "2019              Southwark         24275\n",
       "2018              Southwark         23708\n",
       "2017              Southwark         21176\n",
       "2016              Southwark         18959\n",
       "2015              Southwark         17537\n",
       "2014              Southwark         16344\n",
       "2021              Southwark         15351\n",
       "2018              Tower Hamlets       586\n",
       "2016              Tower Hamlets       543\n",
       "2017              Tower Hamlets       530\n",
       "2019              Tower Hamlets       506\n",
       "2015              Tower Hamlets       482\n",
       "2014              Tower Hamlets       476\n",
       "2021              Tower Hamlets       392\n",
       "2019              Westminster       68449\n",
       "2018              Westminster       64471\n",
       "2017              Westminster       57919\n",
       "2016              Westminster       54820\n",
       "2021              Westminster       53680\n",
       "2015              Westminster       52541\n",
       "2014              Westminster       52355\n",
       "Name: Number of cycle hire bikes, dtype: int64"
      ]
     },
     "execution_count": 342,
     "metadata": {},
     "output_type": "execute_result"
    }
   ],
   "source": [
    "output2.groupby(['Survey_wave_year','Borough',]\n",
    " ).sum()['Number of cycle hire bikes'].groupby('Borough', group_keys=False).nlargest(7)\n",
    "\n",
    "\n",
    "\n",
    "\n"
   ]
  },
  {
   "cell_type": "markdown",
   "id": "95822d74",
   "metadata": {},
   "source": [
    "#### Below is the figure ranked with higest number of bikes by borough and further ranked by years from (2014-2021) "
   ]
  },
  {
   "cell_type": "code",
   "execution_count": 347,
   "id": "1897f0ad",
   "metadata": {},
   "outputs": [
    {
     "data": {
      "text/plain": [
       "Text(0, 0.5, 'years where the number were highest')"
      ]
     },
     "execution_count": 347,
     "metadata": {},
     "output_type": "execute_result"
    },
    {
     "data": {
      "image/png": "[encoded data removed]",
      "text/plain": [
       "<Figure size 1080x504 with 1 Axes>"
      ]
     },
     "metadata": {},
     "output_type": "display_data"
    }
   ],
   "source": [
    "# plot data\n",
    "fig, ax = plt.subplots(figsize=(15,7))\n",
    "# use unstack()\n",
    "output2.groupby(['Borough','Survey_wave_year']\n",
    " ).sum()['Number of cycle hire bikes'].groupby('Borough', group_keys=False).nlargest(7).unstack().plot.bar(ax=ax)\n",
    "ax.set_xlabel('classification based on Borough')\n",
    "ax.set_ylabel('years where the number were highest')"
   ]
  },
  {
   "cell_type": "markdown",
   "id": "ad2d9ce5",
   "metadata": {},
   "source": [
    " Overall Observation on Central london data set in terms of hired bikes."
   ]
  },
  {
   "cell_type": "markdown",
   "id": "468d9815",
   "metadata": {},
   "source": [
    "\n",
    "we can see that the hired bikes had a huge number and going upwards in demand which is going up in aswell further analysis required on hired bikes."
   ]
  },
  {
   "cell_type": "code",
   "execution_count": null,
   "id": "6dc96201",
   "metadata": {},
   "outputs": [],
   "source": []
  },
  {
   "cell_type": "markdown",
   "id": "0798d70c",
   "metadata": {},
   "source": [
    "## Merging both the data sets on Inner  london and bikes sites on unique id."
   ]
  },
  {
   "cell_type": "code",
   "execution_count": 18,
   "id": "4dc8cc24",
   "metadata": {},
   "outputs": [
    {
     "name": "stdout",
     "output_type": "stream",
     "text": [
      "        Unnamed: 0_x     UnqID ProgID         SurveyDescription  \\\n",
      "0                579  INNCY001  INNCY  Inner area cycle surveys   \n",
      "1                579  INNCY001  INNCY  Inner area cycle surveys   \n",
      "2                579  INNCY001  INNCY  Inner area cycle surveys   \n",
      "3                579  INNCY001  INNCY  Inner area cycle surveys   \n",
      "4                579  INNCY001  INNCY  Inner area cycle surveys   \n",
      "...              ...       ...    ...                       ...   \n",
      "508702          1175  INNCY597  INNCY  Inner area cycle surveys   \n",
      "508703          1175  INNCY597  INNCY  Inner area cycle surveys   \n",
      "508704          1175  INNCY597  INNCY  Inner area cycle surveys   \n",
      "508705          1175  INNCY597  INNCY  Inner area cycle surveys   \n",
      "508706          1175  INNCY597  INNCY  Inner area cycle surveys   \n",
      "\n",
      "              Easting       Northing     Location_x        Borough  \\\n",
      "0       536005.234595  183224.931664     Grove Road  Tower Hamlets   \n",
      "1       536005.234595  183224.931664     Grove Road  Tower Hamlets   \n",
      "2       536005.234595  183224.931664     Grove Road  Tower Hamlets   \n",
      "3       536005.234595  183224.931664     Grove Road  Tower Hamlets   \n",
      "4       536005.234595  183224.931664     Grove Road  Tower Hamlets   \n",
      "...               ...            ...            ...            ...   \n",
      "508702  524704.182822  173281.028077  Augustus Road     Wandsworth   \n",
      "508703  524704.182822  173281.028077  Augustus Road     Wandsworth   \n",
      "508704  524704.182822  173281.028077  Augustus Road     Wandsworth   \n",
      "508705  524704.182822  173281.028077  Augustus Road     Wandsworth   \n",
      "508706  524704.182822  173281.028077  Augustus Road     Wandsworth   \n",
      "\n",
      "       Functional cycling area  Unnamed: 0_y  ...   Direction Start hour  \\\n",
      "0                        Inner             0  ...  Northbound        6.0   \n",
      "1                        Inner             1  ...  Northbound        6.0   \n",
      "2                        Inner             2  ...  Northbound        6.0   \n",
      "3                        Inner             3  ...  Northbound        6.0   \n",
      "4                        Inner             4  ...  Northbound        7.0   \n",
      "...                        ...           ...  ...         ...        ...   \n",
      "508702                   Inner        508702  ...   Westbound       20.0   \n",
      "508703                   Inner        508703  ...   Westbound       21.0   \n",
      "508704                   Inner        508704  ...   Westbound       21.0   \n",
      "508705                   Inner        508705  ...   Westbound       21.0   \n",
      "508706                   Inner        508706  ...   Westbound       21.0   \n",
      "\n",
      "       Start minute Number of private cycles Number of cycle hire bikes  \\\n",
      "0               0.0                        1                          0   \n",
      "1              15.0                        2                          0   \n",
      "2              30.0                        2                          0   \n",
      "3              45.0                        4                          0   \n",
      "4               0.0                        4                          0   \n",
      "...             ...                      ...                        ...   \n",
      "508702         45.0                        3                          0   \n",
      "508703          0.0                        2                          0   \n",
      "508704         15.0                        2                          0   \n",
      "508705         30.0                        2                          0   \n",
      "508706         45.0                        0                          0   \n",
      "\n",
      "       Total cycles        Date        Day  ffill_date  ffill_day  \n",
      "0                 1  2015-05-20  Wednesday  2015-05-20  Wednesday  \n",
      "1                 2  2015-05-20  Wednesday  2015-05-20  Wednesday  \n",
      "2                 2  2015-05-20  Wednesday  2015-05-20  Wednesday  \n",
      "3                 4  2015-05-20  Wednesday  2015-05-20  Wednesday  \n",
      "4                 4  2015-05-20  Wednesday  2015-05-20  Wednesday  \n",
      "...             ...         ...        ...         ...        ...  \n",
      "508702            3  2021-05-26  Wednesday  2021-05-26  Wednesday  \n",
      "508703            2  2021-05-26  Wednesday  2021-05-26  Wednesday  \n",
      "508704            2  2021-05-26  Wednesday  2021-05-26  Wednesday  \n",
      "508705            2  2021-05-26  Wednesday  2021-05-26  Wednesday  \n",
      "508706            0  2021-05-26  Wednesday  2021-05-26  Wednesday  \n",
      "\n",
      "[508707 rows x 26 columns]\n",
      "<class 'pandas.core.frame.DataFrame'>\n",
      "Int64Index: 508707 entries, 0 to 508706\n",
      "Data columns (total 26 columns):\n",
      " #   Column                      Non-Null Count   Dtype  \n",
      "---  ------                      --------------   -----  \n",
      " 0   Unnamed: 0_x                508707 non-null  int64  \n",
      " 1   UnqID                       508707 non-null  object \n",
      " 2   ProgID                      508707 non-null  object \n",
      " 3   SurveyDescription           508707 non-null  object \n",
      " 4   Easting                     508707 non-null  float64\n",
      " 5   Northing                    508707 non-null  float64\n",
      " 6   Location_x                  508707 non-null  object \n",
      " 7   Borough                     508707 non-null  object \n",
      " 8   Functional cycling area     508707 non-null  object \n",
      " 9   Unnamed: 0_y                508707 non-null  int64  \n",
      " 10  Survey wave (year)          508707 non-null  int64  \n",
      " 11  Location_y                  508707 non-null  object \n",
      " 12  Survey date                 505955 non-null  object \n",
      " 13  Weather                     508707 non-null  object \n",
      " 14  Time                        508701 non-null  object \n",
      " 15  Period                      508701 non-null  object \n",
      " 16  Direction                   508707 non-null  object \n",
      " 17  Start hour                  508701 non-null  float64\n",
      " 18  Start minute                508701 non-null  float64\n",
      " 19  Number of private cycles    508707 non-null  int64  \n",
      " 20  Number of cycle hire bikes  508707 non-null  int64  \n",
      " 21  Total cycles                508707 non-null  int64  \n",
      " 22  Date                        505955 non-null  object \n",
      " 23  Day                         505955 non-null  object \n",
      " 24  ffill_date                  508707 non-null  object \n",
      " 25  ffill_day                   508707 non-null  object \n",
      "dtypes: float64(4), int64(6), object(16)\n",
      "memory usage: 104.8+ MB\n",
      "None\n"
     ]
    },
    {
     "data": {
      "text/html": [
       "<div>\n",
       "<style scoped>\n",
       "    .dataframe tbody tr th:only-of-type {\n",
       "        vertical-align: middle;\n",
       "    }\n",
       "\n",
       "    .dataframe tbody tr th {\n",
       "        vertical-align: top;\n",
       "    }\n",
       "\n",
       "    .dataframe thead th {\n",
       "        text-align: right;\n",
       "    }\n",
       "</style>\n",
       "<table border=\"1\" class=\"dataframe\">\n",
       "  <thead>\n",
       "    <tr style=\"text-align: right;\">\n",
       "      <th></th>\n",
       "      <th>Unnamed: 0_x</th>\n",
       "      <th>UnqID</th>\n",
       "      <th>ProgID</th>\n",
       "      <th>SurveyDescription</th>\n",
       "      <th>Easting</th>\n",
       "      <th>Northing</th>\n",
       "      <th>Location_x</th>\n",
       "      <th>Borough</th>\n",
       "      <th>Functional cycling area</th>\n",
       "      <th>Unnamed: 0_y</th>\n",
       "      <th>...</th>\n",
       "      <th>Direction</th>\n",
       "      <th>Start hour</th>\n",
       "      <th>Start minute</th>\n",
       "      <th>Number of private cycles</th>\n",
       "      <th>Number of cycle hire bikes</th>\n",
       "      <th>Total cycles</th>\n",
       "      <th>Date</th>\n",
       "      <th>Day</th>\n",
       "      <th>ffill_date</th>\n",
       "      <th>ffill_day</th>\n",
       "    </tr>\n",
       "  </thead>\n",
       "  <tbody>\n",
       "    <tr>\n",
       "      <th>0</th>\n",
       "      <td>579</td>\n",
       "      <td>INNCY001</td>\n",
       "      <td>INNCY</td>\n",
       "      <td>Inner area cycle surveys</td>\n",
       "      <td>536005.234595</td>\n",
       "      <td>183224.931664</td>\n",
       "      <td>Grove Road</td>\n",
       "      <td>Tower Hamlets</td>\n",
       "      <td>Inner</td>\n",
       "      <td>0</td>\n",
       "      <td>...</td>\n",
       "      <td>Northbound</td>\n",
       "      <td>6.0</td>\n",
       "      <td>0.0</td>\n",
       "      <td>1</td>\n",
       "      <td>0</td>\n",
       "      <td>1</td>\n",
       "      <td>2015-05-20</td>\n",
       "      <td>Wednesday</td>\n",
       "      <td>2015-05-20</td>\n",
       "      <td>Wednesday</td>\n",
       "    </tr>\n",
       "    <tr>\n",
       "      <th>1</th>\n",
       "      <td>579</td>\n",
       "      <td>INNCY001</td>\n",
       "      <td>INNCY</td>\n",
       "      <td>Inner area cycle surveys</td>\n",
       "      <td>536005.234595</td>\n",
       "      <td>183224.931664</td>\n",
       "      <td>Grove Road</td>\n",
       "      <td>Tower Hamlets</td>\n",
       "      <td>Inner</td>\n",
       "      <td>1</td>\n",
       "      <td>...</td>\n",
       "      <td>Northbound</td>\n",
       "      <td>6.0</td>\n",
       "      <td>15.0</td>\n",
       "      <td>2</td>\n",
       "      <td>0</td>\n",
       "      <td>2</td>\n",
       "      <td>2015-05-20</td>\n",
       "      <td>Wednesday</td>\n",
       "      <td>2015-05-20</td>\n",
       "      <td>Wednesday</td>\n",
       "    </tr>\n",
       "    <tr>\n",
       "      <th>2</th>\n",
       "      <td>579</td>\n",
       "      <td>INNCY001</td>\n",
       "      <td>INNCY</td>\n",
       "      <td>Inner area cycle surveys</td>\n",
       "      <td>536005.234595</td>\n",
       "      <td>183224.931664</td>\n",
       "      <td>Grove Road</td>\n",
       "      <td>Tower Hamlets</td>\n",
       "      <td>Inner</td>\n",
       "      <td>2</td>\n",
       "      <td>...</td>\n",
       "      <td>Northbound</td>\n",
       "      <td>6.0</td>\n",
       "      <td>30.0</td>\n",
       "      <td>2</td>\n",
       "      <td>0</td>\n",
       "      <td>2</td>\n",
       "      <td>2015-05-20</td>\n",
       "      <td>Wednesday</td>\n",
       "      <td>2015-05-20</td>\n",
       "      <td>Wednesday</td>\n",
       "    </tr>\n",
       "    <tr>\n",
       "      <th>3</th>\n",
       "      <td>579</td>\n",
       "      <td>INNCY001</td>\n",
       "      <td>INNCY</td>\n",
       "      <td>Inner area cycle surveys</td>\n",
       "      <td>536005.234595</td>\n",
       "      <td>183224.931664</td>\n",
       "      <td>Grove Road</td>\n",
       "      <td>Tower Hamlets</td>\n",
       "      <td>Inner</td>\n",
       "      <td>3</td>\n",
       "      <td>...</td>\n",
       "      <td>Northbound</td>\n",
       "      <td>6.0</td>\n",
       "      <td>45.0</td>\n",
       "      <td>4</td>\n",
       "      <td>0</td>\n",
       "      <td>4</td>\n",
       "      <td>2015-05-20</td>\n",
       "      <td>Wednesday</td>\n",
       "      <td>2015-05-20</td>\n",
       "      <td>Wednesday</td>\n",
       "    </tr>\n",
       "    <tr>\n",
       "      <th>4</th>\n",
       "      <td>579</td>\n",
       "      <td>INNCY001</td>\n",
       "      <td>INNCY</td>\n",
       "      <td>Inner area cycle surveys</td>\n",
       "      <td>536005.234595</td>\n",
       "      <td>183224.931664</td>\n",
       "      <td>Grove Road</td>\n",
       "      <td>Tower Hamlets</td>\n",
       "      <td>Inner</td>\n",
       "      <td>4</td>\n",
       "      <td>...</td>\n",
       "      <td>Northbound</td>\n",
       "      <td>7.0</td>\n",
       "      <td>0.0</td>\n",
       "      <td>4</td>\n",
       "      <td>0</td>\n",
       "      <td>4</td>\n",
       "      <td>2015-05-20</td>\n",
       "      <td>Wednesday</td>\n",
       "      <td>2015-05-20</td>\n",
       "      <td>Wednesday</td>\n",
       "    </tr>\n",
       "  </tbody>\n",
       "</table>\n",
       "<p>5 rows × 26 columns</p>\n",
       "</div>"
      ],
      "text/plain": [
       "   Unnamed: 0_x     UnqID ProgID         SurveyDescription        Easting  \\\n",
       "0           579  INNCY001  INNCY  Inner area cycle surveys  536005.234595   \n",
       "1           579  INNCY001  INNCY  Inner area cycle surveys  536005.234595   \n",
       "2           579  INNCY001  INNCY  Inner area cycle surveys  536005.234595   \n",
       "3           579  INNCY001  INNCY  Inner area cycle surveys  536005.234595   \n",
       "4           579  INNCY001  INNCY  Inner area cycle surveys  536005.234595   \n",
       "\n",
       "        Northing  Location_x        Borough Functional cycling area  \\\n",
       "0  183224.931664  Grove Road  Tower Hamlets                   Inner   \n",
       "1  183224.931664  Grove Road  Tower Hamlets                   Inner   \n",
       "2  183224.931664  Grove Road  Tower Hamlets                   Inner   \n",
       "3  183224.931664  Grove Road  Tower Hamlets                   Inner   \n",
       "4  183224.931664  Grove Road  Tower Hamlets                   Inner   \n",
       "\n",
       "   Unnamed: 0_y  ...   Direction Start hour Start minute  \\\n",
       "0             0  ...  Northbound        6.0          0.0   \n",
       "1             1  ...  Northbound        6.0         15.0   \n",
       "2             2  ...  Northbound        6.0         30.0   \n",
       "3             3  ...  Northbound        6.0         45.0   \n",
       "4             4  ...  Northbound        7.0          0.0   \n",
       "\n",
       "  Number of private cycles Number of cycle hire bikes Total cycles  \\\n",
       "0                        1                          0            1   \n",
       "1                        2                          0            2   \n",
       "2                        2                          0            2   \n",
       "3                        4                          0            4   \n",
       "4                        4                          0            4   \n",
       "\n",
       "         Date        Day  ffill_date  ffill_day  \n",
       "0  2015-05-20  Wednesday  2015-05-20  Wednesday  \n",
       "1  2015-05-20  Wednesday  2015-05-20  Wednesday  \n",
       "2  2015-05-20  Wednesday  2015-05-20  Wednesday  \n",
       "3  2015-05-20  Wednesday  2015-05-20  Wednesday  \n",
       "4  2015-05-20  Wednesday  2015-05-20  Wednesday  \n",
       "\n",
       "[5 rows x 26 columns]"
      ]
     },
     "execution_count": 18,
     "metadata": {},
     "output_type": "execute_result"
    }
   ],
   "source": [
    "import pandas as pd\n",
    "  \n",
    "# reading two csv files\n",
    "data10 = pd.read_csv('london_inner_cl.csv')\n",
    "data13 = pd.read_csv('london_sites_cl.csv')\n",
    "\n",
    "output3 = data13.merge(data10.rename(columns={'Site ID': 'UnqID'}),\n",
    "                   how='inner',\n",
    "                   on='UnqID', \n",
    "                   copy=False)\n",
    "print(output3)\n",
    "  \n",
    "# displaying result\n",
    "print(output3.info())\n",
    "output3.head()"
   ]
  },
  {
   "cell_type": "code",
   "execution_count": 30,
   "id": "5d7e1370",
   "metadata": {
    "scrolled": false
   },
   "outputs": [
    {
     "data": {
      "text/plain": [
       "<AxesSubplot:xlabel='Survey wave (year)'>"
      ]
     },
     "execution_count": 30,
     "metadata": {},
     "output_type": "execute_result"
    },
    {
     "data": {
      "image/png": "[encoded data removed]",
      "text/plain": [
       "<Figure size 432x288 with 1 Axes>"
      ]
     },
     "metadata": {
      "needs_background": "light"
     },
     "output_type": "display_data"
    }
   ],
   "source": [
    "output3.plot(x=\"Survey wave (year)\", y=[\"Number of cycle hire bikes\", \"Borough\"])\n"
   ]
  },
  {
   "cell_type": "code",
   "execution_count": 349,
   "id": "b0c4006c",
   "metadata": {},
   "outputs": [
    {
     "data": {
      "text/plain": [
       "max    5642\n",
       "min       0\n",
       "Name: Number of cycle hire bikes, dtype: int64"
      ]
     },
     "execution_count": 349,
     "metadata": {},
     "output_type": "execute_result"
    }
   ],
   "source": [
    "output3.groupby(['Borough','Survey wave (year)']).sum()['Number of cycle hire bikes'].agg(\n",
    "max=('max'),\n",
    "    min=('min'))"
   ]
  },
  {
   "cell_type": "code",
   "execution_count": 352,
   "id": "7e58ad38",
   "metadata": {
    "scrolled": true
   },
   "outputs": [
    {
     "data": {
      "text/plain": [
       "<AxesSubplot:xlabel='Borough'>"
      ]
     },
     "execution_count": 352,
     "metadata": {},
     "output_type": "execute_result"
    },
    {
     "data": {
      "image/png": "[encoded data removed]",
      "text/plain": [
       "<Figure size 1080x504 with 1 Axes>"
      ]
     },
     "metadata": {},
     "output_type": "display_data"
    }
   ],
   "source": [
    "#import libraries\n",
    "import pandas as pd\n",
    "import matplotlib.pyplot as plt\n",
    "import random\n",
    "\n",
    "%matplotlib inline\n",
    "\n",
    "#set ggplot style\n",
    "plt.style.use('ggplot')\n",
    "\n",
    "\n",
    "# plot data\n",
    "fig, ax = plt.subplots(figsize=(15,7))\n",
    "# use unstack()\n",
    "output3.groupby(['Borough','Period']).count()['Number of cycle hire bikes'].unstack().plot(ax=ax)\n"
   ]
  },
  {
   "cell_type": "code",
   "execution_count": null,
   "id": "0767667b",
   "metadata": {},
   "outputs": [],
   "source": [
    "it can be seen here at that most of borough prefer inter- peak time to use a bike hired a bike station.\n",
    "leading to the conclusion that this maybe due people using hired bikes usually on the weekend or on holidays."
   ]
  },
  {
   "cell_type": "code",
   "execution_count": 358,
   "id": "54280d4b",
   "metadata": {
    "scrolled": true
   },
   "outputs": [
    {
     "data": {
      "text/plain": [
       "<AxesSubplot:xlabel='Period'>"
      ]
     },
     "execution_count": 358,
     "metadata": {},
     "output_type": "execute_result"
    },
    {
     "data": {
      "image/png": "[encoded data removed]",
      "text/plain": [
       "<Figure size 1080x504 with 1 Axes>"
      ]
     },
     "metadata": {},
     "output_type": "display_data"
    }
   ],
   "source": [
    "#import libraries\n",
    "import pandas as pd\n",
    "import matplotlib.pyplot as plt\n",
    "import random\n",
    "\n",
    "%matplotlib inline\n",
    "\n",
    "#set ggplot style\n",
    "plt.style.use('ggplot')\n",
    "\n",
    "\n",
    "# plot data\n",
    "fig, ax = plt.subplots(figsize=(15,7))\n",
    "# use unstack()\n",
    "output3.groupby(['Period','Day']).count()['Number of cycle hire bikes'].unstack().plot(ax=ax)\n"
   ]
  },
  {
   "cell_type": "markdown",
   "id": "3e7b6915",
   "metadata": {},
   "source": [
    "our earlier observation was correct people did use hired bike in inner london during inter-peak but preferably on wednesday then on tuesday and thursadys and follwed by firday more in depth analysis required.    "
   ]
  },
  {
   "cell_type": "markdown",
   "id": "e37cb117",
   "metadata": {},
   "source": [
    "#### coming back to inner london and mapping the hired bikes grouped along survey wave year and borough to get the trend over the years from 2014-2021 and making observations."
   ]
  },
  {
   "cell_type": "code",
   "execution_count": 370,
   "id": "3a71c197",
   "metadata": {},
   "outputs": [
    {
     "name": "stdout",
     "output_type": "stream",
     "text": [
      "Survey wave (year)  Borough             \n",
      "2021                Brent                     20\n",
      "2019                Brent                     14\n",
      "                    Bromley                    2\n",
      "2017                Bromley                    1\n",
      "2019                Camden                   698\n",
      "2020                Camden                   605\n",
      "2021                Ealing                    25\n",
      "2020                Ealing                    18\n",
      "2016                Greenwich                  1\n",
      "2021                Greenwich                  1\n",
      "2019                Hackney                 1092\n",
      "2020                Hackney                  841\n",
      "2021                Hammersmith & Fulham    3393\n",
      "2020                Hammersmith & Fulham    2607\n",
      "2019                Haringey                  24\n",
      "2021                Haringey                  12\n",
      "2017                Hounslow                  32\n",
      "2019                Hounslow                   6\n",
      "2020                Islington               1402\n",
      "2019                Islington               1217\n",
      "                    Kensington & Chelsea    5642\n",
      "2018                Kensington & Chelsea    4848\n",
      "2019                Lambeth                 1068\n",
      "2021                Lambeth                  859\n",
      "                    Lewisham                  46\n",
      "2020                Lewisham                  36\n",
      "                    Merton                    13\n",
      "2017                Merton                     9\n",
      "2020                Newham                    45\n",
      "2019                Newham                    41\n",
      "                    Richmond upon Thames      47\n",
      "2015                Richmond upon Thames      41\n",
      "2019                Southwark                364\n",
      "2020                Southwark                322\n",
      "2019                Tower Hamlets           3418\n",
      "2018                Tower Hamlets           3414\n",
      "2020                Waltham Forest             9\n",
      "2015                Waltham Forest             4\n",
      "2019                Wandsworth              2596\n",
      "2021                Wandsworth              2190\n",
      "2019                Westminster             5134\n",
      "2018                Westminster             4955\n",
      "Name: Number of cycle hire bikes, dtype: int64\n"
     ]
    }
   ],
   "source": [
    "df1=output3.groupby(['Survey wave (year)','Borough',]\n",
    " ).sum()['Number of cycle hire bikes'].groupby('Borough', group_keys=False).nlargest(2)\n",
    "print(df1)"
   ]
  },
  {
   "cell_type": "code",
   "execution_count": 365,
   "id": "fb577c04",
   "metadata": {
    "scrolled": true
   },
   "outputs": [
    {
     "data": {
      "text/plain": [
       "Text(0, 0.5, 'years where the number were highest')"
      ]
     },
     "execution_count": 365,
     "metadata": {},
     "output_type": "execute_result"
    },
    {
     "data": {
      "image/png": "[encoded data removed]",
      "text/plain": [
       "<Figure size 1080x504 with 1 Axes>"
      ]
     },
     "metadata": {},
     "output_type": "display_data"
    }
   ],
   "source": [
    "# plot data\n",
    "fig, ax = plt.subplots(figsize=(15,7))\n",
    "# use unstack()\n",
    "output3.groupby(['Borough','Survey wave (year)']\n",
    " ).sum()['Number of cycle hire bikes'].groupby('Borough', group_keys=False).nlargest(4).unstack().plot.bar(ax=ax)\n",
    "ax.set_xlabel('classification based on Borough')\n",
    "ax.set_ylabel('years where the number were highest')\n",
    "\n"
   ]
  },
  {
   "cell_type": "markdown",
   "id": "198c4fbb",
   "metadata": {},
   "source": [
    "1)looking from the inner data after covid-19  set and closley observing the number in 2021 the kingston & chelsea had good numbers with 3191, westminister  had 3938, hammersmith & fullham had 3393 wandsworth had 2190,tower of hamlet was at 1139.\n",
    "\n",
    "2)people were coming to normal back in these areas and number were going up for inner london but overall we had to seen growth like in central lodnon more data base serach needed if talk about the whole london situation on hired bikes.\n",
    "\n",
    "\n",
    "\n",
    "\n",
    "\n"
   ]
  },
  {
   "cell_type": "markdown",
   "id": "7d7e6882",
   "metadata": {},
   "source": [
    "# exploring data set  available on tfl by santandar about hired bikes data."
   ]
  },
  {
   "cell_type": "code",
   "execution_count": 214,
   "id": "b3fe7158",
   "metadata": {},
   "outputs": [
    {
     "name": "stdout",
     "output_type": "stream",
     "text": [
      "<class 'pandas.core.frame.DataFrame'>\n",
      "RangeIndex: 4538 entries, 0 to 4537\n",
      "Data columns (total 11 columns):\n",
      " #   Column                     Non-Null Count  Dtype         \n",
      "---  ------                     --------------  -----         \n",
      " 0   Day                        4538 non-null   datetime64[ns]\n",
      " 1   Number of Bicycle Hires    4538 non-null   int64         \n",
      " 2   Unnamed: 2                 0 non-null      float64       \n",
      " 3   Month                      150 non-null    datetime64[ns]\n",
      " 4   Number of Bicycle Hires.1  150 non-null    float64       \n",
      " 5   Unnamed: 5                 0 non-null      float64       \n",
      " 6   Year                       13 non-null     float64       \n",
      " 7   Number of Bicycle Hires.2  13 non-null     float64       \n",
      " 8   Unnamed: 8                 0 non-null      float64       \n",
      " 9   Month.1                    150 non-null    datetime64[ns]\n",
      " 10  Average Hire Time (mins)   150 non-null    float64       \n",
      "dtypes: datetime64[ns](3), float64(7), int64(1)\n",
      "memory usage: 390.1 KB\n",
      "None\n"
     ]
    }
   ],
   "source": [
    "import pandas as pd\n",
    "\n",
    "new = pd.read_excel('tfl_daily_cycle_hires1.xlsx')\n",
    "print(new.info())\n"
   ]
  },
  {
   "cell_type": "code",
   "execution_count": 225,
   "id": "1530fa49",
   "metadata": {},
   "outputs": [
    {
     "name": "stdout",
     "output_type": "stream",
     "text": [
      "<class 'pandas.core.frame.DataFrame'>\n",
      "RangeIndex: 4538 entries, 0 to 4537\n",
      "Data columns (total 8 columns):\n",
      " #   Column                     Non-Null Count  Dtype         \n",
      "---  ------                     --------------  -----         \n",
      " 0   Day                        4538 non-null   datetime64[ns]\n",
      " 1   Number of Bicycle Hires    4538 non-null   int64         \n",
      " 2   Month                      150 non-null    datetime64[ns]\n",
      " 3   Number of Bicycle Hires.1  150 non-null    float64       \n",
      " 4   Year                       13 non-null     float64       \n",
      " 5   Number of Bicycle Hires.2  13 non-null     float64       \n",
      " 6   Month.1                    150 non-null    datetime64[ns]\n",
      " 7   Average Hire Time (mins)   150 non-null    float64       \n",
      "dtypes: datetime64[ns](3), float64(4), int64(1)\n",
      "memory usage: 283.8 KB\n"
     ]
    },
    {
     "data": {
      "text/html": [
       "<div>\n",
       "<style scoped>\n",
       "    .dataframe tbody tr th:only-of-type {\n",
       "        vertical-align: middle;\n",
       "    }\n",
       "\n",
       "    .dataframe tbody tr th {\n",
       "        vertical-align: top;\n",
       "    }\n",
       "\n",
       "    .dataframe thead th {\n",
       "        text-align: right;\n",
       "    }\n",
       "</style>\n",
       "<table border=\"1\" class=\"dataframe\">\n",
       "  <thead>\n",
       "    <tr style=\"text-align: right;\">\n",
       "      <th></th>\n",
       "      <th>Day</th>\n",
       "      <th>Number of Bicycle Hires</th>\n",
       "      <th>Month</th>\n",
       "      <th>Number of Bicycle Hires.1</th>\n",
       "      <th>Year</th>\n",
       "      <th>Number of Bicycle Hires.2</th>\n",
       "      <th>Month.1</th>\n",
       "      <th>Average Hire Time (mins)</th>\n",
       "    </tr>\n",
       "  </thead>\n",
       "  <tbody>\n",
       "    <tr>\n",
       "      <th>0</th>\n",
       "      <td>2010-07-30</td>\n",
       "      <td>6897</td>\n",
       "      <td>2010-07-01</td>\n",
       "      <td>12461.0</td>\n",
       "      <td>2010.0</td>\n",
       "      <td>2180813.0</td>\n",
       "      <td>2010-07-01</td>\n",
       "      <td>17.232566</td>\n",
       "    </tr>\n",
       "    <tr>\n",
       "      <th>1</th>\n",
       "      <td>2010-07-31</td>\n",
       "      <td>5564</td>\n",
       "      <td>2010-08-01</td>\n",
       "      <td>341203.0</td>\n",
       "      <td>2011.0</td>\n",
       "      <td>7142449.0</td>\n",
       "      <td>2010-08-01</td>\n",
       "      <td>16.551880</td>\n",
       "    </tr>\n",
       "    <tr>\n",
       "      <th>2</th>\n",
       "      <td>2010-08-01</td>\n",
       "      <td>4303</td>\n",
       "      <td>2010-09-01</td>\n",
       "      <td>540859.0</td>\n",
       "      <td>2012.0</td>\n",
       "      <td>9519283.0</td>\n",
       "      <td>2010-09-01</td>\n",
       "      <td>15.219079</td>\n",
       "    </tr>\n",
       "    <tr>\n",
       "      <th>3</th>\n",
       "      <td>2010-08-02</td>\n",
       "      <td>6642</td>\n",
       "      <td>2010-10-01</td>\n",
       "      <td>544412.0</td>\n",
       "      <td>2013.0</td>\n",
       "      <td>8045459.0</td>\n",
       "      <td>2010-10-01</td>\n",
       "      <td>15.204481</td>\n",
       "    </tr>\n",
       "    <tr>\n",
       "      <th>4</th>\n",
       "      <td>2010-08-03</td>\n",
       "      <td>7966</td>\n",
       "      <td>2010-11-01</td>\n",
       "      <td>456304.0</td>\n",
       "      <td>2014.0</td>\n",
       "      <td>10023897.0</td>\n",
       "      <td>2010-11-01</td>\n",
       "      <td>13.776083</td>\n",
       "    </tr>\n",
       "    <tr>\n",
       "      <th>...</th>\n",
       "      <td>...</td>\n",
       "      <td>...</td>\n",
       "      <td>...</td>\n",
       "      <td>...</td>\n",
       "      <td>...</td>\n",
       "      <td>...</td>\n",
       "      <td>...</td>\n",
       "      <td>...</td>\n",
       "    </tr>\n",
       "    <tr>\n",
       "      <th>4533</th>\n",
       "      <td>2022-12-27</td>\n",
       "      <td>7002</td>\n",
       "      <td>NaT</td>\n",
       "      <td>NaN</td>\n",
       "      <td>NaN</td>\n",
       "      <td>NaN</td>\n",
       "      <td>NaT</td>\n",
       "      <td>NaN</td>\n",
       "    </tr>\n",
       "    <tr>\n",
       "      <th>4534</th>\n",
       "      <td>2022-12-28</td>\n",
       "      <td>6461</td>\n",
       "      <td>NaT</td>\n",
       "      <td>NaN</td>\n",
       "      <td>NaN</td>\n",
       "      <td>NaN</td>\n",
       "      <td>NaT</td>\n",
       "      <td>NaN</td>\n",
       "    </tr>\n",
       "    <tr>\n",
       "      <th>4535</th>\n",
       "      <td>2022-12-29</td>\n",
       "      <td>11264</td>\n",
       "      <td>NaT</td>\n",
       "      <td>NaN</td>\n",
       "      <td>NaN</td>\n",
       "      <td>NaN</td>\n",
       "      <td>NaT</td>\n",
       "      <td>NaN</td>\n",
       "    </tr>\n",
       "    <tr>\n",
       "      <th>4536</th>\n",
       "      <td>2022-12-30</td>\n",
       "      <td>9327</td>\n",
       "      <td>NaT</td>\n",
       "      <td>NaN</td>\n",
       "      <td>NaN</td>\n",
       "      <td>NaN</td>\n",
       "      <td>NaT</td>\n",
       "      <td>NaN</td>\n",
       "    </tr>\n",
       "    <tr>\n",
       "      <th>4537</th>\n",
       "      <td>2022-12-31</td>\n",
       "      <td>7619</td>\n",
       "      <td>NaT</td>\n",
       "      <td>NaN</td>\n",
       "      <td>NaN</td>\n",
       "      <td>NaN</td>\n",
       "      <td>NaT</td>\n",
       "      <td>NaN</td>\n",
       "    </tr>\n",
       "  </tbody>\n",
       "</table>\n",
       "<p>4538 rows × 8 columns</p>\n",
       "</div>"
      ],
      "text/plain": [
       "            Day  Number of Bicycle Hires      Month  \\\n",
       "0    2010-07-30                     6897 2010-07-01   \n",
       "1    2010-07-31                     5564 2010-08-01   \n",
       "2    2010-08-01                     4303 2010-09-01   \n",
       "3    2010-08-02                     6642 2010-10-01   \n",
       "4    2010-08-03                     7966 2010-11-01   \n",
       "...         ...                      ...        ...   \n",
       "4533 2022-12-27                     7002        NaT   \n",
       "4534 2022-12-28                     6461        NaT   \n",
       "4535 2022-12-29                    11264        NaT   \n",
       "4536 2022-12-30                     9327        NaT   \n",
       "4537 2022-12-31                     7619        NaT   \n",
       "\n",
       "      Number of Bicycle Hires.1    Year  Number of Bicycle Hires.2    Month.1  \\\n",
       "0                       12461.0  2010.0                  2180813.0 2010-07-01   \n",
       "1                      341203.0  2011.0                  7142449.0 2010-08-01   \n",
       "2                      540859.0  2012.0                  9519283.0 2010-09-01   \n",
       "3                      544412.0  2013.0                  8045459.0 2010-10-01   \n",
       "4                      456304.0  2014.0                 10023897.0 2010-11-01   \n",
       "...                         ...     ...                        ...        ...   \n",
       "4533                        NaN     NaN                        NaN        NaT   \n",
       "4534                        NaN     NaN                        NaN        NaT   \n",
       "4535                        NaN     NaN                        NaN        NaT   \n",
       "4536                        NaN     NaN                        NaN        NaT   \n",
       "4537                        NaN     NaN                        NaN        NaT   \n",
       "\n",
       "      Average Hire Time (mins)  \n",
       "0                    17.232566  \n",
       "1                    16.551880  \n",
       "2                    15.219079  \n",
       "3                    15.204481  \n",
       "4                    13.776083  \n",
       "...                        ...  \n",
       "4533                       NaN  \n",
       "4534                       NaN  \n",
       "4535                       NaN  \n",
       "4536                       NaN  \n",
       "4537                       NaN  \n",
       "\n",
       "[4538 rows x 8 columns]"
      ]
     },
     "execution_count": 225,
     "metadata": {},
     "output_type": "execute_result"
    }
   ],
   "source": [
    "new= new.loc[:, ~new.columns.str.contains('^Unnamed')]\n",
    "new.info()\n"
   ]
  },
  {
   "cell_type": "markdown",
   "id": "212c935c",
   "metadata": {},
   "source": [
    " ## mapping the number of hired bike cycles , over the years for santandar data on hired bikes."
   ]
  },
  {
   "cell_type": "code",
   "execution_count": 282,
   "id": "12e3f837",
   "metadata": {},
   "outputs": [
    {
     "data": {
      "image/png": "[encoded data removed]",
      "text/plain": [
       "<Figure size 1080x864 with 1 Axes>"
      ]
     },
     "metadata": {},
     "output_type": "display_data"
    }
   ],
   "source": [
    "# import all the libraries\n",
    "import numpy as np\n",
    "import pandas as pd\n",
    "import matplotlib.pyplot as pl\n",
    "\n",
    "# to plot the graph\n",
    "new.plot(x=\"Year\", y=\"Number of Bicycle Hires.2\", kind=\"line\")\n",
    "plt.show()\n",
    "\n"
   ]
  },
  {
   "cell_type": "markdown",
   "id": "fc79a2ad",
   "metadata": {},
   "source": [
    "1)the above data was avialabe suggested that santandar bikes number were increasing and at rapid rates from their  data set. and also they have introduced 800 new docking stations across london which also will give rise to hired bikes numbers  in inner london where the number were recovering at slow place also we needed to look at toursim prospect of london being  a city where people like to travel. \n",
    "\n",
    "2)it was announced on 6th october 2022 that Santander will continue to sponsor London's flagship cycle hire scheme until May 2025. This will support TfL as it moves forward with planned investment in cycle hire, ensuring the scheme continues to grow and encourages more Londoners to get cycling.\n"
   ]
  },
  {
   "cell_type": "code",
   "execution_count": null,
   "id": "3ad7ff36",
   "metadata": {},
   "outputs": [],
   "source": []
  },
  {
   "cell_type": "code",
   "execution_count": 271,
   "id": "46bfc7ae",
   "metadata": {
    "scrolled": true
   },
   "outputs": [
    {
     "data": {
      "image/png": "[encoded data removed]",
      "text/plain": [
       "<Figure size 1080x864 with 1 Axes>"
      ]
     },
     "metadata": {},
     "output_type": "display_data"
    }
   ],
   "source": [
    "# import all the libraries\n",
    "import numpy as np\n",
    "import pandas as pd\n",
    "import matplotlib.pyplot as pl\n",
    "\n",
    "# to plot the graph\n",
    "new.plot(x=\"Month.1\", y=\"Average Hire Time (mins)\", kind=\"line\")\n",
    "plt.show()"
   ]
  },
  {
   "cell_type": "markdown",
   "id": "5af4915b",
   "metadata": {},
   "source": [
    "the above graph represents the maximum time people have used santander bikes whhich ranges from 35 min to 14 min hence they acheived a peak in number during the month of April 2022. "
   ]
  },
  {
   "cell_type": "code",
   "execution_count": null,
   "id": "52b0e856",
   "metadata": {},
   "outputs": [],
   "source": []
  },
  {
   "cell_type": "markdown",
   "id": "ac02ee29",
   "metadata": {},
   "source": [
    "### exploring tourists  visits  to london from 2018-2020 from data avaliable on ons."
   ]
  },
  {
   "cell_type": "code",
   "execution_count": 325,
   "id": "32c11a73",
   "metadata": {},
   "outputs": [
    {
     "name": "stdout",
     "output_type": "stream",
     "text": [
      "<class 'pandas.core.frame.DataFrame'>\n",
      "RangeIndex: 61462 entries, 0 to 61461\n",
      "Data columns (total 11 columns):\n",
      " #   Column         Non-Null Count  Dtype  \n",
      "---  ------         --------------  -----  \n",
      " 0   year           61462 non-null  object \n",
      " 1   quarter        61462 non-null  object \n",
      " 2   market         61462 non-null  object \n",
      " 3   dur_stay       61462 non-null  object \n",
      " 4   mode           61462 non-null  object \n",
      " 5   purpose        61462 non-null  object \n",
      " 6   area           61462 non-null  object \n",
      " 7   Visits (000s)  61462 non-null  float64\n",
      " 8   Spend (£m)     61462 non-null  float64\n",
      " 9   Nights (000s)  61462 non-null  float64\n",
      " 10  sample         61462 non-null  int64  \n",
      "dtypes: float64(3), int64(1), object(7)\n",
      "memory usage: 5.2+ MB\n",
      "None\n"
     ]
    },
    {
     "data": {
      "text/html": [
       "<div>\n",
       "<style scoped>\n",
       "    .dataframe tbody tr th:only-of-type {\n",
       "        vertical-align: middle;\n",
       "    }\n",
       "\n",
       "    .dataframe tbody tr th {\n",
       "        vertical-align: top;\n",
       "    }\n",
       "\n",
       "    .dataframe thead th {\n",
       "        text-align: right;\n",
       "    }\n",
       "</style>\n",
       "<table border=\"1\" class=\"dataframe\">\n",
       "  <thead>\n",
       "    <tr style=\"text-align: right;\">\n",
       "      <th></th>\n",
       "      <th>year</th>\n",
       "      <th>quarter</th>\n",
       "      <th>market</th>\n",
       "      <th>dur_stay</th>\n",
       "      <th>mode</th>\n",
       "      <th>purpose</th>\n",
       "      <th>area</th>\n",
       "      <th>Visits (000s)</th>\n",
       "      <th>Spend (£m)</th>\n",
       "      <th>Nights (000s)</th>\n",
       "      <th>sample</th>\n",
       "    </tr>\n",
       "  </thead>\n",
       "  <tbody>\n",
       "    <tr>\n",
       "      <th>0</th>\n",
       "      <td>2002</td>\n",
       "      <td>January-March</td>\n",
       "      <td>Belgium</td>\n",
       "      <td>1-3  nights</td>\n",
       "      <td>Air</td>\n",
       "      <td>Holiday</td>\n",
       "      <td>LONDON</td>\n",
       "      <td>3.572186</td>\n",
       "      <td>0.969138</td>\n",
       "      <td>6.954456</td>\n",
       "      <td>5</td>\n",
       "    </tr>\n",
       "    <tr>\n",
       "      <th>1</th>\n",
       "      <td>2002</td>\n",
       "      <td>January-March</td>\n",
       "      <td>Belgium</td>\n",
       "      <td>1-3  nights</td>\n",
       "      <td>Air</td>\n",
       "      <td>Business</td>\n",
       "      <td>LONDON</td>\n",
       "      <td>9.284226</td>\n",
       "      <td>2.399577</td>\n",
       "      <td>12.604959</td>\n",
       "      <td>19</td>\n",
       "    </tr>\n",
       "    <tr>\n",
       "      <th>2</th>\n",
       "      <td>2002</td>\n",
       "      <td>January-March</td>\n",
       "      <td>Belgium</td>\n",
       "      <td>1-3  nights</td>\n",
       "      <td>Air</td>\n",
       "      <td>VFR</td>\n",
       "      <td>LONDON</td>\n",
       "      <td>0.877182</td>\n",
       "      <td>0.089833</td>\n",
       "      <td>2.153128</td>\n",
       "      <td>3</td>\n",
       "    </tr>\n",
       "    <tr>\n",
       "      <th>3</th>\n",
       "      <td>2002</td>\n",
       "      <td>January-March</td>\n",
       "      <td>Belgium</td>\n",
       "      <td>1-3  nights</td>\n",
       "      <td>Air</td>\n",
       "      <td>Miscellaneous</td>\n",
       "      <td>LONDON</td>\n",
       "      <td>0.163874</td>\n",
       "      <td>0.010160</td>\n",
       "      <td>0.163874</td>\n",
       "      <td>1</td>\n",
       "    </tr>\n",
       "    <tr>\n",
       "      <th>4</th>\n",
       "      <td>2002</td>\n",
       "      <td>January-March</td>\n",
       "      <td>Belgium</td>\n",
       "      <td>1-3  nights</td>\n",
       "      <td>Sea</td>\n",
       "      <td>Business</td>\n",
       "      <td>LONDON</td>\n",
       "      <td>1.648670</td>\n",
       "      <td>0.016789</td>\n",
       "      <td>1.650300</td>\n",
       "      <td>1</td>\n",
       "    </tr>\n",
       "    <tr>\n",
       "      <th>...</th>\n",
       "      <td>...</td>\n",
       "      <td>...</td>\n",
       "      <td>...</td>\n",
       "      <td>...</td>\n",
       "      <td>...</td>\n",
       "      <td>...</td>\n",
       "      <td>...</td>\n",
       "      <td>...</td>\n",
       "      <td>...</td>\n",
       "      <td>...</td>\n",
       "      <td>...</td>\n",
       "    </tr>\n",
       "    <tr>\n",
       "      <th>61457</th>\n",
       "      <td>2020P</td>\n",
       "      <td>January-March</td>\n",
       "      <td>Other Africa</td>\n",
       "      <td>4-7  nights</td>\n",
       "      <td>Air</td>\n",
       "      <td>Miscellaneous</td>\n",
       "      <td>LONDON</td>\n",
       "      <td>1.695331</td>\n",
       "      <td>1.103167</td>\n",
       "      <td>8.831038</td>\n",
       "      <td>2</td>\n",
       "    </tr>\n",
       "    <tr>\n",
       "      <th>61458</th>\n",
       "      <td>2020P</td>\n",
       "      <td>January-March</td>\n",
       "      <td>Other Africa</td>\n",
       "      <td>8-14 nights</td>\n",
       "      <td>Air</td>\n",
       "      <td>Holiday</td>\n",
       "      <td>LONDON</td>\n",
       "      <td>1.486972</td>\n",
       "      <td>2.022254</td>\n",
       "      <td>7.836555</td>\n",
       "      <td>1</td>\n",
       "    </tr>\n",
       "    <tr>\n",
       "      <th>61459</th>\n",
       "      <td>2020P</td>\n",
       "      <td>January-March</td>\n",
       "      <td>Other Africa</td>\n",
       "      <td>8-14 nights</td>\n",
       "      <td>Air</td>\n",
       "      <td>VFR</td>\n",
       "      <td>LONDON</td>\n",
       "      <td>2.416554</td>\n",
       "      <td>1.847152</td>\n",
       "      <td>63.894432</td>\n",
       "      <td>2</td>\n",
       "    </tr>\n",
       "    <tr>\n",
       "      <th>61460</th>\n",
       "      <td>2020P</td>\n",
       "      <td>January-March</td>\n",
       "      <td>Other Africa</td>\n",
       "      <td>15+  nights</td>\n",
       "      <td>Air</td>\n",
       "      <td>Holiday</td>\n",
       "      <td>LONDON</td>\n",
       "      <td>2.472653</td>\n",
       "      <td>1.006109</td>\n",
       "      <td>35.080377</td>\n",
       "      <td>2</td>\n",
       "    </tr>\n",
       "    <tr>\n",
       "      <th>61461</th>\n",
       "      <td>2020P</td>\n",
       "      <td>January-March</td>\n",
       "      <td>Other Africa</td>\n",
       "      <td>15+  nights</td>\n",
       "      <td>Air</td>\n",
       "      <td>VFR</td>\n",
       "      <td>LONDON</td>\n",
       "      <td>4.124325</td>\n",
       "      <td>3.960705</td>\n",
       "      <td>134.909755</td>\n",
       "      <td>4</td>\n",
       "    </tr>\n",
       "  </tbody>\n",
       "</table>\n",
       "<p>61462 rows × 11 columns</p>\n",
       "</div>"
      ],
      "text/plain": [
       "        year        quarter        market     dur_stay mode        purpose  \\\n",
       "0       2002  January-March       Belgium  1-3  nights  Air        Holiday   \n",
       "1       2002  January-March       Belgium  1-3  nights  Air       Business   \n",
       "2       2002  January-March       Belgium  1-3  nights  Air            VFR   \n",
       "3       2002  January-March       Belgium  1-3  nights  Air  Miscellaneous   \n",
       "4       2002  January-March       Belgium  1-3  nights  Sea       Business   \n",
       "...      ...            ...           ...          ...  ...            ...   \n",
       "61457  2020P  January-March  Other Africa  4-7  nights  Air  Miscellaneous   \n",
       "61458  2020P  January-March  Other Africa  8-14 nights  Air        Holiday   \n",
       "61459  2020P  January-March  Other Africa  8-14 nights  Air            VFR   \n",
       "61460  2020P  January-March  Other Africa  15+  nights  Air        Holiday   \n",
       "61461  2020P  January-March  Other Africa  15+  nights  Air            VFR   \n",
       "\n",
       "          area  Visits (000s)  Spend (£m)  Nights (000s)  sample  \n",
       "0       LONDON       3.572186    0.969138       6.954456       5  \n",
       "1       LONDON       9.284226    2.399577      12.604959      19  \n",
       "2       LONDON       0.877182    0.089833       2.153128       3  \n",
       "3       LONDON       0.163874    0.010160       0.163874       1  \n",
       "4       LONDON       1.648670    0.016789       1.650300       1  \n",
       "...        ...            ...         ...            ...     ...  \n",
       "61457   LONDON       1.695331    1.103167       8.831038       2  \n",
       "61458   LONDON       1.486972    2.022254       7.836555       1  \n",
       "61459   LONDON       2.416554    1.847152      63.894432       2  \n",
       "61460   LONDON       2.472653    1.006109      35.080377       2  \n",
       "61461   LONDON       4.124325    3.960705     134.909755       4  \n",
       "\n",
       "[61462 rows x 11 columns]"
      ]
     },
     "execution_count": 325,
     "metadata": {},
     "output_type": "execute_result"
    }
   ],
   "source": [
    "import pandas as pd\n",
    "import pandas as pd\n",
    "\n",
    "tourist= pd.read_excel('international_tourists_london_cl.xlsx')\n",
    "print(tourist.info())\n",
    "tourist\n"
   ]
  },
  {
   "cell_type": "code",
   "execution_count": 328,
   "id": "ad17cf56",
   "metadata": {
    "scrolled": true
   },
   "outputs": [
    {
     "data": {
      "text/plain": [
       "<AxesSubplot:xlabel='Count', ylabel='market'>"
      ]
     },
     "execution_count": 328,
     "metadata": {},
     "output_type": "execute_result"
    },
    {
     "data": {
      "image/png": "[encoded data removed]",
      "text/plain": [
       "<Figure size 1080x864 with 1 Axes>"
      ]
     },
     "metadata": {},
     "output_type": "display_data"
    }
   ],
   "source": [
    "sns.histplot(data=tourist, y=\"market\",)\n",
    "\n"
   ]
  },
  {
   "cell_type": "markdown",
   "id": "64ddc394",
   "metadata": {},
   "source": [
    "the above figure show the number of tourist which come to london from different part of the world and the numbers on tourist are bound to increase after the recovery of covid-19.\n",
    "\n"
   ]
  },
  {
   "cell_type": "markdown",
   "id": "436609d8",
   "metadata": {},
   "source": [
    "## OVERALL OBSERVATION."
   ]
  },
  {
   "cell_type": "markdown",
   "id": "35bfcf97",
   "metadata": {},
   "source": [
    "WE can conclude that toursim is huge industry of london and the external on from ons about  toursim and santanders hired bike data availalbe on TFL whereas our analysis on makes an incentral london showed sign of recovery in after covid-19 and hired bikes numbers were going up in central london whereas a slow growth was found inner london numbers.\n",
    "\n",
    "we need a in depth anlaysis as toursim is huge  sector which in itself requires a different appproach and reseach about how to come with strategies of cycling in london \n",
    "the santandar data shows signs of huge market as they plan to invest and go ahead with introducing more e-bikes allows us to explore the hired bike data set from a different prospect."
   ]
  }
 ],
 "metadata": {
  "kernelspec": {
   "display_name": "Python 3 (ipykernel)",
   "language": "python",
   "name": "python3"
  },
  "language_info": {
   "codemirror_mode": {
    "name": "ipython",
    "version": 3
   },
   "file_extension": ".py",
   "mimetype": "text/x-python",
   "name": "python",
   "nbconvert_exporter": "python",
   "pygments_lexer": "ipython3",
   "version": "3.9.7"
  }
 },
 "nbformat": 4,
 "nbformat_minor": 5
}
